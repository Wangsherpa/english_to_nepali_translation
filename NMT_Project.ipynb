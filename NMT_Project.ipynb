{
  "nbformat": 4,
  "nbformat_minor": 0,
  "metadata": {
    "colab": {
      "name": "NMT-Project.ipynb",
      "provenance": [],
      "collapsed_sections": [],
      "include_colab_link": true
    },
    "kernelspec": {
      "name": "python3",
      "display_name": "Python 3"
    },
    "language_info": {
      "name": "python"
    },
    "accelerator": "GPU"
  },
  "cells": [
    {
      "cell_type": "markdown",
      "metadata": {
        "id": "view-in-github",
        "colab_type": "text"
      },
      "source": [
        "<a href=\"https://colab.research.google.com/github/Wangsherpa/english_to_nepali_translation/blob/main/NMT_Project.ipynb\" target=\"_parent\"><img src=\"https://colab.research.google.com/assets/colab-badge.svg\" alt=\"Open In Colab\"/></a>"
      ]
    },
    {
      "cell_type": "markdown",
      "metadata": {
        "id": "kd6Q4EyYxZAf"
      },
      "source": [
        "# Neural Machine Translation System\n",
        "## English to Nepali"
      ]
    },
    {
      "cell_type": "markdown",
      "metadata": {
        "id": "fZUMnxFcZMuN"
      },
      "source": [
        "## Import Necessary Packages"
      ]
    },
    {
      "cell_type": "code",
      "metadata": {
        "id": "47tHQTQnkeQj"
      },
      "source": [
        "import os\n",
        "import time\n",
        "import pickle\n",
        "import unicodedata\n",
        "import pandas as pd\n",
        "import numpy as np\n",
        "import string\n",
        "import matplotlib.pyplot as plt\n",
        "\n",
        "import tensorflow as tf\n",
        "from tensorflow.keras.layers import LSTM, Dense, Embedding, Input, GRU\n",
        "from tensorflow.keras.layers import TimeDistributed, RepeatVector\n",
        "from tensorflow import keras\n",
        "from tensorflow.keras.models import Model\n",
        "from tensorflow.keras.preprocessing.sequence import pad_sequences\n",
        "from tensorflow.keras.preprocessing.text import Tokenizer\n",
        "from tensorflow.keras.callbacks import ModelCheckpoint, EarlyStopping\n",
        "from keras.utils.vis_utils import plot_model\n",
        "\n",
        "from nltk.translate.bleu_score import corpus_bleu, sentence_bleu\n",
        "from nltk.translate.bleu_score import SmoothingFunction\n",
        "\n",
        "from sklearn.model_selection import train_test_split\n",
        "from IPython.display import clear_output"
      ],
      "execution_count": 91,
      "outputs": []
    },
    {
      "cell_type": "code",
      "metadata": {
        "colab": {
          "base_uri": "https://localhost:8080/"
        },
        "id": "fTaKPpAfx13y",
        "outputId": "0fa752f3-adea-454f-8a90-21370111f1e6"
      },
      "source": [
        "from google.colab import drive\n",
        "drive.mount('/content/drive')"
      ],
      "execution_count": 2,
      "outputs": [
        {
          "output_type": "stream",
          "text": [
            "Mounted at /content/drive\n"
          ],
          "name": "stdout"
        }
      ]
    },
    {
      "cell_type": "markdown",
      "metadata": {
        "id": "LKXB3VNlypdP"
      },
      "source": [
        "### Define paths"
      ]
    },
    {
      "cell_type": "code",
      "metadata": {
        "id": "0JVq_3LN8FdB"
      },
      "source": [
        "# model checkpoint paths\n",
        "checkpoint_1 = \"/content/drive/MyDrive/english-to-nepali-translation/Checkpoints/model_1\"\n",
        "checkpoint_2 = \"/content/drive/MyDrive/english-to-nepali-translation/Checkpoints/model_2\"\n",
        "checkpoint_3 = \"/content/drive/MyDrive/english-to-nepali-translation/Checkpoints/model_3\"\n",
        "checkpoint_4 = \"/content/drive/MyDrive/english-to-nepali-translation/Checkpoints/model_4\"\n",
        "\n",
        "# paths to save predictions\n",
        "prediction_dir = \"/content/drive/MyDrive/english-to-nepali-translation/predictions\""
      ],
      "execution_count": 3,
      "outputs": []
    },
    {
      "cell_type": "markdown",
      "metadata": {
        "id": "Cu3pK-rck-xV"
      },
      "source": [
        "### Load the data"
      ]
    },
    {
      "cell_type": "code",
      "metadata": {
        "colab": {
          "base_uri": "https://localhost:8080/"
        },
        "id": "WQBvKuTyo_Ks",
        "outputId": "a542f549-2296-49e9-afdc-fed4c8155fb5"
      },
      "source": [
        "# Download the data\n",
        "!wget --load-cookies /tmp/cookies.txt \"https://docs.google.com/uc?export=download&confirm=$(wget --quiet --save-cookies /tmp/cookies.txt --keep-session-cookies --no-check-certificate 'https://docs.google.com/uc?export=download&id=1pHhyR00L4Pi_ezg-p_jzVjhEMR9AoGlN' -O- | sed -rn 's/.*confirm=([0-9A-Za-z_]+).*/\\1\\n/p')&id=1pHhyR00L4Pi_ezg-p_jzVjhEMR9AoGlN\" -O eng_nepali.csv && rm -rf /tmp/cookies.txt\n",
        "clear_output()\n",
        "print(\"Dataset downloaded successfully!\")"
      ],
      "execution_count": 4,
      "outputs": [
        {
          "output_type": "stream",
          "text": [
            "Dataset downloaded successfully!\n"
          ],
          "name": "stdout"
        }
      ]
    },
    {
      "cell_type": "code",
      "metadata": {
        "colab": {
          "base_uri": "https://localhost:8080/",
          "height": 204
        },
        "id": "LlEWLiVAlAbi",
        "outputId": "afa8db74-4e06-4b00-9c76-a069d2f539ba"
      },
      "source": [
        "# set datapath\n",
        "datapath = \"/content/eng_nepali.csv\"\n",
        "# load the data\n",
        "dataset = pd.read_csv(datapath)\n",
        "dataset.head()"
      ],
      "execution_count": 5,
      "outputs": [
        {
          "output_type": "execute_result",
          "data": {
            "text/html": [
              "<div>\n",
              "<style scoped>\n",
              "    .dataframe tbody tr th:only-of-type {\n",
              "        vertical-align: middle;\n",
              "    }\n",
              "\n",
              "    .dataframe tbody tr th {\n",
              "        vertical-align: top;\n",
              "    }\n",
              "\n",
              "    .dataframe thead th {\n",
              "        text-align: right;\n",
              "    }\n",
              "</style>\n",
              "<table border=\"1\" class=\"dataframe\">\n",
              "  <thead>\n",
              "    <tr style=\"text-align: right;\">\n",
              "      <th></th>\n",
              "      <th>English</th>\n",
              "      <th>Nepali</th>\n",
              "    </tr>\n",
              "  </thead>\n",
              "  <tbody>\n",
              "    <tr>\n",
              "      <th>0</th>\n",
              "      <td>go</td>\n",
              "      <td>जानु</td>\n",
              "    </tr>\n",
              "    <tr>\n",
              "      <th>1</th>\n",
              "      <td>hi</td>\n",
              "      <td>हाई</td>\n",
              "    </tr>\n",
              "    <tr>\n",
              "      <th>2</th>\n",
              "      <td>run</td>\n",
              "      <td>दगुर्ने काम</td>\n",
              "    </tr>\n",
              "    <tr>\n",
              "      <th>3</th>\n",
              "      <td>fire</td>\n",
              "      <td>आगो</td>\n",
              "    </tr>\n",
              "    <tr>\n",
              "      <th>4</th>\n",
              "      <td>help</td>\n",
              "      <td>सहायता</td>\n",
              "    </tr>\n",
              "  </tbody>\n",
              "</table>\n",
              "</div>"
            ],
            "text/plain": [
              "  English       Nepali\n",
              "0      go         जानु\n",
              "1      hi          हाई\n",
              "2     run  दगुर्ने काम\n",
              "3    fire          आगो\n",
              "4    help       सहायता"
            ]
          },
          "metadata": {
            "tags": []
          },
          "execution_count": 5
        }
      ]
    },
    {
      "cell_type": "code",
      "metadata": {
        "colab": {
          "base_uri": "https://localhost:8080/"
        },
        "id": "4hsNGQ8oAVO1",
        "outputId": "2e824b72-f73e-48d6-8acc-8ecaa93e4180"
      },
      "source": [
        "# check the shape of the dataframe\n",
        "dataset.shape"
      ],
      "execution_count": 6,
      "outputs": [
        {
          "output_type": "execute_result",
          "data": {
            "text/plain": [
              "(9886, 2)"
            ]
          },
          "metadata": {
            "tags": []
          },
          "execution_count": 6
        }
      ]
    },
    {
      "cell_type": "markdown",
      "metadata": {
        "id": "77CEmVeXEJHe"
      },
      "source": [
        "**Preprocessing functions used for cleaning the dataset**"
      ]
    },
    {
      "cell_type": "code",
      "metadata": {
        "id": "_gQmeYEwEGQl"
      },
      "source": [
        "# create a dictionary for subwords\n",
        "dic = {\"won't\":\"will not\", \"ain't\":\"am not\", \"t\": \"not\", \"re\": \"are\", \"s\": \"is\", \"can't\": \"can not\", \n",
        "       \"ll\": \"will\", \"m\": \"am\", \"ve\": \"have\", \"let's\": \"let us\", \"d\": \"had\"}\n",
        "\n",
        "# function to create subwords\n",
        "def get_subwords(string):\n",
        "    if string in dic.keys():\n",
        "        return dic[string]\n",
        "    \n",
        "    string = string.split(\"'\")\n",
        "    if string[-1] in dic.keys():\n",
        "        last = dic[string[1]]\n",
        "    else:\n",
        "        last = string[-1]\n",
        "    if string[-1] == 't':\n",
        "        first = string[0][:-1]\n",
        "    else:\n",
        "        first = string[0]\n",
        "    return ' '.join([first, last])\n",
        "\n",
        "def add_subwords(sentence):\n",
        "    subword_map = {}\n",
        "    for word in sentence.split():\n",
        "        if \"'\" in word:\n",
        "            subwords = get_subwords(word)\n",
        "            subword_map[word] = subwords\n",
        "    for word, subword in subword_map.items():\n",
        "        sentence = sentence.replace(word, subword)\n",
        "    return sentence\n",
        "\n",
        "# clean english sentences\n",
        "def preprocess_english(sent):\n",
        "    # get list of punctuations but not \"'\"\n",
        "    punctuations = string.punctuation.replace(\"'\", \"\")\n",
        "    digits = string.digits\n",
        "    \n",
        "    remove_digits = str.maketrans('', '', digits)\n",
        "    # convert to lower case\n",
        "    sent = sent.lower()\n",
        "    sent = \"\".join([c for c in sent if c not in punctuations])\n",
        "    # remove numbers\n",
        "    sent = sent.translate(remove_digits)\n",
        "    # remove extra spaces \n",
        "    sent = sent.strip()\n",
        "    # replace words like don't, we've with do not, we have...\n",
        "    sent = add_subwords(sent)\n",
        "    return sent"
      ],
      "execution_count": 7,
      "outputs": []
    },
    {
      "cell_type": "markdown",
      "metadata": {
        "id": "LDn4nzo3FW5t"
      },
      "source": [
        "## Prepare data for English to Nepali Translation"
      ]
    },
    {
      "cell_type": "code",
      "metadata": {
        "id": "9jI9bh6t0UL_"
      },
      "source": [
        "# add start and end tokens\n",
        "dataset['English'] = 'start_ ' + dataset.English + ' end_'\n",
        "dataset['Nepali'] = 'start_ ' + dataset.Nepali + ' end_'"
      ],
      "execution_count": 8,
      "outputs": []
    },
    {
      "cell_type": "markdown",
      "metadata": {
        "id": "oHh24MoZljEw"
      },
      "source": [
        "## Tokenize the data"
      ]
    },
    {
      "cell_type": "code",
      "metadata": {
        "id": "_OEzFT9mEY3T"
      },
      "source": [
        "# create a function to build tokenizer\n",
        "def tokenize(sentences, vocab_size=None):\n",
        "  # create a tokenizer\n",
        "  tokenizer = Tokenizer(filters='', num_words=vocab_size, oov_token='UNK')\n",
        "  # fit the tokenizer on sentences\n",
        "  tokenizer.fit_on_texts(sentences)\n",
        "  if vocab_size is None:\n",
        "    # calculate vocabulary size\n",
        "    vocab_size = len(tokenizer.word_index)\n",
        "\n",
        "  # calculate max sentence length in a sentence\n",
        "  max_sent_len = max([len(sentence.split()) for sentence in sentences])\n",
        "  return tokenizer, vocab_size, max_sent_len"
      ],
      "execution_count": 9,
      "outputs": []
    },
    {
      "cell_type": "code",
      "metadata": {
        "colab": {
          "base_uri": "https://localhost:8080/"
        },
        "id": "fnbxhUrcHrYY",
        "outputId": "9b0514de-8348-460d-fc15-f7b96b800e64"
      },
      "source": [
        "# english sentence tokenizer\n",
        "english_tokenizer, english_vocabsize, english_maxlen = tokenize(dataset.English, vocab_size=None)\n",
        "\n",
        "# nepali sentence tokenizer\n",
        "nepali_tokenizer, nepali_vocabsize, nepali_maxlen = tokenize(dataset.Nepali, vocab_size=None)\n",
        "\n",
        "print(\"English Vocab Size:\", english_vocabsize)\n",
        "print(\"Nepali Vocab Size:\", nepali_vocabsize)\n",
        "print(\"Max English Sentence Length:\", english_maxlen)\n",
        "print(\"Max Nepali Sentence Length:\", nepali_maxlen)"
      ],
      "execution_count": 10,
      "outputs": [
        {
          "output_type": "stream",
          "text": [
            "English Vocab Size: 2825\n",
            "Nepali Vocab Size: 4353\n",
            "Max English Sentence Length: 8\n",
            "Max Nepali Sentence Length: 11\n"
          ],
          "name": "stdout"
        }
      ]
    },
    {
      "cell_type": "markdown",
      "metadata": {
        "id": "KlOvhB5omVfT"
      },
      "source": [
        "# Split the dataset"
      ]
    },
    {
      "cell_type": "code",
      "metadata": {
        "colab": {
          "base_uri": "https://localhost:8080/"
        },
        "id": "bgbFe1hymQKQ",
        "outputId": "9a18befb-af5d-4366-b4c7-64452c629909"
      },
      "source": [
        "# Split the data into train test and validation\n",
        "X_train, X_valid, y_train, y_valid = train_test_split(dataset.English, dataset.Nepali, test_size=0.2,\n",
        "                                                    random_state=42)\n",
        "\n",
        "X_valid, X_test, y_valid, y_test = train_test_split(X_valid, y_valid, test_size=0.5, random_state=40)\n",
        "\n",
        "X_train.shape, X_valid.shape, X_test.shape"
      ],
      "execution_count": 11,
      "outputs": [
        {
          "output_type": "execute_result",
          "data": {
            "text/plain": [
              "((7908,), (989,), (989,))"
            ]
          },
          "metadata": {
            "tags": []
          },
          "execution_count": 11
        }
      ]
    },
    {
      "cell_type": "markdown",
      "metadata": {
        "id": "WZqzm4qXmdFk"
      },
      "source": [
        "## Convert to TensorFlow Dataset"
      ]
    },
    {
      "cell_type": "code",
      "metadata": {
        "id": "n2YgIDatI1fe"
      },
      "source": [
        "# write a function to create dataset\n",
        "def create_dataset(source, target, src_maxlen=english_maxlen,\n",
        "                   tar_maxlen=nepali_maxlen,\n",
        "                   src_tokenizer=english_tokenizer,\n",
        "                   tar_tokenizer=nepali_tokenizer, teacher_forcing=False):\n",
        "  # tokenize the sentences\n",
        "  source = src_tokenizer.texts_to_sequences(source)\n",
        "  target = tar_tokenizer.texts_to_sequences(target)\n",
        "  \n",
        "  if not teacher_forcing:\n",
        "    # pad sequences to max length\n",
        "    source_padded = pad_sequences(source, maxlen=src_maxlen, padding='post')\n",
        "    target_padded = pad_sequences(target, maxlen=tar_maxlen, padding='post')\n",
        "\n",
        "    # create tensorflow dataset\n",
        "    dataset = tf.data.Dataset.from_tensor_slices((source_padded, target_padded))\n",
        "    dataset = dataset.batch(32, drop_remainder=True)\n",
        "    dataset = dataset.prefetch(1)\n",
        "    return dataset\n",
        "\n",
        "  # if teacher_forcing is True\n",
        "  target_in = [sentence[:-1] for sentence in target] # end token excluded\n",
        "  target_out = [sentence[1:] for sentence in target] # start token excluded\n",
        "\n",
        "  # pad sequences to max length\n",
        "  source_padded = pad_sequences(source, maxlen=src_maxlen, padding='post')\n",
        "  target_in_padded = pad_sequences(target_in, maxlen=tar_maxlen, padding='post')\n",
        "  target_out_padded = pad_sequences(target_out, maxlen=tar_maxlen, padding='post')\n",
        "\n",
        "  # create a tensorflow datasest\n",
        "  dataset = tf.data.Dataset.from_tensor_slices(((source_padded, target_in_padded), target_out_padded))\n",
        "  # batch and prefetch dataset\n",
        "  dataset = dataset.batch(32, drop_remainder=True)\n",
        "  dataset = dataset.prefetch(1)\n",
        "  return dataset"
      ],
      "execution_count": 12,
      "outputs": []
    },
    {
      "cell_type": "code",
      "metadata": {
        "id": "KGad1rgJmgtm"
      },
      "source": [
        "# create tensorflow datasets for first model\n",
        "train_dataset = create_dataset(X_train, y_train)\n",
        "valid_dataset = create_dataset(X_valid, y_valid)\n",
        "test_dataset = create_dataset(X_test, y_test)"
      ],
      "execution_count": 37,
      "outputs": []
    },
    {
      "cell_type": "code",
      "metadata": {
        "colab": {
          "base_uri": "https://localhost:8080/"
        },
        "id": "UPt6HHa8MfYS",
        "outputId": "79e03e9a-ce9a-44c5-9ae5-6e1afa5e40f9"
      },
      "source": [
        "# look at the data in training set\n",
        "for row in train_dataset:\n",
        "  print(english_tokenizer.sequences_to_texts([row[0][0].numpy()]))\n",
        "  print(nepali_tokenizer.sequences_to_texts([row[1][0].numpy()]))\n",
        "  break"
      ],
      "execution_count": 14,
      "outputs": [
        {
          "output_type": "stream",
          "text": [
            "['start_ i like puzzles end_ UNK UNK UNK']\n",
            "['start_ मलाई पजलहरू मन पर्छ end_ UNK UNK UNK UNK UNK']\n"
          ],
          "name": "stdout"
        }
      ]
    },
    {
      "cell_type": "markdown",
      "metadata": {
        "id": "KGEqEeEQNNmz"
      },
      "source": [
        "## Build the model (Simple Model)"
      ]
    },
    {
      "cell_type": "code",
      "metadata": {
        "id": "TtSaZUU0NMlk"
      },
      "source": [
        "def build_model(src_vocab, tar_vocab, src_maxlen, tar_maxlen, n_units):\n",
        "  # initialize sequential model\n",
        "  src_input = Input(shape=[None])\n",
        "\n",
        "  # embedding layer\n",
        "  src_embedding = Embedding(src_vocab+1, n_units, input_length=src_maxlen, mask_zero=True)(src_input)\n",
        "\n",
        "  # source LSTM layer\n",
        "  src_lstm_out = LSTM(n_units)(src_embedding)\n",
        "  # repeat vector\n",
        "  rv = RepeatVector(tar_maxlen)(src_lstm_out)\n",
        "  # target LSTM layer\n",
        "  tar_lstm_out = LSTM(n_units, return_sequences=True)(rv)\n",
        "\n",
        "  # output layer\n",
        "  output = TimeDistributed(Dense(tar_vocab+1, activation='softmax'))(tar_lstm_out)\n",
        "\n",
        "  model = Model(inputs=[(src_input)], outputs=[output])\n",
        "\n",
        "  # compile the model\n",
        "  model.compile(loss='sparse_categorical_crossentropy', optimizer='adam')\n",
        "  return model"
      ],
      "execution_count": 15,
      "outputs": []
    },
    {
      "cell_type": "code",
      "metadata": {
        "id": "l8vKzw9_NMZ9",
        "colab": {
          "base_uri": "https://localhost:8080/"
        },
        "outputId": "934df4ac-a473-46fe-a115-9781ba7f3397"
      },
      "source": [
        "# build model\n",
        "model_1 = build_model(english_vocabsize, nepali_vocabsize, english_maxlen, nepali_maxlen, 128)\n",
        "model_1.summary()"
      ],
      "execution_count": 16,
      "outputs": [
        {
          "output_type": "stream",
          "text": [
            "Model: \"model\"\n",
            "_________________________________________________________________\n",
            "Layer (type)                 Output Shape              Param #   \n",
            "=================================================================\n",
            "input_1 (InputLayer)         [(None, None)]            0         \n",
            "_________________________________________________________________\n",
            "embedding (Embedding)        (None, None, 128)         361728    \n",
            "_________________________________________________________________\n",
            "lstm (LSTM)                  (None, 128)               131584    \n",
            "_________________________________________________________________\n",
            "repeat_vector (RepeatVector) (None, 11, 128)           0         \n",
            "_________________________________________________________________\n",
            "lstm_1 (LSTM)                (None, 11, 128)           131584    \n",
            "_________________________________________________________________\n",
            "time_distributed (TimeDistri (None, 11, 4354)          561666    \n",
            "=================================================================\n",
            "Total params: 1,186,562\n",
            "Trainable params: 1,186,562\n",
            "Non-trainable params: 0\n",
            "_________________________________________________________________\n"
          ],
          "name": "stdout"
        }
      ]
    },
    {
      "cell_type": "code",
      "metadata": {
        "colab": {
          "base_uri": "https://localhost:8080/",
          "height": 564
        },
        "id": "9a_owTWhNMRq",
        "outputId": "f94a4a79-bbae-481f-aaf4-df2803eda375"
      },
      "source": [
        "# plot model\n",
        "plot_model(model_1)"
      ],
      "execution_count": 17,
      "outputs": [
        {
          "output_type": "execute_result",
          "data": {
            "image/png": "[encoded data removed]",
            "text/plain": [
              "<IPython.core.display.Image object>"
            ]
          },
          "metadata": {
            "tags": []
          },
          "execution_count": 17
        }
      ]
    },
    {
      "cell_type": "code",
      "metadata": {
        "colab": {
          "base_uri": "https://localhost:8080/"
        },
        "id": "4kL_waIxNMPf",
        "outputId": "6f5ad2b7-1bd4-4e28-9daf-1e4d1d7432f8"
      },
      "source": [
        "# create callbacks to save model and early stop model training \n",
        "checkpoint_dir = os.path.join(checkpoint_1, \"model_1.h5\")\n",
        "model_checkpoint = ModelCheckpoint(checkpoint_dir, monitor='val_loss', save_best_only=True)\n",
        "early_stopping = EarlyStopping(patience=7, monitor='val_loss', restore_best_weights=True)\n",
        "\n",
        "history = model_1.fit(train_dataset, epochs=100, validation_data=valid_dataset,\n",
        "                    callbacks=[model_checkpoint, early_stopping])"
      ],
      "execution_count": 18,
      "outputs": [
        {
          "output_type": "stream",
          "text": [
            "Epoch 1/100\n",
            "247/247 [==============================] - 10s 16ms/step - loss: 3.2559 - val_loss: 2.4855\n",
            "Epoch 2/100\n",
            "247/247 [==============================] - 3s 11ms/step - loss: 2.2561 - val_loss: 2.2170\n",
            "Epoch 3/100\n",
            "247/247 [==============================] - 3s 11ms/step - loss: 2.0528 - val_loss: 2.1391\n",
            "Epoch 4/100\n",
            "247/247 [==============================] - 3s 11ms/step - loss: 1.9635 - val_loss: 2.0969\n",
            "Epoch 5/100\n",
            "247/247 [==============================] - 3s 11ms/step - loss: 1.8977 - val_loss: 2.0408\n",
            "Epoch 6/100\n",
            "247/247 [==============================] - 3s 11ms/step - loss: 1.8426 - val_loss: 2.0071\n",
            "Epoch 7/100\n",
            "247/247 [==============================] - 3s 11ms/step - loss: 1.8087 - val_loss: 1.9894\n",
            "Epoch 8/100\n",
            "247/247 [==============================] - 2s 10ms/step - loss: 1.7672 - val_loss: 1.9749\n",
            "Epoch 9/100\n",
            "247/247 [==============================] - 2s 10ms/step - loss: 1.7194 - val_loss: 1.9078\n",
            "Epoch 10/100\n",
            "247/247 [==============================] - 2s 10ms/step - loss: 1.6542 - val_loss: 1.8512\n",
            "Epoch 11/100\n",
            "247/247 [==============================] - 3s 11ms/step - loss: 1.5870 - val_loss: 1.8212\n",
            "Epoch 12/100\n",
            "247/247 [==============================] - 3s 11ms/step - loss: 1.5294 - val_loss: 1.7840\n",
            "Epoch 13/100\n",
            "247/247 [==============================] - 3s 11ms/step - loss: 1.4790 - val_loss: 1.7546\n",
            "Epoch 14/100\n",
            "247/247 [==============================] - 3s 11ms/step - loss: 1.4322 - val_loss: 1.7625\n",
            "Epoch 15/100\n",
            "247/247 [==============================] - 3s 11ms/step - loss: 1.3826 - val_loss: 1.7282\n",
            "Epoch 16/100\n",
            "247/247 [==============================] - 3s 11ms/step - loss: 1.3328 - val_loss: 1.7016\n",
            "Epoch 17/100\n",
            "247/247 [==============================] - 3s 11ms/step - loss: 1.2854 - val_loss: 1.6922\n",
            "Epoch 18/100\n",
            "247/247 [==============================] - 2s 10ms/step - loss: 1.2414 - val_loss: 1.6724\n",
            "Epoch 19/100\n",
            "247/247 [==============================] - 2s 10ms/step - loss: 1.1969 - val_loss: 1.6526\n",
            "Epoch 20/100\n",
            "247/247 [==============================] - 2s 10ms/step - loss: 1.1525 - val_loss: 1.6356\n",
            "Epoch 21/100\n",
            "247/247 [==============================] - 2s 10ms/step - loss: 1.1102 - val_loss: 1.6402\n",
            "Epoch 22/100\n",
            "247/247 [==============================] - 2s 10ms/step - loss: 1.0721 - val_loss: 1.6281\n",
            "Epoch 23/100\n",
            "247/247 [==============================] - 2s 10ms/step - loss: 1.0333 - val_loss: 1.6049\n",
            "Epoch 24/100\n",
            "247/247 [==============================] - 3s 10ms/step - loss: 0.9913 - val_loss: 1.6181\n",
            "Epoch 25/100\n",
            "247/247 [==============================] - 3s 10ms/step - loss: 0.9506 - val_loss: 1.6286\n",
            "Epoch 26/100\n",
            "247/247 [==============================] - 3s 10ms/step - loss: 0.9116 - val_loss: 1.6168\n",
            "Epoch 27/100\n",
            "247/247 [==============================] - 2s 10ms/step - loss: 0.8766 - val_loss: 1.5859\n",
            "Epoch 28/100\n",
            "247/247 [==============================] - 2s 10ms/step - loss: 0.8421 - val_loss: 1.5848\n",
            "Epoch 29/100\n",
            "247/247 [==============================] - 3s 10ms/step - loss: 0.8090 - val_loss: 1.5913\n",
            "Epoch 30/100\n",
            "247/247 [==============================] - 2s 10ms/step - loss: 0.7776 - val_loss: 1.5832\n",
            "Epoch 31/100\n",
            "247/247 [==============================] - 2s 10ms/step - loss: 0.7510 - val_loss: 1.5852\n",
            "Epoch 32/100\n",
            "247/247 [==============================] - 2s 10ms/step - loss: 0.7181 - val_loss: 1.5926\n",
            "Epoch 33/100\n",
            "247/247 [==============================] - 3s 10ms/step - loss: 0.6845 - val_loss: 1.5845\n",
            "Epoch 34/100\n",
            "247/247 [==============================] - 3s 11ms/step - loss: 0.6517 - val_loss: 1.5909\n",
            "Epoch 35/100\n",
            "247/247 [==============================] - 3s 11ms/step - loss: 0.6196 - val_loss: 1.5931\n",
            "Epoch 36/100\n",
            "247/247 [==============================] - 3s 11ms/step - loss: 0.5897 - val_loss: 1.5894\n",
            "Epoch 37/100\n",
            "247/247 [==============================] - 3s 11ms/step - loss: 0.5603 - val_loss: 1.6019\n"
          ],
          "name": "stdout"
        }
      ]
    },
    {
      "cell_type": "code",
      "metadata": {
        "colab": {
          "base_uri": "https://localhost:8080/"
        },
        "id": "AycB_mb9NMNR",
        "outputId": "4ee10b44-5dbb-40fc-f98d-e687198c51d1"
      },
      "source": [
        "# evaluate on a test set\n",
        "print(\"Test set loss: {:.4f}\".format(model_1.evaluate(test_dataset, verbose=0)))"
      ],
      "execution_count": 38,
      "outputs": [
        {
          "output_type": "stream",
          "text": [
            "Test set loss: 1.5545\n"
          ],
          "name": "stdout"
        }
      ]
    },
    {
      "cell_type": "code",
      "metadata": {
        "colab": {
          "base_uri": "https://localhost:8080/",
          "height": 404
        },
        "id": "YGqRc2qTNMKx",
        "outputId": "08ae4d1e-d88b-4f21-e06a-69c51c26271c"
      },
      "source": [
        "# plot loss and accuracy\n",
        "def plot_loss(history):\n",
        "  fig, ax = plt.subplots(figsize=(8, 6))\n",
        "  pd.DataFrame(history.history)[[\"loss\", \"val_loss\"]].plot(ax=ax)\n",
        "  ax.set_title(\"Training and Validation Loss\")\n",
        "  ax.set_xlabel(\"Epoch\")\n",
        "  ax.set_ylabel(\"Loss\")\n",
        "  plt.show()\n",
        "\n",
        "# plot model 1 losses\n",
        "plot_loss(history)"
      ],
      "execution_count": 30,
      "outputs": [
        {
          "output_type": "display_data",
          "data": {
            "image/png": "[encoded data removed]",
            "text/plain": [
              "<Figure size 576x432 with 1 Axes>"
            ]
          },
          "metadata": {
            "tags": [],
            "needs_background": "light"
          }
        }
      ]
    },
    {
      "cell_type": "code",
      "metadata": {
        "id": "fbrY-d6jNMIZ"
      },
      "source": [
        "# prepare data for translation\n",
        "def prepare_data(sent):\n",
        "    sent = preprocess_english(sent)\n",
        "    sent_tokens = english_tokenizer.texts_to_sequences([sent])\n",
        "    sent_padded = pad_sequences(sent_tokens, maxlen=english_maxlen, padding='post')\n",
        "    return sent_padded\n",
        "\n",
        "# remove start_, end_ tokens\n",
        "def remove_tokens(sentence):\n",
        "  # sometime predicted texts contains UNK after end_ tokens\n",
        "  sentence = sentence[:sentence.find('end_')].replace('start_', '').strip()\n",
        "  return sentence\n",
        "\n",
        "# translate english to nepali\n",
        "def translate(eng_sent, model):\n",
        "  sent = prepare_data(eng_sent)\n",
        "  preds = model.predict(sent)\n",
        "  translation = nepali_tokenizer.sequences_to_texts(preds.argmax(-1))[0]\n",
        "  translation = remove_tokens(translation)\n",
        "  return translation\n",
        "\n",
        "# create a dataframe\n",
        "def create_df(english, nepali, predicted):\n",
        "  df = pd.DataFrame()\n",
        "  df['enlgish'] = english\n",
        "  df['nepali'] = nepali\n",
        "  df['predicted'] = predicted\n",
        "  return df"
      ],
      "execution_count": 21,
      "outputs": []
    },
    {
      "cell_type": "code",
      "metadata": {
        "id": "qh4BW-CuYFpg"
      },
      "source": [
        "def predict_and_save_as_dataframe(model, save_path, translate_fn, X_test=X_test, y_test=y_test):\n",
        "  \n",
        "  english, nepali, predicted = [], [], []\n",
        "  for i, sent in enumerate(X_test.values):\n",
        "    # translate english to nepali\n",
        "    translation = translate_fn(sent, model)\n",
        "    # remove start and end tokens\n",
        "    eng = remove_tokens(sent)\n",
        "    nep = remove_tokens(y_test.values[i])\n",
        "\n",
        "    # store sentences to create a dataframe\n",
        "    english.append(eng)\n",
        "    nepali.append(nep)\n",
        "    predicted.append(translation)\n",
        "\n",
        "  # save results to a dataframe\n",
        "  df = create_df(english, nepali, predicted)\n",
        "  # save dataframe to disk\n",
        "  df.to_csv(save_path, index=False)\n",
        "  return df\n",
        "\n",
        "# create a dataframe from above lists\n",
        "save_path = os.path.join(prediction_dir, 'model_1_predictions.csv')\n",
        "model_1_predictions = predict_and_save_as_dataframe(model=model_1, save_path=save_path,\n",
        "                                                    translate_fn=translate)"
      ],
      "execution_count": 22,
      "outputs": []
    },
    {
      "cell_type": "code",
      "metadata": {
        "colab": {
          "base_uri": "https://localhost:8080/",
          "height": 204
        },
        "id": "P0O3Xqq2ivhZ",
        "outputId": "06031297-a734-44b0-d1cc-fe18140638c8"
      },
      "source": [
        "# display some predictions\n",
        "model_1_predictions.sample(5)"
      ],
      "execution_count": 26,
      "outputs": [
        {
          "output_type": "execute_result",
          "data": {
            "text/html": [
              "<div>\n",
              "<style scoped>\n",
              "    .dataframe tbody tr th:only-of-type {\n",
              "        vertical-align: middle;\n",
              "    }\n",
              "\n",
              "    .dataframe tbody tr th {\n",
              "        vertical-align: top;\n",
              "    }\n",
              "\n",
              "    .dataframe thead th {\n",
              "        text-align: right;\n",
              "    }\n",
              "</style>\n",
              "<table border=\"1\" class=\"dataframe\">\n",
              "  <thead>\n",
              "    <tr style=\"text-align: right;\">\n",
              "      <th></th>\n",
              "      <th>enlgish</th>\n",
              "      <th>nepali</th>\n",
              "      <th>predicted</th>\n",
              "    </tr>\n",
              "  </thead>\n",
              "  <tbody>\n",
              "    <tr>\n",
              "      <th>683</th>\n",
              "      <td>i mean that</td>\n",
              "      <td>मेरो मतलब त्यो हो</td>\n",
              "      <td>मलाई मेरो काम काम गर्दछ</td>\n",
              "    </tr>\n",
              "    <tr>\n",
              "      <th>229</th>\n",
              "      <td>he is skinny</td>\n",
              "      <td>ऊ पातलो छ</td>\n",
              "      <td>उनीसँग पहिले दु खी छ</td>\n",
              "    </tr>\n",
              "    <tr>\n",
              "      <th>484</th>\n",
              "      <td>nothing happened</td>\n",
              "      <td>केहि पनि थिएन</td>\n",
              "      <td>यहाँ लागि काम पर्छ</td>\n",
              "    </tr>\n",
              "    <tr>\n",
              "      <th>347</th>\n",
              "      <td>tom was quick</td>\n",
              "      <td>टम छिटो थियो</td>\n",
              "      <td>हामी लागि काम काम</td>\n",
              "    </tr>\n",
              "    <tr>\n",
              "      <th>796</th>\n",
              "      <td>i sell cars</td>\n",
              "      <td>म कारहरू बेच्छु</td>\n",
              "      <td>मलाई यो प्रयास मन पर्छ</td>\n",
              "    </tr>\n",
              "  </tbody>\n",
              "</table>\n",
              "</div>"
            ],
            "text/plain": [
              "              enlgish             nepali                predicted\n",
              "683       i mean that  मेरो मतलब त्यो हो  मलाई मेरो काम काम गर्दछ\n",
              "229      he is skinny          ऊ पातलो छ     उनीसँग पहिले दु खी छ\n",
              "484  nothing happened      केहि पनि थिएन       यहाँ लागि काम पर्छ\n",
              "347     tom was quick       टम छिटो थियो        हामी लागि काम काम\n",
              "796       i sell cars    म कारहरू बेच्छु   मलाई यो प्रयास मन पर्छ"
            ]
          },
          "metadata": {
            "tags": []
          },
          "execution_count": 26
        }
      ]
    },
    {
      "cell_type": "markdown",
      "metadata": {
        "id": "g72Dls4MeX-p"
      },
      "source": [
        "## With Teacher Forcing Method"
      ]
    },
    {
      "cell_type": "markdown",
      "metadata": {
        "id": "6SJvi0Bhmy-B"
      },
      "source": [
        "### Build the Model"
      ]
    },
    {
      "cell_type": "code",
      "metadata": {
        "colab": {
          "base_uri": "https://localhost:8080/"
        },
        "id": "Y7134N3HeXF5",
        "outputId": "b585da92-f9c8-427b-8d3d-f4edac07b033"
      },
      "source": [
        "# define embedding size\n",
        "src_embed = 256\n",
        "target_embed = 256\n",
        "units = 256\n",
        "\n",
        "# define inputs\n",
        "encoder_inputs = Input(shape=[None], dtype=tf.int32)\n",
        "decoder_inputs = Input(shape=[None], dtype=tf.int32)\n",
        "\n",
        "# encoder embeddings\n",
        "encoder_embeddings = Embedding(english_vocabsize+1, src_embed, mask_zero=True)(encoder_inputs)\n",
        "# define encoder lstm layers\n",
        "encoder_lstm_layer1 = LSTM(units, return_sequences=True, dropout=0.4)\n",
        "encoder_lstm_layer2 = LSTM(units, return_state=True, dropout=0.4)\n",
        "# get encoder states\n",
        "layer1_out = encoder_lstm_layer1(encoder_embeddings)\n",
        "_, en_state_h, en_state_c = encoder_lstm_layer2(layer1_out)\n",
        "encoder_states = [en_state_h, en_state_c]\n",
        "\n",
        "# Decoder embeddings\n",
        "decoder_embeddings = Embedding(nepali_vocabsize+1, target_embed, mask_zero=True)(decoder_inputs)\n",
        "decoder_lstm_layer = LSTM(units, return_sequences=True)\n",
        "decoder_lstm_output = decoder_lstm_layer(decoder_embeddings, initial_state=encoder_states)\n",
        "# get decoder final output\n",
        "decoder_output = Dense(nepali_vocabsize+1, activation=\"softmax\")(decoder_lstm_output)\n",
        "\n",
        "# Create a model\n",
        "model_2 = Model(inputs=[encoder_inputs, decoder_inputs], outputs=[decoder_output])\n",
        "\n",
        "# compile model\n",
        "model_2.compile(loss='sparse_categorical_crossentropy', optimizer='adam')\n",
        "# display model summary\n",
        "model_2.summary()"
      ],
      "execution_count": 27,
      "outputs": [
        {
          "output_type": "stream",
          "text": [
            "Model: \"model_1\"\n",
            "__________________________________________________________________________________________________\n",
            "Layer (type)                    Output Shape         Param #     Connected to                     \n",
            "==================================================================================================\n",
            "input_2 (InputLayer)            [(None, None)]       0                                            \n",
            "__________________________________________________________________________________________________\n",
            "embedding_1 (Embedding)         (None, None, 256)    723456      input_2[0][0]                    \n",
            "__________________________________________________________________________________________________\n",
            "input_3 (InputLayer)            [(None, None)]       0                                            \n",
            "__________________________________________________________________________________________________\n",
            "lstm_2 (LSTM)                   (None, None, 256)    525312      embedding_1[0][0]                \n",
            "__________________________________________________________________________________________________\n",
            "embedding_2 (Embedding)         (None, None, 256)    1114624     input_3[0][0]                    \n",
            "__________________________________________________________________________________________________\n",
            "lstm_3 (LSTM)                   [(None, 256), (None, 525312      lstm_2[0][0]                     \n",
            "__________________________________________________________________________________________________\n",
            "lstm_4 (LSTM)                   (None, None, 256)    525312      embedding_2[0][0]                \n",
            "                                                                 lstm_3[0][1]                     \n",
            "                                                                 lstm_3[0][2]                     \n",
            "__________________________________________________________________________________________________\n",
            "dense_1 (Dense)                 (None, None, 4354)   1118978     lstm_4[0][0]                     \n",
            "==================================================================================================\n",
            "Total params: 4,532,994\n",
            "Trainable params: 4,532,994\n",
            "Non-trainable params: 0\n",
            "__________________________________________________________________________________________________\n"
          ],
          "name": "stdout"
        }
      ]
    },
    {
      "cell_type": "code",
      "metadata": {
        "colab": {
          "base_uri": "https://localhost:8080/",
          "height": 564
        },
        "id": "9IlDyPxsmW0F",
        "outputId": "8bb74cb0-624f-442b-c080-44471f7394c9"
      },
      "source": [
        "# plot model\n",
        "plot_model(model_2)"
      ],
      "execution_count": 28,
      "outputs": [
        {
          "output_type": "execute_result",
          "data": {
            "image/png": "[encoded data removed]",
            "text/plain": [
              "<IPython.core.display.Image object>"
            ]
          },
          "metadata": {
            "tags": []
          },
          "execution_count": 28
        }
      ]
    },
    {
      "cell_type": "code",
      "metadata": {
        "id": "KMy9GrVmfJZQ"
      },
      "source": [
        "# create tensorflow datasets for model which uses teacher forcing method\n",
        "train_dataset = create_dataset(X_train, y_train, teacher_forcing=True)\n",
        "valid_dataset = create_dataset(X_valid, y_valid, teacher_forcing=True)\n",
        "test_dataset = create_dataset(X_test, y_test, teacher_forcing=True)"
      ],
      "execution_count": 53,
      "outputs": []
    },
    {
      "cell_type": "code",
      "metadata": {
        "colab": {
          "base_uri": "https://localhost:8080/"
        },
        "id": "ufgGA4C3eW6v",
        "outputId": "b70d6059-2c79-4b3c-f5d5-dd9486f54f6b"
      },
      "source": [
        "# set checkpoint path\n",
        "checkpoint_dir = os.path.join(checkpoint_2, 'model_2.h5')\n",
        "model_checkpoint = ModelCheckpoint(checkpoint_dir, monitor='val_loss', save_best_only=True)\n",
        "early_stopping = EarlyStopping(patience=7, monitor='val_loss', restore_best_weights=True)\n",
        "\n",
        "# train model\n",
        "history = model_2.fit(train_dataset, epochs=100, validation_data=valid_dataset,\n",
        "                    callbacks=[model_checkpoint, early_stopping])"
      ],
      "execution_count": 31,
      "outputs": [
        {
          "output_type": "stream",
          "text": [
            "Epoch 1/100\n",
            "247/247 [==============================] - 16s 39ms/step - loss: 1.9835 - val_loss: 1.8046\n",
            "Epoch 2/100\n",
            "247/247 [==============================] - 7s 29ms/step - loss: 1.6641 - val_loss: 1.7124\n",
            "Epoch 3/100\n",
            "247/247 [==============================] - 7s 28ms/step - loss: 1.5269 - val_loss: 1.6390\n",
            "Epoch 4/100\n",
            "247/247 [==============================] - 7s 28ms/step - loss: 1.4080 - val_loss: 1.5688\n",
            "Epoch 5/100\n",
            "247/247 [==============================] - 7s 28ms/step - loss: 1.2939 - val_loss: 1.5239\n",
            "Epoch 6/100\n",
            "247/247 [==============================] - 7s 27ms/step - loss: 1.1952 - val_loss: 1.4861\n",
            "Epoch 7/100\n",
            "247/247 [==============================] - 7s 28ms/step - loss: 1.1046 - val_loss: 1.4641\n",
            "Epoch 8/100\n",
            "247/247 [==============================] - 7s 29ms/step - loss: 1.0242 - val_loss: 1.4445\n",
            "Epoch 9/100\n",
            "247/247 [==============================] - 7s 29ms/step - loss: 0.9533 - val_loss: 1.4354\n",
            "Epoch 10/100\n",
            "247/247 [==============================] - 7s 29ms/step - loss: 0.8892 - val_loss: 1.4259\n",
            "Epoch 11/100\n",
            "247/247 [==============================] - 7s 29ms/step - loss: 0.8270 - val_loss: 1.4183\n",
            "Epoch 12/100\n",
            "247/247 [==============================] - 7s 28ms/step - loss: 0.7696 - val_loss: 1.4185\n",
            "Epoch 13/100\n",
            "247/247 [==============================] - 7s 28ms/step - loss: 0.7145 - val_loss: 1.4205\n",
            "Epoch 14/100\n",
            "247/247 [==============================] - 7s 27ms/step - loss: 0.6641 - val_loss: 1.4210\n",
            "Epoch 15/100\n",
            "247/247 [==============================] - 7s 27ms/step - loss: 0.6177 - val_loss: 1.4259\n",
            "Epoch 16/100\n",
            "247/247 [==============================] - 7s 27ms/step - loss: 0.5759 - val_loss: 1.4318\n",
            "Epoch 17/100\n",
            "247/247 [==============================] - 7s 27ms/step - loss: 0.5362 - val_loss: 1.4369\n",
            "Epoch 18/100\n",
            "247/247 [==============================] - 7s 29ms/step - loss: 0.4995 - val_loss: 1.4395\n"
          ],
          "name": "stdout"
        }
      ]
    },
    {
      "cell_type": "code",
      "metadata": {
        "colab": {
          "base_uri": "https://localhost:8080/",
          "height": 404
        },
        "id": "DA5Bgd-WGl_S",
        "outputId": "c48f2beb-7fc4-4a1c-9534-68afced0007b"
      },
      "source": [
        "# plot loss\n",
        "plot_loss(history)"
      ],
      "execution_count": 32,
      "outputs": [
        {
          "output_type": "display_data",
          "data": {
            "image/png": "[encoded data removed]",
            "text/plain": [
              "<Figure size 576x432 with 1 Axes>"
            ]
          },
          "metadata": {
            "tags": [],
            "needs_background": "light"
          }
        }
      ]
    },
    {
      "cell_type": "code",
      "metadata": {
        "colab": {
          "base_uri": "https://localhost:8080/"
        },
        "id": "edqCuf_MfJGg",
        "outputId": "6e74b3d6-5a98-464b-f0b0-ecbe5c0e5099"
      },
      "source": [
        "# evaluate model on a test set\n",
        "print(\"Test set loss: {:.4f}\".format(model_2.evaluate(test_dataset, verbose=0)))"
      ],
      "execution_count": 35,
      "outputs": [
        {
          "output_type": "stream",
          "text": [
            "Test set loss: 1.4082\n"
          ],
          "name": "stdout"
        }
      ]
    },
    {
      "cell_type": "code",
      "metadata": {
        "id": "Cf9uz8bwfJEK"
      },
      "source": [
        "def prepare_data(sent):\n",
        "    sent = preprocess_english(sent)\n",
        "    sent_tokens = english_tokenizer.texts_to_sequences([sent])\n",
        "    sent_padded = pad_sequences(sent_tokens, maxlen=english_maxlen, padding='post')\n",
        "    return sent_padded\n",
        "    \n",
        "# write a function which returns the translated text in nepali\n",
        "def translate(eng_sent, model):\n",
        "    \n",
        "    # prepare y_pred\n",
        "    Y_pred = tf.fill(dims=(1, 1), value=1)\n",
        "    # prepare encoder input\n",
        "    X_encoder = prepare_data(eng_sent)\n",
        "    \n",
        "    index = 0\n",
        "    next_ = 0\n",
        "    end_token_id = nepali_tokenizer.texts_to_sequences(['end_'])[0][0]\n",
        "    # loop until max target length or until end token is predicted\n",
        "    while index < nepali_maxlen and next_ != end_token_id:\n",
        "        # calculate the padding size\n",
        "        padsize = nepali_maxlen - Y_pred.shape[1]\n",
        "        # create input for decoder\n",
        "        X_decoder = tf.pad(Y_pred, [[0, 0], [0, padsize]])\n",
        "        # get the probabilities of next prediction\n",
        "        Y_proba = model.predict([X_encoder, X_decoder])[:, index:index+1]\n",
        "        # get the next predicted token\n",
        "        Y_proba_next = tf.argmax(Y_proba, axis=-1, output_type=tf.int32)\n",
        "        # concatenate with Y_pred to predict next word\n",
        "        Y_pred = tf.concat([Y_pred, Y_proba_next], axis=1)\n",
        "        # assign current predicted token to next\n",
        "        next_ = Y_proba_next.numpy()[0][0]\n",
        "        # increment the index value\n",
        "        index += 1\n",
        "    # translate the sentences and return all except start and end tokens\n",
        "    translated_sent = nepali_tokenizer.sequences_to_texts(Y_pred.numpy())\n",
        "    return \" \".join(translated_sent[0].split()[1:-1])"
      ],
      "execution_count": 39,
      "outputs": []
    },
    {
      "cell_type": "code",
      "metadata": {
        "colab": {
          "base_uri": "https://localhost:8080/",
          "height": 204
        },
        "id": "3SW6qrPNunAg",
        "outputId": "4827aa4d-7c58-406f-9e48-97b51eec7c49"
      },
      "source": [
        "# save predictions as a dataframe\n",
        "save_path = os.path.join(prediction_dir, 'model_2_predictions.csv')\n",
        "model_2_predictions = predict_and_save_as_dataframe(model=model_2, save_path=save_path,\n",
        "                                                    translate_fn=translate)\n",
        "model_2_predictions.sample(5)"
      ],
      "execution_count": 46,
      "outputs": [
        {
          "output_type": "execute_result",
          "data": {
            "text/html": [
              "<div>\n",
              "<style scoped>\n",
              "    .dataframe tbody tr th:only-of-type {\n",
              "        vertical-align: middle;\n",
              "    }\n",
              "\n",
              "    .dataframe tbody tr th {\n",
              "        vertical-align: top;\n",
              "    }\n",
              "\n",
              "    .dataframe thead th {\n",
              "        text-align: right;\n",
              "    }\n",
              "</style>\n",
              "<table border=\"1\" class=\"dataframe\">\n",
              "  <thead>\n",
              "    <tr style=\"text-align: right;\">\n",
              "      <th></th>\n",
              "      <th>enlgish</th>\n",
              "      <th>nepali</th>\n",
              "      <th>predicted</th>\n",
              "    </tr>\n",
              "  </thead>\n",
              "  <tbody>\n",
              "    <tr>\n",
              "      <th>12</th>\n",
              "      <td>tom is guilty</td>\n",
              "      <td>टम दोषी छ</td>\n",
              "      <td>टम एक खी छ</td>\n",
              "    </tr>\n",
              "    <tr>\n",
              "      <th>266</th>\n",
              "      <td>this is life</td>\n",
              "      <td>यो जिवन हो</td>\n",
              "      <td>यो राम्रो छ</td>\n",
              "    </tr>\n",
              "    <tr>\n",
              "      <th>57</th>\n",
              "      <td>did tom go</td>\n",
              "      <td>टोम गए</td>\n",
              "      <td>टम छोड्नुहोस्</td>\n",
              "    </tr>\n",
              "    <tr>\n",
              "      <th>33</th>\n",
              "      <td>hold your breath</td>\n",
              "      <td>सास रोक</td>\n",
              "      <td>एक मिनेट दिनुहोस्</td>\n",
              "    </tr>\n",
              "    <tr>\n",
              "      <th>908</th>\n",
              "      <td>he fell backward</td>\n",
              "      <td>ऊ पछिल्तिर खसे</td>\n",
              "      <td>ऊ टम मन पर्दैन</td>\n",
              "    </tr>\n",
              "  </tbody>\n",
              "</table>\n",
              "</div>"
            ],
            "text/plain": [
              "              enlgish          nepali          predicted\n",
              "12      tom is guilty       टम दोषी छ         टम एक खी छ\n",
              "266      this is life      यो जिवन हो        यो राम्रो छ\n",
              "57         did tom go          टोम गए      टम छोड्नुहोस्\n",
              "33   hold your breath         सास रोक  एक मिनेट दिनुहोस्\n",
              "908  he fell backward  ऊ पछिल्तिर खसे     ऊ टम मन पर्दैन"
            ]
          },
          "metadata": {
            "tags": []
          },
          "execution_count": 46
        }
      ]
    },
    {
      "cell_type": "markdown",
      "metadata": {
        "id": "d5I0-Uugj_qg"
      },
      "source": [
        "## Seq-to-Seq Model with Pretrained-embedding"
      ]
    },
    {
      "cell_type": "code",
      "metadata": {
        "id": "Ap30nAb3LqAm"
      },
      "source": [
        "# download glove embedding\n",
        "!wget --load-cookies /tmp/cookies.txt \"https://docs.google.com/uc?export=download&confirm=$(wget --quiet --save-cookies /tmp/cookies.txt --keep-session-cookies --no-check-certificate 'https://docs.google.com/uc?export=download&id=1Yf1XvZ3pgvNzXqnQZLHxjTunNqJIPtjJ' -O- | sed -rn 's/.*confirm=([0-9A-Za-z_]+).*/\\1\\n/p')&id=1Yf1XvZ3pgvNzXqnQZLHxjTunNqJIPtjJ\" -O glove_embedding_50k.txt && rm -rf /tmp/cookies.txt\n",
        "clear_output()\n"
      ],
      "execution_count": 47,
      "outputs": []
    },
    {
      "cell_type": "code",
      "metadata": {
        "colab": {
          "base_uri": "https://localhost:8080/"
        },
        "id": "B3WzDNm3M8t2",
        "outputId": "76cf02b8-c8b1-4d6a-cda5-607341b4c999"
      },
      "source": [
        "# load glove word embedding file\n",
        "glove_emb = open('glove_embedding_50k.txt')\n",
        "# initialize a dictionary to store embeddings\n",
        "glove_embedding_dict = {}\n",
        "# loop over all the embeddings in glove_emb\n",
        "for line in glove_emb:\n",
        "    # get the word\n",
        "    word = line.split()[0]\n",
        "    # get the embedding for the word and store in a dict\n",
        "    glove_embedding_dict[word] = np.array(line.split()[1:])\n",
        "\n",
        "# close the file\n",
        "glove_emb.close()\n",
        "    \n",
        "# verify\n",
        "glove_embedding_dict['the']"
      ],
      "execution_count": 48,
      "outputs": [
        {
          "output_type": "execute_result",
          "data": {
            "text/plain": [
              "array(['0.418', '0.24968', '-0.41242', '0.1217', '0.34527', '-0.044457',\n",
              "       '-0.49688', '-0.17862', '-0.00066023', '-0.6566', '0.27843',\n",
              "       '-0.14767', '-0.55677', '0.14658', '-0.0095095', '0.011658',\n",
              "       '0.10204', '-0.12792', '-0.8443', '-0.12181', '-0.016801',\n",
              "       '-0.33279', '-0.1552', '-0.23131', '-0.19181', '-1.8823',\n",
              "       '-0.76746', '0.099051', '-0.42125', '-0.19526', '4.0071',\n",
              "       '-0.18594', '-0.52287', '-0.31681', '0.00059213', '0.0074449',\n",
              "       '0.17778', '-0.15897', '0.012041', '-0.054223', '-0.29871',\n",
              "       '-0.15749', '-0.34758', '-0.045637', '-0.44251', '0.18785',\n",
              "       '0.0027849', '-0.18411', '-0.11514', '-0.78581'], dtype='<U11')"
            ]
          },
          "metadata": {
            "tags": []
          },
          "execution_count": 48
        }
      ]
    },
    {
      "cell_type": "code",
      "metadata": {
        "id": "EthPfOQkNGYh"
      },
      "source": [
        "# Now we have to extract the embedding for the words that are in the vocabulary\n",
        "\n",
        "# create a helper function for creating embedding matrix\n",
        "def create_embedding_matrix(glove_emb, vocab_size):\n",
        "    vocab_words = list(english_tokenizer.word_index.keys())\n",
        "    # initialize a matrix with shape (vocab_size, 50)\n",
        "    matrix = np.zeros((vocab_size+1, 50))\n",
        "    # loop over the vocab words\n",
        "    for word in vocab_words:\n",
        "        if word in glove_emb:\n",
        "            matrix[english_tokenizer.texts_to_sequences([word])[0][0]] = glove_emb[word]\n",
        "    # return the updated matrix\n",
        "    return matrix"
      ],
      "execution_count": 49,
      "outputs": []
    },
    {
      "cell_type": "code",
      "metadata": {
        "colab": {
          "base_uri": "https://localhost:8080/"
        },
        "id": "-LzbhmkPNNp-",
        "outputId": "791940c6-93fc-4d97-fb55-bca4a7175518"
      },
      "source": [
        "# create embedding_matrix\n",
        "embedding_matrix = create_embedding_matrix(glove_embedding_dict, english_vocabsize)\n",
        "embedding_matrix.shape"
      ],
      "execution_count": 50,
      "outputs": [
        {
          "output_type": "execute_result",
          "data": {
            "text/plain": [
              "(2826, 50)"
            ]
          },
          "metadata": {
            "tags": []
          },
          "execution_count": 50
        }
      ]
    },
    {
      "cell_type": "code",
      "metadata": {
        "colab": {
          "base_uri": "https://localhost:8080/"
        },
        "id": "hQ4-LKkGmjkV",
        "outputId": "f8735ab1-6502-4fc2-9178-51699530d41c"
      },
      "source": [
        "# define embedding size\n",
        "src_embed = 50\n",
        "target_embed = 128\n",
        "units = 256\n",
        "\n",
        "# define inputs\n",
        "encoder_inputs = Input(shape=[None], dtype=tf.int32)\n",
        "decoder_inputs = Input(shape=[None], dtype=tf.int32)\n",
        "\n",
        "# encoder embeddings\n",
        "encoder_embeddings = Embedding(english_vocabsize+1, src_embed, mask_zero=True)(encoder_inputs)\n",
        "# define encoder lstm layers\n",
        "encoder_lstm_layer1 = LSTM(units, return_sequences=True, dropout=0.4)\n",
        "encoder_lstm_layer2 = LSTM(units, return_state=True, dropout=0.4)\n",
        "# get encoder states\n",
        "layer1_out = encoder_lstm_layer1(encoder_embeddings)\n",
        "_, en_state_h, en_state_c = encoder_lstm_layer2(layer1_out)\n",
        "encoder_states = [en_state_h, en_state_c]\n",
        "\n",
        "# Decoder embeddings\n",
        "decoder_embeddings = Embedding(nepali_vocabsize+1, target_embed, mask_zero=True)(decoder_inputs)\n",
        "decoder_lstm_layer = LSTM(units, return_sequences=True)\n",
        "decoder_lstm_output = decoder_lstm_layer(decoder_embeddings, initial_state=encoder_states)\n",
        "# get decoder final output\n",
        "decoder_output = Dense(nepali_vocabsize+1, activation=\"softmax\")(decoder_lstm_output)\n",
        "\n",
        "# Create a model\n",
        "model_emb = Model(inputs=[encoder_inputs, decoder_inputs], outputs=[decoder_output])\n",
        "# Initialize embedding layer\n",
        "model_emb.layers[1].set_weights([embedding_matrix])\n",
        "# also do not train this layer\n",
        "model_emb.layers[1].trainable = False\n",
        "# display model summary\n",
        "model_emb.summary()\n"
      ],
      "execution_count": 51,
      "outputs": [
        {
          "output_type": "stream",
          "text": [
            "Model: \"model_2\"\n",
            "__________________________________________________________________________________________________\n",
            "Layer (type)                    Output Shape         Param #     Connected to                     \n",
            "==================================================================================================\n",
            "input_4 (InputLayer)            [(None, None)]       0                                            \n",
            "__________________________________________________________________________________________________\n",
            "embedding_3 (Embedding)         (None, None, 50)     141300      input_4[0][0]                    \n",
            "__________________________________________________________________________________________________\n",
            "input_5 (InputLayer)            [(None, None)]       0                                            \n",
            "__________________________________________________________________________________________________\n",
            "lstm_5 (LSTM)                   (None, None, 256)    314368      embedding_3[0][0]                \n",
            "__________________________________________________________________________________________________\n",
            "embedding_4 (Embedding)         (None, None, 128)    557312      input_5[0][0]                    \n",
            "__________________________________________________________________________________________________\n",
            "lstm_6 (LSTM)                   [(None, 256), (None, 525312      lstm_5[0][0]                     \n",
            "__________________________________________________________________________________________________\n",
            "lstm_7 (LSTM)                   (None, None, 256)    394240      embedding_4[0][0]                \n",
            "                                                                 lstm_6[0][1]                     \n",
            "                                                                 lstm_6[0][2]                     \n",
            "__________________________________________________________________________________________________\n",
            "dense_2 (Dense)                 (None, None, 4354)   1118978     lstm_7[0][0]                     \n",
            "==================================================================================================\n",
            "Total params: 3,051,510\n",
            "Trainable params: 2,910,210\n",
            "Non-trainable params: 141,300\n",
            "__________________________________________________________________________________________________\n"
          ],
          "name": "stdout"
        }
      ]
    },
    {
      "cell_type": "markdown",
      "metadata": {
        "id": "PiO_QcWSnCh2"
      },
      "source": [
        "## Train the Model"
      ]
    },
    {
      "cell_type": "code",
      "metadata": {
        "id": "w_60epejm6tj",
        "colab": {
          "base_uri": "https://localhost:8080/"
        },
        "outputId": "ae73553e-422b-4b2d-91e9-33fd4597ce2e"
      },
      "source": [
        "# checkpoint model\n",
        "save_path = os.path.join(checkpoint_3, \"model_3.h5\")\n",
        "checkpoint_cb = tf.keras.callbacks.ModelCheckpoint(save_path, save_best_only=True)\n",
        "early_stopping_cb = tf.keras.callbacks.EarlyStopping(patience=7, restore_best_weights=True)\n",
        "# define optimizer\n",
        "optimizer = tf.keras.optimizers.Adam()\n",
        "# compile model\n",
        "model_emb.compile(loss='sparse_categorical_crossentropy', optimizer=optimizer)\n",
        "\n",
        "# fit the model\n",
        "history = model_emb.fit(train_dataset, epochs=200, batch_size=64, validation_data=valid_dataset, callbacks=[checkpoint_cb, early_stopping_cb])"
      ],
      "execution_count": 54,
      "outputs": [
        {
          "output_type": "stream",
          "text": [
            "Epoch 1/200\n",
            "247/247 [==============================] - 12s 25ms/step - loss: 1.9755 - val_loss: 1.8263\n",
            "Epoch 2/200\n",
            "247/247 [==============================] - 4s 15ms/step - loss: 1.6792 - val_loss: 1.6991\n",
            "Epoch 3/200\n",
            "247/247 [==============================] - 4s 16ms/step - loss: 1.5090 - val_loss: 1.5976\n",
            "Epoch 4/200\n",
            "247/247 [==============================] - 4s 17ms/step - loss: 1.3853 - val_loss: 1.5424\n",
            "Epoch 5/200\n",
            "247/247 [==============================] - 4s 15ms/step - loss: 1.2829 - val_loss: 1.4887\n",
            "Epoch 6/200\n",
            "247/247 [==============================] - 4s 16ms/step - loss: 1.1824 - val_loss: 1.4437\n",
            "Epoch 7/200\n",
            "247/247 [==============================] - 4s 16ms/step - loss: 1.0941 - val_loss: 1.4170\n",
            "Epoch 8/200\n",
            "247/247 [==============================] - 4s 17ms/step - loss: 1.0152 - val_loss: 1.3969\n",
            "Epoch 9/200\n",
            "247/247 [==============================] - 4s 17ms/step - loss: 0.9446 - val_loss: 1.3761\n",
            "Epoch 10/200\n",
            "247/247 [==============================] - 4s 18ms/step - loss: 0.8793 - val_loss: 1.3630\n",
            "Epoch 11/200\n",
            "247/247 [==============================] - 4s 17ms/step - loss: 0.8196 - val_loss: 1.3548\n",
            "Epoch 12/200\n",
            "247/247 [==============================] - 4s 18ms/step - loss: 0.7646 - val_loss: 1.3473\n",
            "Epoch 13/200\n",
            "247/247 [==============================] - 4s 17ms/step - loss: 0.7148 - val_loss: 1.3460\n",
            "Epoch 14/200\n",
            "247/247 [==============================] - 4s 17ms/step - loss: 0.6699 - val_loss: 1.3444\n",
            "Epoch 15/200\n",
            "247/247 [==============================] - 4s 16ms/step - loss: 0.6272 - val_loss: 1.3442\n",
            "Epoch 16/200\n",
            "247/247 [==============================] - 4s 16ms/step - loss: 0.5874 - val_loss: 1.3467\n",
            "Epoch 17/200\n",
            "247/247 [==============================] - 4s 15ms/step - loss: 0.5505 - val_loss: 1.3508\n",
            "Epoch 18/200\n",
            "247/247 [==============================] - 4s 16ms/step - loss: 0.5204 - val_loss: 1.3509\n",
            "Epoch 19/200\n",
            "247/247 [==============================] - 4s 17ms/step - loss: 0.4891 - val_loss: 1.3611\n",
            "Epoch 20/200\n",
            "247/247 [==============================] - 4s 15ms/step - loss: 0.4617 - val_loss: 1.3589\n",
            "Epoch 21/200\n",
            "247/247 [==============================] - 4s 16ms/step - loss: 0.4362 - val_loss: 1.3605\n",
            "Epoch 22/200\n",
            "247/247 [==============================] - 4s 16ms/step - loss: 0.4132 - val_loss: 1.3657\n"
          ],
          "name": "stdout"
        }
      ]
    },
    {
      "cell_type": "markdown",
      "metadata": {
        "id": "aew_hcpuptxS"
      },
      "source": [
        "### Plot Loss"
      ]
    },
    {
      "cell_type": "code",
      "metadata": {
        "colab": {
          "base_uri": "https://localhost:8080/",
          "height": 404
        },
        "id": "Cx4sgortndI-",
        "outputId": "1f358d48-a95b-45eb-f4cf-f4e8e11b034b"
      },
      "source": [
        "# plot loss\n",
        "plot_loss(history)"
      ],
      "execution_count": 55,
      "outputs": [
        {
          "output_type": "display_data",
          "data": {
            "image/png": "[encoded data removed]",
            "text/plain": [
              "<Figure size 576x432 with 1 Axes>"
            ]
          },
          "metadata": {
            "tags": [],
            "needs_background": "light"
          }
        }
      ]
    },
    {
      "cell_type": "markdown",
      "metadata": {
        "id": "XPgdrQT3p9bc"
      },
      "source": [
        "## Evaluate on a Test set"
      ]
    },
    {
      "cell_type": "code",
      "metadata": {
        "colab": {
          "base_uri": "https://localhost:8080/"
        },
        "id": "hA8WIoijpzVW",
        "outputId": "6fcd23ae-0698-4506-ba92-64ef3e250ea9"
      },
      "source": [
        "loss = model_emb.evaluate(test_dataset, verbose=0)\n",
        "print(\"{:25s}\".format(\"Performance on Test Set\"))\n",
        "print(\"Loss: {:.4f}\".format(loss))"
      ],
      "execution_count": 56,
      "outputs": [
        {
          "output_type": "stream",
          "text": [
            "Performance on Test Set  \n",
            "Loss: 1.3428\n"
          ],
          "name": "stdout"
        }
      ]
    },
    {
      "cell_type": "code",
      "metadata": {
        "colab": {
          "base_uri": "https://localhost:8080/",
          "height": 204
        },
        "id": "QG7Q-fbD9SXx",
        "outputId": "d4a882ec-45cf-4f2f-dbe9-c9403dcdf1ff"
      },
      "source": [
        "# save predictions as a dataframe\n",
        "save_path = os.path.join(prediction_dir, 'model_3_predictions.csv')\n",
        "model_3_predictions = predict_and_save_as_dataframe(model=model_emb, save_path=save_path,\n",
        "                                                    translate_fn=translate)\n",
        "model_3_predictions.sample(5)"
      ],
      "execution_count": 65,
      "outputs": [
        {
          "output_type": "execute_result",
          "data": {
            "text/html": [
              "<div>\n",
              "<style scoped>\n",
              "    .dataframe tbody tr th:only-of-type {\n",
              "        vertical-align: middle;\n",
              "    }\n",
              "\n",
              "    .dataframe tbody tr th {\n",
              "        vertical-align: top;\n",
              "    }\n",
              "\n",
              "    .dataframe thead th {\n",
              "        text-align: right;\n",
              "    }\n",
              "</style>\n",
              "<table border=\"1\" class=\"dataframe\">\n",
              "  <thead>\n",
              "    <tr style=\"text-align: right;\">\n",
              "      <th></th>\n",
              "      <th>enlgish</th>\n",
              "      <th>nepali</th>\n",
              "      <th>predicted</th>\n",
              "    </tr>\n",
              "  </thead>\n",
              "  <tbody>\n",
              "    <tr>\n",
              "      <th>287</th>\n",
              "      <td>sit down tom</td>\n",
              "      <td>टम राख्नुहोस्</td>\n",
              "      <td>यहाँ टम छोड्नुहोस्</td>\n",
              "    </tr>\n",
              "    <tr>\n",
              "      <th>56</th>\n",
              "      <td>here they come</td>\n",
              "      <td>यहाँ तिनीहरू आउँछन्</td>\n",
              "      <td>यहाँ यहाँ जाऊ</td>\n",
              "    </tr>\n",
              "    <tr>\n",
              "      <th>319</th>\n",
              "      <td>look at that</td>\n",
              "      <td>त्यो हेर</td>\n",
              "      <td>यहाँ यहाँ यहाँ रहनुहोस्</td>\n",
              "    </tr>\n",
              "    <tr>\n",
              "      <th>424</th>\n",
              "      <td>tom hung up on me</td>\n",
              "      <td>टम मलाई झुण्ड्याइयो</td>\n",
              "      <td>टम एक नाक उडायो</td>\n",
              "    </tr>\n",
              "    <tr>\n",
              "      <th>539</th>\n",
              "      <td>do you watch tv</td>\n",
              "      <td>के तपाई टिभी हेर्नुहुन्छ</td>\n",
              "      <td>के तपाई उसलाई खेल्न सक्नुहुन्छ</td>\n",
              "    </tr>\n",
              "  </tbody>\n",
              "</table>\n",
              "</div>"
            ],
            "text/plain": [
              "               enlgish  ...                       predicted\n",
              "287       sit down tom  ...              यहाँ टम छोड्नुहोस्\n",
              "56      here they come  ...                   यहाँ यहाँ जाऊ\n",
              "319       look at that  ...         यहाँ यहाँ यहाँ रहनुहोस्\n",
              "424  tom hung up on me  ...                 टम एक नाक उडायो\n",
              "539    do you watch tv  ...  के तपाई उसलाई खेल्न सक्नुहुन्छ\n",
              "\n",
              "[5 rows x 3 columns]"
            ]
          },
          "metadata": {
            "tags": []
          },
          "execution_count": 65
        }
      ]
    },
    {
      "cell_type": "markdown",
      "metadata": {
        "id": "5pXs8Gn_LXgc"
      },
      "source": [
        "## Attention-Based Model"
      ]
    },
    {
      "cell_type": "markdown",
      "metadata": {
        "id": "w6gI6BjM_BQ_"
      },
      "source": [
        "### Encoder"
      ]
    },
    {
      "cell_type": "code",
      "metadata": {
        "id": "8FVDEF_2_Jye"
      },
      "source": [
        "embedding_dim = 256\n",
        "units = 256\n",
        "BATCH_SIZE = 32\n",
        "steps_per_epoch = X_train.shape[0] // BATCH_SIZE\n",
        "val_steps_per_epoch = X_valid.shape[0] // BATCH_SIZE"
      ],
      "execution_count": 66,
      "outputs": []
    },
    {
      "cell_type": "code",
      "metadata": {
        "id": "Y460EMGN-_4e"
      },
      "source": [
        "class Encoder(keras.Model):\n",
        "    def __init__(self, vocab_size, embedding_dim, enc_units,\n",
        "                batch_size):\n",
        "        super(Encoder, self).__init__()\n",
        "        self.batch_size = batch_size\n",
        "        self.enc_units = enc_units\n",
        "        self.embedding = Embedding(vocab_size+1, embedding_dim)\n",
        "        self.gru = GRU(self.enc_units,\n",
        "                       return_sequences=True,\n",
        "                       return_state=True,\n",
        "                       recurrent_initializer=\"glorot_uniform\")\n",
        "    \n",
        "    def call(self, x, hidden):\n",
        "        x = self.embedding(x)\n",
        "        output, state = self.gru(x, initial_state=hidden)\n",
        "        return output, state\n",
        "    \n",
        "    def initialize_hidden_state(self):\n",
        "        return tf.zeros((self.batch_size, self.enc_units))\n",
        "    \n",
        "encoder = Encoder(english_vocabsize, embedding_dim, units, BATCH_SIZE)\n",
        "# encoder.layers"
      ],
      "execution_count": 67,
      "outputs": []
    },
    {
      "cell_type": "markdown",
      "metadata": {
        "id": "P_TfLXgC_bgw"
      },
      "source": [
        "### Attention"
      ]
    },
    {
      "cell_type": "code",
      "metadata": {
        "id": "OOLgUXMr_DTn"
      },
      "source": [
        "class BahdanauAttention(tf.keras.layers.Layer):\n",
        "    def __init__(self, units):\n",
        "        super(BahdanauAttention, self).__init__()\n",
        "        self.W1 = keras.layers.Dense(units)\n",
        "        self.W2 = keras.layers.Dense(units)\n",
        "        self.V = keras.layers.Dense(1)\n",
        "        \n",
        "    def call(self, query, values):\n",
        "        hidden_with_time_axis = tf.expand_dims(query, 1)\n",
        "        score = self.V(tf.nn.tanh(\n",
        "            self.W1(values) + self.W2(hidden_with_time_axis)))\n",
        "        attention_weights = tf.nn.softmax(score, axis=1)\n",
        "        context_vector = attention_weights * values\n",
        "        context_vector = tf.reduce_sum(context_vector, axis=1)\n",
        "        return context_vector, attention_weights"
      ],
      "execution_count": 68,
      "outputs": []
    },
    {
      "cell_type": "markdown",
      "metadata": {
        "id": "5kPiHSU__gMs"
      },
      "source": [
        "### Decoder"
      ]
    },
    {
      "cell_type": "code",
      "metadata": {
        "id": "M6mzN5-k_dRD"
      },
      "source": [
        "class Decoder(keras.Model):\n",
        "    def __init__(self, vocab_size, embedding_dim, dec_units,\n",
        "                 batch_size):\n",
        "        super(Decoder, self).__init__()\n",
        "        self.batch_size = batch_size\n",
        "        self.dec_units = dec_units\n",
        "        self.embedding = Embedding(vocab_size+1, embedding_dim)\n",
        "        self.gru = GRU(dec_units,\n",
        "                       return_sequences=True,\n",
        "                       return_state=True,\n",
        "                       recurrent_initializer=\"glorot_uniform\")\n",
        "        self.fc = keras.layers.Dense(vocab_size+1)\n",
        "        self.attention = BahdanauAttention(self.dec_units)\n",
        "        \n",
        "    def call(self, x, hidden, enc_output):\n",
        "        context_vector, attention_weights = self.attention(hidden,\n",
        "                                                           enc_output)\n",
        "        x = self.embedding(x)\n",
        "        x = tf.concat([tf.expand_dims(context_vector, 1), x], axis=-1)\n",
        "        output, state = self.gru(x)\n",
        "        output = tf.reshape(output, (-1, output.shape[2]))\n",
        "        x = self.fc(output)\n",
        "        return x, state, attention_weights\n",
        "    \n",
        "decoder = Decoder(nepali_vocabsize, embedding_dim, units, BATCH_SIZE)\n"
      ],
      "execution_count": 69,
      "outputs": []
    },
    {
      "cell_type": "markdown",
      "metadata": {
        "id": "fc2S1Bw4_rIh"
      },
      "source": [
        "### Define Optimizer and the Loss Function"
      ]
    },
    {
      "cell_type": "code",
      "metadata": {
        "id": "ZFigZYY2_hKl"
      },
      "source": [
        "optimizer = keras.optimizers.Adam()\n",
        "loss_object = keras.losses.SparseCategoricalCrossentropy(from_logits=True,\n",
        "                                                         reduction='none')\n",
        "\n",
        "def loss_function(y_true, y_pred):\n",
        "    # mask = tf.math.logical_not(tf.math.equal(true, 0))\n",
        "    loss_ = loss_object(y_true, y_pred)\n",
        "    mask = tf.cast(y_true != 0, tf.float32)\n",
        "    loss_ *= mask\n",
        "    return tf.reduce_mean(loss_)"
      ],
      "execution_count": 70,
      "outputs": []
    },
    {
      "cell_type": "code",
      "metadata": {
        "id": "D6lZzczD_yVm"
      },
      "source": [
        "# Create checkpoints\n",
        "checkpoint_prefix = os.path.join(checkpoint_4, \"ckpt\")\n",
        "checkpoint = tf.train.Checkpoint(optimizer=optimizer,\n",
        "                                 encoder=encoder,\n",
        "                                 decoder=decoder)"
      ],
      "execution_count": 71,
      "outputs": []
    },
    {
      "cell_type": "markdown",
      "metadata": {
        "id": "RtYAEFn8AGlo"
      },
      "source": [
        "### Training the Model"
      ]
    },
    {
      "cell_type": "code",
      "metadata": {
        "id": "mn_tPAv_CK3Q"
      },
      "source": [
        "# create a dataset comaptible with Attention Model\n",
        "train_dataset = create_dataset(X_train, y_train)\n",
        "valid_dataset = create_dataset(X_valid, y_valid)\n",
        "test_dataset = create_dataset(X_test, y_test)"
      ],
      "execution_count": 72,
      "outputs": []
    },
    {
      "cell_type": "code",
      "metadata": {
        "colab": {
          "base_uri": "https://localhost:8080/"
        },
        "id": "-Nlsf6TjtTwG",
        "outputId": "ad0de3a0-fa9b-471e-f871-17646f611364"
      },
      "source": [
        "for row in train_dataset:\n",
        "  print(english_tokenizer.sequences_to_texts([row[0][0, :].numpy()]))\n",
        "  # print(nepali_tokenizer.sequences_to_texts([row[0][1][0, :].numpy()]))\n",
        "  print(nepali_tokenizer.sequences_to_texts([row[1][0, :].numpy()]))\n",
        "  break"
      ],
      "execution_count": 73,
      "outputs": [
        {
          "output_type": "stream",
          "text": [
            "['start_ i like puzzles end_ UNK UNK UNK']\n",
            "['start_ मलाई पजलहरू मन पर्छ end_ UNK UNK UNK UNK UNK']\n"
          ],
          "name": "stdout"
        }
      ]
    },
    {
      "cell_type": "code",
      "metadata": {
        "id": "6xCHf0BHAFmm"
      },
      "source": [
        "@tf.function\n",
        "def train_step(inp, targ, enc_hidden, test=False):\n",
        "    loss = 0\n",
        "    val_loss = 0\n",
        "    with tf.GradientTape() as tape:\n",
        "        enc_output, enc_hidden = encoder(inp, enc_hidden)\n",
        "        dec_hidden = enc_hidden\n",
        "        dec_input = tf.expand_dims([english_tokenizer.word_index['start_']]*BATCH_SIZE, 1)\n",
        "        \n",
        "        if test:\n",
        "          # teacher forcing method\n",
        "          for i in range(1, targ.shape[1]):\n",
        "              predictions, dec_hidden, _ = decoder(dec_input, dec_hidden, enc_output)\n",
        "              val_loss += loss_function(targ[:, i], predictions)\n",
        "              predicted_tokens = tf.argmax(predictions, axis=-1)\n",
        "              dec_input = tf.expand_dims(predicted_tokens, 1)\n",
        "              return val_loss / targ.shape[0]\n",
        "\n",
        "\n",
        "        # teacher forcing method\n",
        "        for i in range(1, targ.shape[1]):\n",
        "            predictions, dec_hidden, _ = decoder(dec_input, dec_hidden, enc_output)\n",
        "            loss += loss_function(targ[:, i], predictions)\n",
        "            dec_input = tf.expand_dims(targ[:, i], 1)\n",
        "            \n",
        "        batch_loss = (loss / int(targ.shape[0]))\n",
        "        variables = encoder.trainable_variables + decoder.trainable_variables\n",
        "        gradients = tape.gradient(loss, variables)\n",
        "        optimizer.apply_gradients(zip(gradients, variables))\n",
        "        return batch_loss\n"
      ],
      "execution_count": 74,
      "outputs": []
    },
    {
      "cell_type": "code",
      "metadata": {
        "colab": {
          "base_uri": "https://localhost:8080/"
        },
        "id": "xV83gOc1ALE3",
        "outputId": "d80a4fd6-69ec-46ed-fa03-b94947d3bba3"
      },
      "source": [
        "# train for 30 epochs\n",
        "EPOCHS = 30\n",
        "training_loss, validation_loss = [], []\n",
        "# initialize previous validation loss to a large value\n",
        "prev_val_loss = np.inf\n",
        "\n",
        "# loop over number of epochs\n",
        "for epoch in range(EPOCHS):\n",
        "    start = time.time()\n",
        "    # initialize encoder's hidden state\n",
        "    enc_hidden = encoder.initialize_hidden_state()\n",
        "    # initialize total training loss\n",
        "    total_loss = 0\n",
        "    # initialize total validation loss\n",
        "    total_val_loss = 0\n",
        "\n",
        "    # loop over all training batches\n",
        "    for (batch, (inp, targ)) in enumerate(train_dataset.take(steps_per_epoch)):\n",
        "        # calculate batch loss\n",
        "        batch_loss = train_step(inp, targ, enc_hidden)\n",
        "        # update total loss\n",
        "        total_loss += batch_loss\n",
        "        # print loss after every 100 batches\n",
        "        if batch % 100 == 0:\n",
        "            print(\"Epoch {} Batch {} Loss {:.4f}\".format(epoch+1,\n",
        "                                                         batch,\n",
        "                                                         batch_loss.numpy()))\n",
        "    \n",
        "    # loop over all validation batches\n",
        "    for (batch, (inp, targ)) in enumerate(valid_dataset.take(val_steps_per_epoch)):\n",
        "      val_loss = train_step(inp, targ, enc_hidden, test=True)\n",
        "      total_val_loss += val_loss\n",
        "\n",
        "    # save model every five epochs\n",
        "    if (epoch+1 % 5 == 0):\n",
        "      checkpoint.save(file_prefix=checkpoint_prefix)\n",
        "\n",
        "    # calculate current validation loss\n",
        "    current_val_loss = total_val_loss / val_steps_per_epoch\n",
        "    \n",
        "    # save model if validation_loss improves\n",
        "    if current_val_loss < prev_val_loss:\n",
        "      print(\"[INFO] Validation loss improved from {} to {}, saving model weights...\".format(prev_val_loss, \n",
        "                                                                   current_val_loss))\n",
        "      checkpoint.save(file_prefix=checkpoint_prefix)\n",
        "      # update previous validation loss\n",
        "      prev_val_loss = current_val_loss\n",
        "    \n",
        "    # Display training status\n",
        "    print(\"Epoch {} [Training Loss] : {:.4f}\".format(epoch+1,\n",
        "                                        total_loss / steps_per_epoch))\n",
        "    print(\"Epoch {} [Validation Loss] : {:.4f}\".format(epoch+1,\n",
        "                                        total_val_loss / val_steps_per_epoch))\n",
        "    print(\"Time taken for 1 epoch {} sec\\n\".format(time.time() - start))\n",
        "\n",
        "    # store training loss\n",
        "    training_loss.append(total_loss / steps_per_epoch)\n",
        "    # store validation loss\n",
        "    validation_loss.append(total_val_loss / val_steps_per_epoch)"
      ],
      "execution_count": 76,
      "outputs": [
        {
          "output_type": "stream",
          "text": [
            "Epoch 1 Batch 0 Loss 1.1620\n",
            "Epoch 1 Batch 100 Loss 0.6708\n",
            "Epoch 1 Batch 200 Loss 0.6125\n",
            "[INFO] Validation loss improved from inf to 0.12866294384002686, saving model weights...\n",
            "Epoch 1 [Training Loss] : 0.7015\n",
            "Epoch 1 [Validation Loss] : 0.1287\n",
            "Time taken for 1 epoch 20.743913650512695 sec\n",
            "\n",
            "Epoch 2 Batch 0 Loss 0.6049\n",
            "Epoch 2 Batch 100 Loss 0.5623\n",
            "Epoch 2 Batch 200 Loss 0.5479\n",
            "[INFO] Validation loss improved from 0.12866294384002686 to 0.10828609019517899, saving model weights...\n",
            "Epoch 2 [Training Loss] : 0.5713\n",
            "Epoch 2 [Validation Loss] : 0.1083\n",
            "Time taken for 1 epoch 8.622982263565063 sec\n",
            "\n",
            "Epoch 3 Batch 0 Loss 0.5320\n",
            "Epoch 3 Batch 100 Loss 0.5049\n",
            "Epoch 3 Batch 200 Loss 0.4967\n",
            "[INFO] Validation loss improved from 0.10828609019517899 to 0.08974621444940567, saving model weights...\n",
            "Epoch 3 [Training Loss] : 0.5123\n",
            "Epoch 3 [Validation Loss] : 0.0897\n",
            "Time taken for 1 epoch 9.110194444656372 sec\n",
            "\n",
            "Epoch 4 Batch 0 Loss 0.4649\n",
            "Epoch 4 Batch 100 Loss 0.4500\n",
            "Epoch 4 Batch 200 Loss 0.4507\n",
            "[INFO] Validation loss improved from 0.08974621444940567 to 0.08065206557512283, saving model weights...\n",
            "Epoch 4 [Training Loss] : 0.4514\n",
            "Epoch 4 [Validation Loss] : 0.0807\n",
            "Time taken for 1 epoch 9.498546123504639 sec\n",
            "\n",
            "Epoch 5 Batch 0 Loss 0.4043\n",
            "Epoch 5 Batch 100 Loss 0.4053\n",
            "Epoch 5 Batch 200 Loss 0.4100\n",
            "[INFO] Validation loss improved from 0.08065206557512283 to 0.07570390403270721, saving model weights...\n",
            "Epoch 5 [Training Loss] : 0.3978\n",
            "Epoch 5 [Validation Loss] : 0.0757\n",
            "Time taken for 1 epoch 9.814576864242554 sec\n",
            "\n",
            "Epoch 6 Batch 0 Loss 0.3451\n",
            "Epoch 6 Batch 100 Loss 0.3565\n",
            "Epoch 6 Batch 200 Loss 0.3693\n",
            "[INFO] Validation loss improved from 0.07570390403270721 to 0.07279948145151138, saving model weights...\n",
            "Epoch 6 [Training Loss] : 0.3494\n",
            "Epoch 6 [Validation Loss] : 0.0728\n",
            "Time taken for 1 epoch 9.449053525924683 sec\n",
            "\n",
            "Epoch 7 Batch 0 Loss 0.2982\n",
            "Epoch 7 Batch 100 Loss 0.3118\n",
            "Epoch 7 Batch 200 Loss 0.3317\n",
            "[INFO] Validation loss improved from 0.07279948145151138 to 0.07107286900281906, saving model weights...\n",
            "Epoch 7 [Training Loss] : 0.3047\n",
            "Epoch 7 [Validation Loss] : 0.0711\n",
            "Time taken for 1 epoch 8.899318933486938 sec\n",
            "\n",
            "Epoch 8 Batch 0 Loss 0.2592\n",
            "Epoch 8 Batch 100 Loss 0.2731\n",
            "Epoch 8 Batch 200 Loss 0.2920\n",
            "[INFO] Validation loss improved from 0.07107286900281906 to 0.07065702229738235, saving model weights...\n",
            "Epoch 8 [Training Loss] : 0.2654\n",
            "Epoch 8 [Validation Loss] : 0.0707\n",
            "Time taken for 1 epoch 8.799949169158936 sec\n",
            "\n",
            "Epoch 9 Batch 0 Loss 0.2206\n",
            "Epoch 9 Batch 100 Loss 0.2421\n",
            "Epoch 9 Batch 200 Loss 0.2514\n",
            "[INFO] Validation loss improved from 0.07065702229738235 to 0.07034726440906525, saving model weights...\n",
            "Epoch 9 [Training Loss] : 0.2300\n",
            "Epoch 9 [Validation Loss] : 0.0703\n",
            "Time taken for 1 epoch 9.074395179748535 sec\n",
            "\n",
            "Epoch 10 Batch 0 Loss 0.1890\n",
            "Epoch 10 Batch 100 Loss 0.2056\n",
            "Epoch 10 Batch 200 Loss 0.2294\n",
            "[INFO] Validation loss improved from 0.07034726440906525 to 0.06926889717578888, saving model weights...\n",
            "Epoch 10 [Training Loss] : 0.1982\n",
            "Epoch 10 [Validation Loss] : 0.0693\n",
            "Time taken for 1 epoch 8.654568195343018 sec\n",
            "\n",
            "Epoch 11 Batch 0 Loss 0.1631\n",
            "Epoch 11 Batch 100 Loss 0.1698\n",
            "Epoch 11 Batch 200 Loss 0.1941\n",
            "Epoch 11 [Training Loss] : 0.1682\n",
            "Epoch 11 [Validation Loss] : 0.0694\n",
            "Time taken for 1 epoch 9.683337688446045 sec\n",
            "\n",
            "Epoch 12 Batch 0 Loss 0.1397\n",
            "Epoch 12 Batch 100 Loss 0.1460\n",
            "Epoch 12 Batch 200 Loss 0.1702\n",
            "Epoch 12 [Training Loss] : 0.1416\n",
            "Epoch 12 [Validation Loss] : 0.0705\n",
            "Time taken for 1 epoch 9.226902484893799 sec\n",
            "\n",
            "Epoch 13 Batch 0 Loss 0.1170\n",
            "Epoch 13 Batch 100 Loss 0.1233\n",
            "Epoch 13 Batch 200 Loss 0.1398\n",
            "Epoch 13 [Training Loss] : 0.1185\n",
            "Epoch 13 [Validation Loss] : 0.0696\n",
            "Time taken for 1 epoch 8.975070714950562 sec\n",
            "\n",
            "Epoch 14 Batch 0 Loss 0.0949\n",
            "Epoch 14 Batch 100 Loss 0.1013\n",
            "Epoch 14 Batch 200 Loss 0.1194\n",
            "Epoch 14 [Training Loss] : 0.0998\n",
            "Epoch 14 [Validation Loss] : 0.0696\n",
            "Time taken for 1 epoch 8.457971334457397 sec\n",
            "\n",
            "Epoch 15 Batch 0 Loss 0.0817\n",
            "Epoch 15 Batch 100 Loss 0.0880\n",
            "Epoch 15 Batch 200 Loss 0.0977\n",
            "Epoch 15 [Training Loss] : 0.0836\n",
            "Epoch 15 [Validation Loss] : 0.0704\n",
            "Time taken for 1 epoch 8.554429292678833 sec\n",
            "\n",
            "Epoch 16 Batch 0 Loss 0.0695\n",
            "Epoch 16 Batch 100 Loss 0.0736\n",
            "Epoch 16 Batch 200 Loss 0.0816\n",
            "Epoch 16 [Training Loss] : 0.0698\n",
            "Epoch 16 [Validation Loss] : 0.0704\n",
            "Time taken for 1 epoch 8.597604990005493 sec\n",
            "\n",
            "Epoch 17 Batch 0 Loss 0.0571\n",
            "Epoch 17 Batch 100 Loss 0.0596\n",
            "Epoch 17 Batch 200 Loss 0.0763\n",
            "Epoch 17 [Training Loss] : 0.0585\n",
            "Epoch 17 [Validation Loss] : 0.0715\n",
            "Time taken for 1 epoch 8.450416088104248 sec\n",
            "\n",
            "Epoch 18 Batch 0 Loss 0.0484\n",
            "Epoch 18 Batch 100 Loss 0.0498\n",
            "Epoch 18 Batch 200 Loss 0.0598\n",
            "Epoch 18 [Training Loss] : 0.0499\n",
            "Epoch 18 [Validation Loss] : 0.0721\n",
            "Time taken for 1 epoch 8.904979705810547 sec\n",
            "\n",
            "Epoch 19 Batch 0 Loss 0.0418\n",
            "Epoch 19 Batch 100 Loss 0.0409\n",
            "Epoch 19 Batch 200 Loss 0.0491\n",
            "Epoch 19 [Training Loss] : 0.0422\n",
            "Epoch 19 [Validation Loss] : 0.0727\n",
            "Time taken for 1 epoch 9.23619556427002 sec\n",
            "\n",
            "Epoch 20 Batch 0 Loss 0.0410\n",
            "Epoch 20 Batch 100 Loss 0.0398\n",
            "Epoch 20 Batch 200 Loss 0.0424\n",
            "Epoch 20 [Training Loss] : 0.0364\n",
            "Epoch 20 [Validation Loss] : 0.0735\n",
            "Time taken for 1 epoch 9.218698978424072 sec\n",
            "\n",
            "Epoch 21 Batch 0 Loss 0.0309\n",
            "Epoch 21 Batch 100 Loss 0.0289\n",
            "Epoch 21 Batch 200 Loss 0.0336\n",
            "Epoch 21 [Training Loss] : 0.0304\n",
            "Epoch 21 [Validation Loss] : 0.0740\n",
            "Time taken for 1 epoch 8.720405578613281 sec\n",
            "\n",
            "Epoch 22 Batch 0 Loss 0.0299\n",
            "Epoch 22 Batch 100 Loss 0.0257\n",
            "Epoch 22 Batch 200 Loss 0.0264\n",
            "Epoch 22 [Training Loss] : 0.0258\n",
            "Epoch 22 [Validation Loss] : 0.0746\n",
            "Time taken for 1 epoch 9.119285821914673 sec\n",
            "\n",
            "Epoch 23 Batch 0 Loss 0.0229\n",
            "Epoch 23 Batch 100 Loss 0.0226\n",
            "Epoch 23 Batch 200 Loss 0.0232\n",
            "Epoch 23 [Training Loss] : 0.0218\n",
            "Epoch 23 [Validation Loss] : 0.0750\n",
            "Time taken for 1 epoch 9.249422788619995 sec\n",
            "\n",
            "Epoch 24 Batch 0 Loss 0.0195\n",
            "Epoch 24 Batch 100 Loss 0.0178\n",
            "Epoch 24 Batch 200 Loss 0.0203\n",
            "Epoch 24 [Training Loss] : 0.0191\n",
            "Epoch 24 [Validation Loss] : 0.0757\n",
            "Time taken for 1 epoch 9.235056400299072 sec\n",
            "\n",
            "Epoch 25 Batch 0 Loss 0.0144\n",
            "Epoch 25 Batch 100 Loss 0.0143\n",
            "Epoch 25 Batch 200 Loss 0.0213\n",
            "Epoch 25 [Training Loss] : 0.0174\n",
            "Epoch 25 [Validation Loss] : 0.0789\n",
            "Time taken for 1 epoch 8.678094863891602 sec\n",
            "\n",
            "Epoch 26 Batch 0 Loss 0.0163\n",
            "Epoch 26 Batch 100 Loss 0.0121\n",
            "Epoch 26 Batch 200 Loss 0.0160\n",
            "Epoch 26 [Training Loss] : 0.0163\n",
            "Epoch 26 [Validation Loss] : 0.0778\n",
            "Time taken for 1 epoch 8.71278691291809 sec\n",
            "\n",
            "Epoch 27 Batch 0 Loss 0.0116\n",
            "Epoch 27 Batch 100 Loss 0.0099\n",
            "Epoch 27 Batch 200 Loss 0.0144\n",
            "Epoch 27 [Training Loss] : 0.0142\n",
            "Epoch 27 [Validation Loss] : 0.0807\n",
            "Time taken for 1 epoch 8.623615026473999 sec\n",
            "\n",
            "Epoch 28 Batch 0 Loss 0.0103\n",
            "Epoch 28 Batch 100 Loss 0.0139\n",
            "Epoch 28 Batch 200 Loss 0.0149\n",
            "Epoch 28 [Training Loss] : 0.0136\n",
            "Epoch 28 [Validation Loss] : 0.0809\n",
            "Time taken for 1 epoch 8.394057750701904 sec\n",
            "\n",
            "Epoch 29 Batch 0 Loss 0.0114\n",
            "Epoch 29 Batch 100 Loss 0.0103\n",
            "Epoch 29 Batch 200 Loss 0.0123\n",
            "Epoch 29 [Training Loss] : 0.0134\n",
            "Epoch 29 [Validation Loss] : 0.0809\n",
            "Time taken for 1 epoch 8.672465801239014 sec\n",
            "\n",
            "Epoch 30 Batch 0 Loss 0.0084\n",
            "Epoch 30 Batch 100 Loss 0.0122\n",
            "Epoch 30 Batch 200 Loss 0.0134\n",
            "Epoch 30 [Training Loss] : 0.0123\n",
            "Epoch 30 [Validation Loss] : 0.0818\n",
            "Time taken for 1 epoch 9.275505542755127 sec\n",
            "\n"
          ],
          "name": "stdout"
        }
      ]
    },
    {
      "cell_type": "code",
      "metadata": {
        "colab": {
          "base_uri": "https://localhost:8080/"
        },
        "id": "16B7osDWQ-uw",
        "outputId": "9ad71ce1-22f5-4dbe-86b3-6eb936875469"
      },
      "source": [
        "# Calculate test loss\n",
        "total_test_loss = 0\n",
        "for (batch, (inp, targ)) in enumerate(test_dataset.take(val_steps_per_epoch)):\n",
        "      test_loss = train_step(inp, targ, enc_hidden, test=True)\n",
        "      total_test_loss += test_loss\n",
        "\n",
        "print(\"Test Loss: {:.4f}\".format((total_test_loss/val_steps_per_epoch).numpy()))"
      ],
      "execution_count": 77,
      "outputs": [
        {
          "output_type": "stream",
          "text": [
            "Test Loss: 0.0839\n"
          ],
          "name": "stdout"
        }
      ]
    },
    {
      "cell_type": "code",
      "metadata": {
        "colab": {
          "base_uri": "https://localhost:8080/",
          "height": 265
        },
        "id": "vsUFmidtydqC",
        "outputId": "d2491949-b2a9-4e97-8ab5-9ad6a21e0742"
      },
      "source": [
        "# plot training and validation loss\n",
        "plt.plot(training_loss, label='Training Loss')\n",
        "plt.plot(validation_loss, label='Validation Loss')\n",
        "plt.legend()\n",
        "plt.show()"
      ],
      "execution_count": 78,
      "outputs": [
        {
          "output_type": "display_data",
          "data": {
            "image/png": "[encoded data removed]",
            "text/plain": [
              "<Figure size 432x288 with 1 Axes>"
            ]
          },
          "metadata": {
            "tags": [],
            "needs_background": "light"
          }
        }
      ]
    },
    {
      "cell_type": "code",
      "metadata": {
        "id": "zK7Dq9UbANn-"
      },
      "source": [
        "def evaluate(sentence):\n",
        "    attention_plot = np.zeros((nepali_maxlen, english_maxlen))\n",
        "    inputs = [english_tokenizer.texts_to_sequences([i])[0][0] for i in sentence.split()]\n",
        "    inputs = pad_sequences([inputs], maxlen=english_maxlen, padding=\"post\")\n",
        "    inputs = tf.convert_to_tensor(inputs)\n",
        "    result = ''\n",
        "    hidden = [tf.zeros((1, units))]\n",
        "    enc_output, enc_hidden = encoder(inputs, hidden)\n",
        "    dec_hidden = enc_hidden\n",
        "    dec_input = tf.expand_dims([nepali_tokenizer.word_index['start_']], 0)\n",
        "    for i in range(nepali_maxlen):\n",
        "        predictions, dec_hidden, attention_weights = decoder(dec_input, dec_hidden,\n",
        "                                                              enc_output)\n",
        "        predicted_id = tf.argmax(predictions[0]).numpy()\n",
        "        if nepali_tokenizer.index_word[predicted_id] == 'end_':\n",
        "            return result, sentence\n",
        "        result += nepali_tokenizer.index_word[predicted_id] + ' '\n",
        "        dec_input = tf.expand_dims([predicted_id], 0)\n",
        "    return result, sentence"
      ],
      "execution_count": 79,
      "outputs": []
    },
    {
      "cell_type": "code",
      "metadata": {
        "id": "tDNZArcrAPtU"
      },
      "source": [
        "def translate(sentence):\n",
        "    result, sentence = evaluate(sentence)\n",
        "    # print(\"Input: {}\".format(sentence))\n",
        "    # print(\"Translated {}\".format(result))\n",
        "    return result"
      ],
      "execution_count": 80,
      "outputs": []
    },
    {
      "cell_type": "code",
      "metadata": {
        "colab": {
          "base_uri": "https://localhost:8080/"
        },
        "id": "C3gHPDGAE9wJ",
        "outputId": "c29bf647-a376-4e81-b718-2963afa75c40"
      },
      "source": [
        "# restoring the latest checkpoint in checkpoint_dir\n",
        "checkpoint.restore(tf.train.latest_checkpoint(checkpoint_dir))"
      ],
      "execution_count": 81,
      "outputs": [
        {
          "output_type": "execute_result",
          "data": {
            "text/plain": [
              "<tensorflow.python.training.tracking.util.InitializationOnlyStatus at 0x7f446a125390>"
            ]
          },
          "metadata": {
            "tags": []
          },
          "execution_count": 81
        }
      ]
    },
    {
      "cell_type": "code",
      "metadata": {
        "id": "Qf61jr_pENJs"
      },
      "source": [
        "# list of sentences to translate\n",
        "english_test = list(X_test.values)\n",
        "# original translation\n",
        "nepali_test = list(y_test.values)\n",
        "\n",
        "# initialize a list to store model translation\n",
        "translations = []\n",
        "\n",
        "# loop over all english sentences\n",
        "for sent in english_test:\n",
        "  translation = translate(sent)\n",
        "  translations.append(translation)\n",
        "\n",
        "# create a dataframe\n",
        "prediction_df = pd.DataFrame()\n",
        "prediction_df['english'] = english_test\n",
        "prediction_df['nepali'] = nepali_test\n",
        "prediction_df['predicted'] = translations\n",
        "\n",
        "# remove start and end tokens\n",
        "prediction_df['english'] = prediction_df.english.str.strip('start_')\n",
        "prediction_df['english'] = prediction_df.english.str.strip('end_')\n",
        "\n",
        "prediction_df['nepali'] = prediction_df.nepali.str.strip('start_')\n",
        "prediction_df['nepali'] = prediction_df.nepali.str.strip('end_')"
      ],
      "execution_count": null,
      "outputs": []
    },
    {
      "cell_type": "code",
      "metadata": {
        "colab": {
          "base_uri": "https://localhost:8080/",
          "height": 204
        },
        "id": "bNyrq49P7uI2",
        "outputId": "34aba3f1-9bbd-4f9a-dfdc-568169e00e9f"
      },
      "source": [
        "prediction_df.sample(5)"
      ],
      "execution_count": 87,
      "outputs": [
        {
          "output_type": "execute_result",
          "data": {
            "text/html": [
              "<div>\n",
              "<style scoped>\n",
              "    .dataframe tbody tr th:only-of-type {\n",
              "        vertical-align: middle;\n",
              "    }\n",
              "\n",
              "    .dataframe tbody tr th {\n",
              "        vertical-align: top;\n",
              "    }\n",
              "\n",
              "    .dataframe thead th {\n",
              "        text-align: right;\n",
              "    }\n",
              "</style>\n",
              "<table border=\"1\" class=\"dataframe\">\n",
              "  <thead>\n",
              "    <tr style=\"text-align: right;\">\n",
              "      <th></th>\n",
              "      <th>english</th>\n",
              "      <th>nepali</th>\n",
              "      <th>predicted</th>\n",
              "    </tr>\n",
              "  </thead>\n",
              "  <tbody>\n",
              "    <tr>\n",
              "      <th>937</th>\n",
              "      <td>i am lefthanded</td>\n",
              "      <td>म बाँचेको छु</td>\n",
              "      <td>म ठट्टामा छु</td>\n",
              "    </tr>\n",
              "    <tr>\n",
              "      <th>377</th>\n",
              "      <td>this book is mine</td>\n",
              "      <td>यो पुस्तक मेरो हो</td>\n",
              "      <td>यो पुस्तक मेरो हो</td>\n",
              "    </tr>\n",
              "    <tr>\n",
              "      <th>754</th>\n",
              "      <td>i can swim</td>\n",
              "      <td>म पौडी खेल्न सक्छु</td>\n",
              "      <td>म पौडिन सक्छु</td>\n",
              "    </tr>\n",
              "    <tr>\n",
              "      <th>540</th>\n",
              "      <td>i have been shot</td>\n",
              "      <td>मलाई गोली लागेको छ</td>\n",
              "      <td>मा शट</td>\n",
              "    </tr>\n",
              "    <tr>\n",
              "      <th>640</th>\n",
              "      <td>i miss tom</td>\n",
              "      <td>म टम सम्झन्छु</td>\n",
              "      <td>म टम घृणा गर्छु</td>\n",
              "    </tr>\n",
              "  </tbody>\n",
              "</table>\n",
              "</div>"
            ],
            "text/plain": [
              "                 english                nepali           predicted\n",
              "937     i am lefthanded          म बाँचेको छु        म ठट्टामा छु \n",
              "377   this book is mine     यो पुस्तक मेरो हो   यो पुस्तक मेरो हो \n",
              "754          i can swim    म पौडी खेल्न सक्छु       म पौडिन सक्छु \n",
              "540    i have been shot    मलाई गोली लागेको छ               मा शट \n",
              "640          i miss tom         म टम सम्झन्छु     म टम घृणा गर्छु "
            ]
          },
          "metadata": {
            "tags": []
          },
          "execution_count": 87
        }
      ]
    },
    {
      "cell_type": "code",
      "metadata": {
        "id": "TVol5HhRJ7OF"
      },
      "source": [
        "# save predictions to a disk\n",
        "save_path = os.path.join(prediction_dir, 'model_4_predictions.csv')\n",
        "prediction_df.to_csv(save_path, index=False)"
      ],
      "execution_count": 105,
      "outputs": []
    },
    {
      "cell_type": "markdown",
      "metadata": {
        "id": "bCS6Coa473XS"
      },
      "source": [
        "# Results\n",
        "### Evaluated using BLEU Score\n",
        "\n",
        "**Bilingual Evaluation Understudy Score**\n",
        "\n",
        "The Bilingual Evaluation Understudy Score, or BLEU for short, is a metric for evaluating a generated sentence to a reference sentence.\n",
        "\n",
        "A perfect match results in a score of 1.0, whereas a perfect mismatch results in a score of 0.0.\n",
        "\n",
        "The score was developed for evaluating the predictions made by automatic machine translation systems. It is not perfect, but does offer 5 compelling benefits:\n",
        "\n",
        "- It is quick and inexpensive to calculate.\n",
        "- It is easy to understand.\n",
        "- It is language independent.\n",
        "- It correlates highly with human evaluation.\n",
        "- It has been widely adopted.\n"
      ]
    },
    {
      "cell_type": "code",
      "metadata": {
        "id": "e92jG-Ko6L3Q"
      },
      "source": [
        "# load the predicitons\n",
        "model_1_predictions = pd.read_csv(prediction_dir + '/model_1_predictions.csv')\n",
        "model_2_predictions = pd.read_csv(prediction_dir + '/model_2_predictions.csv')\n",
        "model_3_predictions = pd.read_csv(prediction_dir + '/model_3_predictions.csv')\n",
        "model_4_predictions = pd.read_csv(prediction_dir + '/model_4_predictions.csv')"
      ],
      "execution_count": 106,
      "outputs": []
    },
    {
      "cell_type": "code",
      "metadata": {
        "id": "M98Trz5o8v_w"
      },
      "source": [
        "# calculate blue_score\n",
        "def calculate_score(pred_df):\n",
        "    # list to store reference and translation\n",
        "    actual, predicted = [], []\n",
        "    for row in pred_df.itertuples():\n",
        "        org = row.nepali.split()\n",
        "        pred = row.predicted.split()\n",
        "        actual.append([org])\n",
        "        predicted.append(pred)\n",
        "    print('BLUE-1: {:.4f}'.format(corpus_bleu(actual, predicted, weights=[1.0, 0, 0, 0], smoothing_function=SmoothingFunction().method1)))\n",
        "    print('BLUE-2: {:.4f}'.format(corpus_bleu(actual, predicted, weights=[0.5, 0.5, 0, 0], smoothing_function=SmoothingFunction().method1)))\n",
        "    print('tBLUE-3: {:.4f}'.format(corpus_bleu(actual, predicted, weights=[0.3, 0.3, 0.3, 0], smoothing_function=SmoothingFunction().method1)))\n",
        "    print('BLUE-4: {:.4f}'.format(corpus_bleu(actual, predicted, weights=[0.25, 0.25, 0.25, 0.25], smoothing_function=SmoothingFunction().method1)))"
      ],
      "execution_count": 135,
      "outputs": []
    },
    {
      "cell_type": "code",
      "metadata": {
        "colab": {
          "base_uri": "https://localhost:8080/"
        },
        "id": "ps1qY-MA80HZ",
        "outputId": "a307f4a2-81bb-46fd-bda2-ac02392da473"
      },
      "source": [
        "# calculate bleu score for all predictions\n",
        "helper = [\"Model-1 Scores\", \"Model-2 Scores\", \"Model-3 Scores\", \"Model-4 Scores\"]\n",
        "model_preds = [model_1_predictions, model_2_predictions, model_3_predictions,\n",
        "               model_4_predictions]\n",
        "for i,predictions in enumerate(model_preds):\n",
        "    print('-----' +helper[i]+ ' -----')\n",
        "    calculate_score(predictions)\n",
        "    print(\" \")"
      ],
      "execution_count": 136,
      "outputs": [
        {
          "output_type": "stream",
          "text": [
            "-----Model-1 Scores -----\n",
            "BLUE-1: 0.1265\n",
            "BLUE-2: 0.0409\n",
            "tBLUE-3: 0.0070\n",
            "BLUE-4: 0.0014\n",
            " \n",
            "-----Model-2 Scores -----\n",
            "BLUE-1: 0.2377\n",
            "BLUE-2: 0.0895\n",
            "tBLUE-3: 0.0460\n",
            "BLUE-4: 0.0159\n",
            " \n",
            "-----Model-3 Scores -----\n",
            "BLUE-1: 0.2467\n",
            "BLUE-2: 0.1076\n",
            "tBLUE-3: 0.0625\n",
            "BLUE-4: 0.0204\n",
            " \n",
            "-----Model-4 Scores -----\n",
            "BLUE-1: 0.4859\n",
            "BLUE-2: 0.3555\n",
            "tBLUE-3: 0.3068\n",
            "BLUE-4: 0.1872\n",
            " \n"
          ],
          "name": "stdout"
        }
      ]
    },
    {
      "cell_type": "code",
      "metadata": {
        "id": "WuU_7krz829s"
      },
      "source": [
        "# Check out some good and bad predictions\n",
        "\n",
        "# calculate sentence bleu\n",
        "def calculate_sentence_bleu(prediction_df):\n",
        "    scores = []\n",
        "    for row in prediction_df.itertuples():\n",
        "        org = row.nepali.split()\n",
        "        pred = row.predicted.split()\n",
        "        score = sentence_bleu([org], pred, smoothing_function=SmoothingFunction().method1)\n",
        "        scores.append(score)\n",
        "    return scores"
      ],
      "execution_count": 126,
      "outputs": []
    },
    {
      "cell_type": "code",
      "metadata": {
        "id": "jR7SL5QQ-YBx"
      },
      "source": [
        "# calculate sentence_bleu score for each translation\n",
        "model_4_predictions['sentence_bleu'] = calculate_sentence_bleu(model_4_predictions)\n",
        "# sort using sentence_bleu score\n",
        "sorted_ = model_4_predictions.sort_values(by='sentence_bleu', ascending=False)"
      ],
      "execution_count": 127,
      "outputs": []
    },
    {
      "cell_type": "code",
      "metadata": {
        "colab": {
          "base_uri": "https://localhost:8080/",
          "height": 359
        },
        "id": "E3Zfb8mN-qb7",
        "outputId": "82064aa6-60cc-4e8a-a89a-8acb1a19589b"
      },
      "source": [
        "# Some good predictions\n",
        "sorted_.head(10)"
      ],
      "execution_count": 128,
      "outputs": [
        {
          "output_type": "execute_result",
          "data": {
            "text/html": [
              "<div>\n",
              "<style scoped>\n",
              "    .dataframe tbody tr th:only-of-type {\n",
              "        vertical-align: middle;\n",
              "    }\n",
              "\n",
              "    .dataframe tbody tr th {\n",
              "        vertical-align: top;\n",
              "    }\n",
              "\n",
              "    .dataframe thead th {\n",
              "        text-align: right;\n",
              "    }\n",
              "</style>\n",
              "<table border=\"1\" class=\"dataframe\">\n",
              "  <thead>\n",
              "    <tr style=\"text-align: right;\">\n",
              "      <th></th>\n",
              "      <th>english</th>\n",
              "      <th>nepali</th>\n",
              "      <th>predicted</th>\n",
              "      <th>sentence_bleu</th>\n",
              "    </tr>\n",
              "  </thead>\n",
              "  <tbody>\n",
              "    <tr>\n",
              "      <th>494</th>\n",
              "      <td>it is my book</td>\n",
              "      <td>यो मेरो किताब हो</td>\n",
              "      <td>यो मेरो किताब हो</td>\n",
              "      <td>1.0</td>\n",
              "    </tr>\n",
              "    <tr>\n",
              "      <th>654</th>\n",
              "      <td>i can see tom</td>\n",
              "      <td>म टम देख्न सक्छु</td>\n",
              "      <td>म टम देख्न सक्छु</td>\n",
              "      <td>1.0</td>\n",
              "    </tr>\n",
              "    <tr>\n",
              "      <th>86</th>\n",
              "      <td>let me see that</td>\n",
              "      <td>मलाई त्यो हेर्न दिनुहोस्</td>\n",
              "      <td>मलाई त्यो हेर्न दिनुहोस्</td>\n",
              "      <td>1.0</td>\n",
              "    </tr>\n",
              "    <tr>\n",
              "      <th>256</th>\n",
              "      <td>he is my teacher</td>\n",
              "      <td>उहाँ मेरो शिक्षक हुनुहुन्छ</td>\n",
              "      <td>उहाँ मेरो शिक्षक हुनुहुन्छ</td>\n",
              "      <td>1.0</td>\n",
              "    </tr>\n",
              "    <tr>\n",
              "      <th>888</th>\n",
              "      <td>i love snow</td>\n",
              "      <td>मलाई हिउँ मन पर्छ</td>\n",
              "      <td>मलाई हिउँ मन पर्छ</td>\n",
              "      <td>1.0</td>\n",
              "    </tr>\n",
              "    <tr>\n",
              "      <th>894</th>\n",
              "      <td>it is a doll</td>\n",
              "      <td>यो एक पुतली हो</td>\n",
              "      <td>यो एक पुतली हो</td>\n",
              "      <td>1.0</td>\n",
              "    </tr>\n",
              "    <tr>\n",
              "      <th>608</th>\n",
              "      <td>it is so easy</td>\n",
              "      <td>यो एकदम सजिलो छ</td>\n",
              "      <td>यो एकदम सजिलो छ</td>\n",
              "      <td>1.0</td>\n",
              "    </tr>\n",
              "    <tr>\n",
              "      <th>906</th>\n",
              "      <td>my house is here</td>\n",
              "      <td>मेरो घर यहाँ छ</td>\n",
              "      <td>मेरो घर यहाँ छ</td>\n",
              "      <td>1.0</td>\n",
              "    </tr>\n",
              "    <tr>\n",
              "      <th>282</th>\n",
              "      <td>that is my dog</td>\n",
              "      <td>त्यो मेरो कुकुर हो</td>\n",
              "      <td>त्यो मेरो कुकुर हो</td>\n",
              "      <td>1.0</td>\n",
              "    </tr>\n",
              "    <tr>\n",
              "      <th>584</th>\n",
              "      <td>i feel very good</td>\n",
              "      <td>म धेरै राम्रो महसुस गर्छु</td>\n",
              "      <td>म धेरै राम्रो महसुस गर्छु</td>\n",
              "      <td>1.0</td>\n",
              "    </tr>\n",
              "  </tbody>\n",
              "</table>\n",
              "</div>"
            ],
            "text/plain": [
              "                english  ... sentence_bleu\n",
              "494      it is my book   ...           1.0\n",
              "654      i can see tom   ...           1.0\n",
              "86     let me see that   ...           1.0\n",
              "256   he is my teacher   ...           1.0\n",
              "888        i love snow   ...           1.0\n",
              "894       it is a doll   ...           1.0\n",
              "608      it is so easy   ...           1.0\n",
              "906   my house is here   ...           1.0\n",
              "282     that is my dog   ...           1.0\n",
              "584   i feel very good   ...           1.0\n",
              "\n",
              "[10 rows x 4 columns]"
            ]
          },
          "metadata": {
            "tags": []
          },
          "execution_count": 128
        }
      ]
    },
    {
      "cell_type": "code",
      "metadata": {
        "colab": {
          "base_uri": "https://localhost:8080/",
          "height": 359
        },
        "id": "h4SfKMRe-tUV",
        "outputId": "f154552b-a9cd-4730-d985-55d0eb41069c"
      },
      "source": [
        "# Some bad predictions\n",
        "sorted_.tail(10)"
      ],
      "execution_count": 129,
      "outputs": [
        {
          "output_type": "execute_result",
          "data": {
            "text/html": [
              "<div>\n",
              "<style scoped>\n",
              "    .dataframe tbody tr th:only-of-type {\n",
              "        vertical-align: middle;\n",
              "    }\n",
              "\n",
              "    .dataframe tbody tr th {\n",
              "        vertical-align: top;\n",
              "    }\n",
              "\n",
              "    .dataframe thead th {\n",
              "        text-align: right;\n",
              "    }\n",
              "</style>\n",
              "<table border=\"1\" class=\"dataframe\">\n",
              "  <thead>\n",
              "    <tr style=\"text-align: right;\">\n",
              "      <th></th>\n",
              "      <th>english</th>\n",
              "      <th>nepali</th>\n",
              "      <th>predicted</th>\n",
              "      <th>sentence_bleu</th>\n",
              "    </tr>\n",
              "  </thead>\n",
              "  <tbody>\n",
              "    <tr>\n",
              "      <th>217</th>\n",
              "      <td>aim higher</td>\n",
              "      <td>उच्च लक्ष्य</td>\n",
              "      <td>लीड समात्नुहोस्</td>\n",
              "      <td>0.0</td>\n",
              "    </tr>\n",
              "    <tr>\n",
              "      <th>697</th>\n",
              "      <td>do not lose heart</td>\n",
              "      <td>नबिर्सनुहोस्</td>\n",
              "      <td>नडराऊ</td>\n",
              "      <td>0.0</td>\n",
              "    </tr>\n",
              "    <tr>\n",
              "      <th>685</th>\n",
              "      <td>i feel refreshed</td>\n",
              "      <td>मलाई स्फूर्ति पाएको छ</td>\n",
              "      <td>म शक्तिहीन महसुस गर्छु</td>\n",
              "      <td>0.0</td>\n",
              "    </tr>\n",
              "    <tr>\n",
              "      <th>221</th>\n",
              "      <td>silence is golden</td>\n",
              "      <td>मौन सुनौलो हो</td>\n",
              "      <td>रसिया बच्चा</td>\n",
              "      <td>0.0</td>\n",
              "    </tr>\n",
              "    <tr>\n",
              "      <th>695</th>\n",
              "      <td>i do not use it</td>\n",
              "      <td>म यसलाई प्रयोग गर्दिन</td>\n",
              "      <td>मलाई यो पाउँदिन</td>\n",
              "      <td>0.0</td>\n",
              "    </tr>\n",
              "    <tr>\n",
              "      <th>694</th>\n",
              "      <td>ask yourself why</td>\n",
              "      <td>आफैलाई किन सोध्नुहोस्</td>\n",
              "      <td>भन्नुहोस् भन्नुहोस्</td>\n",
              "      <td>0.0</td>\n",
              "    </tr>\n",
              "    <tr>\n",
              "      <th>222</th>\n",
              "      <td>you smell bad</td>\n",
              "      <td>तपाईं खराब गन्ध</td>\n",
              "      <td>तिमि नराम्रो छौ</td>\n",
              "      <td>0.0</td>\n",
              "    </tr>\n",
              "    <tr>\n",
              "      <th>223</th>\n",
              "      <td>tom needs to pay</td>\n",
              "      <td>टमले तिर्नु पर्छ</td>\n",
              "      <td>टम दु खी छ</td>\n",
              "      <td>0.0</td>\n",
              "    </tr>\n",
              "    <tr>\n",
              "      <th>224</th>\n",
              "      <td>she rode a camel</td>\n",
              "      <td>उनी ऊँट चढिन्</td>\n",
              "      <td>उनले एउटा नाक उडायो</td>\n",
              "      <td>0.0</td>\n",
              "    </tr>\n",
              "    <tr>\n",
              "      <th>0</th>\n",
              "      <td>she woke up</td>\n",
              "      <td>उनी उठे</td>\n",
              "      <td>उनले समात्दै</td>\n",
              "      <td>0.0</td>\n",
              "    </tr>\n",
              "  </tbody>\n",
              "</table>\n",
              "</div>"
            ],
            "text/plain": [
              "                 english  ... sentence_bleu\n",
              "217          aim higher   ...           0.0\n",
              "697   do not lose heart   ...           0.0\n",
              "685    i feel refreshed   ...           0.0\n",
              "221   silence is golden   ...           0.0\n",
              "695     i do not use it   ...           0.0\n",
              "694    ask yourself why   ...           0.0\n",
              "222       you smell bad   ...           0.0\n",
              "223    tom needs to pay   ...           0.0\n",
              "224    she rode a camel   ...           0.0\n",
              "0           she woke up   ...           0.0\n",
              "\n",
              "[10 rows x 4 columns]"
            ]
          },
          "metadata": {
            "tags": []
          },
          "execution_count": 129
        }
      ]
    }
  ]
}