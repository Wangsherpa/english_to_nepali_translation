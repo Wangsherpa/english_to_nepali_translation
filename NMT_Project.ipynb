{
  "nbformat": 4,
  "nbformat_minor": 0,
  "metadata": {
    "colab": {
      "name": "NMT-Project.ipynb",
      "provenance": [],
      "collapsed_sections": [],
      "mount_file_id": "1rqGVRdjqSW4US2CGZ0KRbaJzqhF5jBIb",
      "authorship_tag": "ABX9TyMElhdZ79bbOkF+2cMwMoYI",
      "include_colab_link": true
    },
    "kernelspec": {
      "name": "python3",
      "display_name": "Python 3"
    },
    "language_info": {
      "name": "python"
    },
    "accelerator": "GPU"
  },
  "cells": [
    {
      "cell_type": "markdown",
      "metadata": {
        "id": "view-in-github",
        "colab_type": "text"
      },
      "source": [
        "<a href=\"https://colab.research.google.com/github/Wangsherpa/english_to_nepali_translation/blob/main/NMT_Project.ipynb\" target=\"_parent\"><img src=\"https://colab.research.google.com/assets/colab-badge.svg\" alt=\"Open In Colab\"/></a>"
      ]
    },
    {
      "cell_type": "code",
      "metadata": {
        "id": "47tHQTQnkeQj"
      },
      "source": [
        "import os\n",
        "import time\n",
        "import pickle\n",
        "import unicodedata\n",
        "import pandas as pd\n",
        "import numpy as np\n",
        "import string\n",
        "import matplotlib.pyplot as plt\n",
        "\n",
        "import tensorflow as tf\n",
        "from tensorflow.keras.layers import LSTM, Dense, Embedding, Input, GRU\n",
        "from tensorflow import keras\n",
        "from tensorflow.keras.models import Model\n",
        "from tensorflow.keras.preprocessing.sequence import pad_sequences\n",
        "from tensorflow.keras.preprocessing.text import Tokenizer\n",
        "\n",
        "from sklearn.model_selection import train_test_split\n",
        "from IPython.display import clear_output"
      ],
      "execution_count": null,
      "outputs": []
    },
    {
      "cell_type": "markdown",
      "metadata": {
        "id": "Cu3pK-rck-xV"
      },
      "source": [
        "# Load the data"
      ]
    },
    {
      "cell_type": "code",
      "metadata": {
        "colab": {
          "base_uri": "https://localhost:8080/",
          "height": 204
        },
        "id": "LlEWLiVAlAbi",
        "outputId": "239b5bab-1f3d-449f-b15e-4f67934ac4a0"
      },
      "source": [
        "# set datapath\n",
        "datapath = \"/content/drive/MyDrive/english-nepali/data/eng_to_nepali_10k.csv\"\n",
        "dataset = pd.read_csv(datapath)\n",
        "dataset.head()"
      ],
      "execution_count": null,
      "outputs": [
        {
          "output_type": "execute_result",
          "data": {
            "text/html": [
              "<div>\n",
              "<style scoped>\n",
              "    .dataframe tbody tr th:only-of-type {\n",
              "        vertical-align: middle;\n",
              "    }\n",
              "\n",
              "    .dataframe tbody tr th {\n",
              "        vertical-align: top;\n",
              "    }\n",
              "\n",
              "    .dataframe thead th {\n",
              "        text-align: right;\n",
              "    }\n",
              "</style>\n",
              "<table border=\"1\" class=\"dataframe\">\n",
              "  <thead>\n",
              "    <tr style=\"text-align: right;\">\n",
              "      <th></th>\n",
              "      <th>English</th>\n",
              "      <th>Nepali</th>\n",
              "    </tr>\n",
              "  </thead>\n",
              "  <tbody>\n",
              "    <tr>\n",
              "      <th>0</th>\n",
              "      <td>go</td>\n",
              "      <td>जानु</td>\n",
              "    </tr>\n",
              "    <tr>\n",
              "      <th>1</th>\n",
              "      <td>hi</td>\n",
              "      <td>हाई</td>\n",
              "    </tr>\n",
              "    <tr>\n",
              "      <th>2</th>\n",
              "      <td>run</td>\n",
              "      <td>दगुर्ने काम</td>\n",
              "    </tr>\n",
              "    <tr>\n",
              "      <th>3</th>\n",
              "      <td>fire</td>\n",
              "      <td>आगो</td>\n",
              "    </tr>\n",
              "    <tr>\n",
              "      <th>4</th>\n",
              "      <td>help</td>\n",
              "      <td>सहायता</td>\n",
              "    </tr>\n",
              "  </tbody>\n",
              "</table>\n",
              "</div>"
            ],
            "text/plain": [
              "  English       Nepali\n",
              "0      go         जानु\n",
              "1      hi          हाई\n",
              "2     run  दगुर्ने काम\n",
              "3    fire          आगो\n",
              "4    help       सहायता"
            ]
          },
          "metadata": {
            "tags": []
          },
          "execution_count": 2
        }
      ]
    },
    {
      "cell_type": "code",
      "metadata": {
        "colab": {
          "base_uri": "https://localhost:8080/"
        },
        "id": "4hsNGQ8oAVO1",
        "outputId": "03fa1009-58f1-4d13-87d4-39d5d7f40a09"
      },
      "source": [
        "dataset.shape"
      ],
      "execution_count": null,
      "outputs": [
        {
          "output_type": "execute_result",
          "data": {
            "text/plain": [
              "(9886, 2)"
            ]
          },
          "metadata": {
            "tags": []
          },
          "execution_count": 3
        }
      ]
    },
    {
      "cell_type": "markdown",
      "metadata": {
        "id": "LDn4nzo3FW5t"
      },
      "source": [
        "## Prepare data for English to Nepali Translation"
      ]
    },
    {
      "cell_type": "code",
      "metadata": {
        "id": "9jI9bh6t0UL_"
      },
      "source": [
        "# add start and end tokens\n",
        "dataset['English'] = 'start_ ' + dataset.English + ' end_'\n",
        "dataset['Nepali'] = 'start_ ' + dataset.Nepali + ' end_'"
      ],
      "execution_count": null,
      "outputs": []
    },
    {
      "cell_type": "markdown",
      "metadata": {
        "id": "oHh24MoZljEw"
      },
      "source": [
        "## Tokenize the data"
      ]
    },
    {
      "cell_type": "code",
      "metadata": {
        "colab": {
          "base_uri": "https://localhost:8080/"
        },
        "id": "c0e0tE0-lhMA",
        "outputId": "503ac383-d6b6-4689-b438-62e1bb107fc7"
      },
      "source": [
        "# create a tokenizer\n",
        "english_tokenizer = Tokenizer(filters='')\n",
        "nepali_tokenizer = Tokenizer(filters='')\n",
        "\n",
        "# fit the tokenizers\n",
        "english_tokenizer.fit_on_texts(dataset['English'])\n",
        "nepali_tokenizer.fit_on_texts(dataset['Nepali'])\n",
        "\n",
        "# get vocab size\n",
        "english_vocabsize = len(english_tokenizer.word_index)\n",
        "nepali_vocabsize = len(nepali_tokenizer.word_index)\n",
        "\n",
        "# english sentences\n",
        "english_sentences = list(dataset['English'].values)\n",
        "\n",
        "# nepali sentences\n",
        "nepali_sentences = list(dataset['Nepali'].values)\n",
        "\n",
        "\n",
        "# get max sentence length\n",
        "english_maxlen = max([len(sent.split()) for sent in english_sentences])\n",
        "nepali_maxlen = max([len(sent.split()) for sent in nepali_sentences])\n",
        "\n",
        "print(\"English Vocab Size:\", english_vocabsize)\n",
        "print(\"Nepali Vocab Size:\", nepali_vocabsize)\n",
        "print(\"Max English Sentence Length:\", english_maxlen)\n",
        "print(\"Max Nepali Sentence Length:\", nepali_maxlen)"
      ],
      "execution_count": null,
      "outputs": [
        {
          "output_type": "stream",
          "text": [
            "English Vocab Size: 2824\n",
            "Nepali Vocab Size: 4352\n",
            "Max English Sentence Length: 8\n",
            "Max Nepali Sentence Length: 11\n"
          ],
          "name": "stdout"
        }
      ]
    },
    {
      "cell_type": "markdown",
      "metadata": {
        "id": "KlOvhB5omVfT"
      },
      "source": [
        "# Split the dataset"
      ]
    },
    {
      "cell_type": "code",
      "metadata": {
        "colab": {
          "base_uri": "https://localhost:8080/"
        },
        "id": "bgbFe1hymQKQ",
        "outputId": "23905cc2-8b6e-4781-eb06-56c220f9a1b1"
      },
      "source": [
        "# Split the data into train test and validation\n",
        "X_train, X_valid, y_train, y_valid = train_test_split(dataset.English, dataset.Nepali, test_size=0.2,\n",
        "                                                    random_state=42)\n",
        "\n",
        "X_valid, X_test, y_valid, y_test = train_test_split(X_valid, y_valid, test_size=0.5, random_state=40)\n",
        "\n",
        "X_train.shape, X_valid.shape, X_test.shape"
      ],
      "execution_count": null,
      "outputs": [
        {
          "output_type": "execute_result",
          "data": {
            "text/plain": [
              "((7908,), (989,), (989,))"
            ]
          },
          "metadata": {
            "tags": []
          },
          "execution_count": 6
        }
      ]
    },
    {
      "cell_type": "markdown",
      "metadata": {
        "id": "WZqzm4qXmdFk"
      },
      "source": [
        "## Convert to TensorFlow Dataset"
      ]
    },
    {
      "cell_type": "code",
      "metadata": {
        "id": "5KjN_FiKmaV5"
      },
      "source": [
        "# write a function to create dataset\n",
        "def create_dataset(source, target, src_tokenizer=english_tokenizer, tar_tokenizer=nepali_tokenizer):\n",
        "    source_in = src_tokenizer.texts_to_sequences(source)\n",
        "    target = tar_tokenizer.texts_to_sequences(target)\n",
        "    \n",
        "    # convert to ragged tensor\n",
        "    source_in = tf.ragged.constant(source_in)\n",
        "    target = tf.ragged.constant(target)\n",
        "    # create target input and target output\n",
        "    target_in = target[:, :-1] # without end token\n",
        "    target_out = target[:, 1:] # without start token\n",
        "    \n",
        "    # pad all data to max len\n",
        "    source_in_padded = source_in.to_tensor(default_value=0)\n",
        "    target_in_padded = target_in.to_tensor(default_value=0)\n",
        "    target_out_padded = target_out.to_tensor(default_value=0)\n",
        "    \n",
        "    # create a tensorflow datasest\n",
        "    dataset = tf.data.Dataset.from_tensor_slices(((source_in_padded, target_in_padded), target_out_padded))\n",
        "    # batch and prefetch dataset\n",
        "    dataset = dataset.batch(32).prefetch(1)\n",
        "    return dataset"
      ],
      "execution_count": null,
      "outputs": []
    },
    {
      "cell_type": "code",
      "metadata": {
        "id": "KGad1rgJmgtm"
      },
      "source": [
        "# create tensorflow datasets\n",
        "train_dataset = create_dataset(X_train, y_train)\n",
        "valid_dataset = create_dataset(X_valid, y_valid)\n",
        "test_dataset = create_dataset(X_test, y_test)"
      ],
      "execution_count": null,
      "outputs": []
    },
    {
      "cell_type": "code",
      "metadata": {
        "colab": {
          "base_uri": "https://localhost:8080/"
        },
        "id": "BGXYBdBRz16B",
        "outputId": "65e8c0e4-297c-4564-d122-8c952d1352f2"
      },
      "source": [
        "for row in train_dataset:\n",
        "  print(english_tokenizer.sequences_to_texts([row[0][0][0, :].numpy()]))\n",
        "  print(nepali_tokenizer.sequences_to_texts([row[0][1][0, :].numpy()]))\n",
        "  print(nepali_tokenizer.sequences_to_texts([row[1][0, :].numpy()]))\n",
        "  break"
      ],
      "execution_count": null,
      "outputs": [
        {
          "output_type": "stream",
          "text": [
            "['start_ i like puzzles end_']\n",
            "['start_ मलाई पजलहरू मन पर्छ']\n",
            "['मलाई पजलहरू मन पर्छ end_']\n"
          ],
          "name": "stdout"
        }
      ]
    },
    {
      "cell_type": "markdown",
      "metadata": {
        "id": "6SJvi0Bhmy-B"
      },
      "source": [
        "# Build the Model"
      ]
    },
    {
      "cell_type": "code",
      "metadata": {
        "colab": {
          "base_uri": "https://localhost:8080/"
        },
        "id": "hQ4-LKkGmjkV",
        "outputId": "e5c09c4f-560f-4fd9-e100-54b0d4757732"
      },
      "source": [
        "# define embedding size\n",
        "src_embed = 300\n",
        "target_embed = 300\n",
        "units = 256\n",
        "\n",
        "# define inputs\n",
        "encoder_inputs = Input(shape=[None], dtype=tf.int32)\n",
        "decoder_inputs = Input(shape=[None], dtype=tf.int32)\n",
        "\n",
        "# encoder embeddings\n",
        "encoder_embeddings = Embedding(english_vocabsize+1, src_embed, mask_zero=True)(encoder_inputs)\n",
        "# define encoder lstm layers\n",
        "encoder_lstm_layer1 = LSTM(units, return_sequences=True, dropout=0.4)\n",
        "encoder_lstm_layer2 = LSTM(units, return_state=True, dropout=0.4)\n",
        "# get encoder states\n",
        "layer1_out = encoder_lstm_layer1(encoder_embeddings)\n",
        "_, en_state_h, en_state_c = encoder_lstm_layer2(layer1_out)\n",
        "encoder_states = [en_state_h, en_state_c]\n",
        "\n",
        "# Decoder embeddings\n",
        "decoder_embeddings = Embedding(nepali_vocabsize+1, target_embed, mask_zero=True)(decoder_inputs)\n",
        "decoder_lstm_layer = LSTM(units, return_sequences=True)\n",
        "decoder_lstm_output = decoder_lstm_layer(decoder_embeddings, initial_state=encoder_states)\n",
        "# get decoder final output\n",
        "decoder_output = Dense(nepali_vocabsize+1, activation=\"softmax\")(decoder_lstm_output)\n",
        "\n",
        "# Create a model\n",
        "model = Model(inputs=[encoder_inputs, decoder_inputs], outputs=[decoder_output])\n",
        "# display model summary\n",
        "model.summary()\n"
      ],
      "execution_count": null,
      "outputs": [
        {
          "output_type": "stream",
          "text": [
            "Model: \"model\"\n",
            "__________________________________________________________________________________________________\n",
            "Layer (type)                    Output Shape         Param #     Connected to                     \n",
            "==================================================================================================\n",
            "input_1 (InputLayer)            [(None, None)]       0                                            \n",
            "__________________________________________________________________________________________________\n",
            "embedding (Embedding)           (None, None, 300)    847500      input_1[0][0]                    \n",
            "__________________________________________________________________________________________________\n",
            "input_2 (InputLayer)            [(None, None)]       0                                            \n",
            "__________________________________________________________________________________________________\n",
            "lstm (LSTM)                     (None, None, 256)    570368      embedding[0][0]                  \n",
            "__________________________________________________________________________________________________\n",
            "embedding_1 (Embedding)         (None, None, 300)    1305900     input_2[0][0]                    \n",
            "__________________________________________________________________________________________________\n",
            "lstm_1 (LSTM)                   [(None, 256), (None, 525312      lstm[0][0]                       \n",
            "__________________________________________________________________________________________________\n",
            "lstm_2 (LSTM)                   (None, None, 256)    570368      embedding_1[0][0]                \n",
            "                                                                 lstm_1[0][1]                     \n",
            "                                                                 lstm_1[0][2]                     \n",
            "__________________________________________________________________________________________________\n",
            "dense (Dense)                   (None, None, 4353)   1118721     lstm_2[0][0]                     \n",
            "==================================================================================================\n",
            "Total params: 4,938,169\n",
            "Trainable params: 4,938,169\n",
            "Non-trainable params: 0\n",
            "__________________________________________________________________________________________________\n"
          ],
          "name": "stdout"
        }
      ]
    },
    {
      "cell_type": "markdown",
      "metadata": {
        "id": "PiO_QcWSnCh2"
      },
      "source": [
        "## Train the Model"
      ]
    },
    {
      "cell_type": "code",
      "metadata": {
        "id": "w_60epejm6tj",
        "colab": {
          "base_uri": "https://localhost:8080/"
        },
        "outputId": "95d06c4e-fe25-40c6-f423-29b05b533206"
      },
      "source": [
        "# checkpoint model\n",
        "save_path = \"/content/drive/MyDrive/english-nepali/checkpoints/model_checkpoint.h5\"\n",
        "checkpoint_cb = tf.keras.callbacks.ModelCheckpoint(save_path, save_best_only=True)\n",
        "early_stopping_cb = tf.keras.callbacks.EarlyStopping(patience=10, restore_best_weights=True)\n",
        "# define optimizer\n",
        "optimizer = tf.keras.optimizers.Adam(learning_rate=0.0001)\n",
        "# compile model\n",
        "model.compile(loss='sparse_categorical_crossentropy', optimizer=optimizer, metrics=[\"accuracy\"])\n",
        "\n",
        "# fit the model\n",
        "history = model.fit(train_dataset, epochs=200, batch_size=64, validation_data=valid_dataset, callbacks=[checkpoint_cb, early_stopping_cb])"
      ],
      "execution_count": null,
      "outputs": [
        {
          "output_type": "stream",
          "text": [
            "Epoch 1/200\n",
            "248/248 [==============================] - 28s 52ms/step - loss: 2.6632 - accuracy: 0.2402 - val_loss: 3.1351 - val_accuracy: 0.2750\n",
            "Epoch 2/200\n",
            "248/248 [==============================] - 10s 39ms/step - loss: 2.0980 - accuracy: 0.2747 - val_loss: 3.0490 - val_accuracy: 0.2755\n",
            "Epoch 3/200\n",
            "248/248 [==============================] - 9s 38ms/step - loss: 2.0300 - accuracy: 0.2759 - val_loss: 2.9807 - val_accuracy: 0.2786\n",
            "Epoch 4/200\n",
            "248/248 [==============================] - 10s 39ms/step - loss: 1.9703 - accuracy: 0.2788 - val_loss: 2.9171 - val_accuracy: 0.2835\n",
            "Epoch 5/200\n",
            "248/248 [==============================] - 10s 39ms/step - loss: 1.9100 - accuracy: 0.2915 - val_loss: 2.8507 - val_accuracy: 0.3056\n",
            "Epoch 6/200\n",
            "248/248 [==============================] - 10s 39ms/step - loss: 1.8534 - accuracy: 0.3133 - val_loss: 2.7939 - val_accuracy: 0.3215\n",
            "Epoch 7/200\n",
            "248/248 [==============================] - 10s 40ms/step - loss: 1.8051 - accuracy: 0.3304 - val_loss: 2.7526 - val_accuracy: 0.3294\n",
            "Epoch 8/200\n",
            "248/248 [==============================] - 10s 39ms/step - loss: 1.7659 - accuracy: 0.3454 - val_loss: 2.7217 - val_accuracy: 0.3346\n",
            "Epoch 9/200\n",
            "248/248 [==============================] - 9s 38ms/step - loss: 1.7315 - accuracy: 0.3535 - val_loss: 2.6949 - val_accuracy: 0.3417\n",
            "Epoch 10/200\n",
            "248/248 [==============================] - 10s 40ms/step - loss: 1.6986 - accuracy: 0.3628 - val_loss: 2.6688 - val_accuracy: 0.3481\n",
            "Epoch 11/200\n",
            "248/248 [==============================] - 10s 40ms/step - loss: 1.6664 - accuracy: 0.3699 - val_loss: 2.6388 - val_accuracy: 0.3557\n",
            "Epoch 12/200\n",
            "248/248 [==============================] - 10s 40ms/step - loss: 1.6321 - accuracy: 0.3787 - val_loss: 2.6097 - val_accuracy: 0.3645\n",
            "Epoch 13/200\n",
            "248/248 [==============================] - 10s 39ms/step - loss: 1.5984 - accuracy: 0.3885 - val_loss: 2.5819 - val_accuracy: 0.3709\n",
            "Epoch 14/200\n",
            "248/248 [==============================] - 10s 39ms/step - loss: 1.5658 - accuracy: 0.3968 - val_loss: 2.5538 - val_accuracy: 0.3809\n",
            "Epoch 15/200\n",
            "248/248 [==============================] - 10s 39ms/step - loss: 1.5358 - accuracy: 0.4054 - val_loss: 2.5328 - val_accuracy: 0.3878\n",
            "Epoch 16/200\n",
            "248/248 [==============================] - 10s 40ms/step - loss: 1.5072 - accuracy: 0.4146 - val_loss: 2.5110 - val_accuracy: 0.3942\n",
            "Epoch 17/200\n",
            "248/248 [==============================] - 10s 40ms/step - loss: 1.4802 - accuracy: 0.4221 - val_loss: 2.4939 - val_accuracy: 0.4018\n",
            "Epoch 18/200\n",
            "248/248 [==============================] - 10s 39ms/step - loss: 1.4542 - accuracy: 0.4308 - val_loss: 2.4742 - val_accuracy: 0.4056\n",
            "Epoch 19/200\n",
            "248/248 [==============================] - 10s 39ms/step - loss: 1.4299 - accuracy: 0.4367 - val_loss: 2.4558 - val_accuracy: 0.4123\n",
            "Epoch 20/200\n",
            "248/248 [==============================] - 10s 39ms/step - loss: 1.4065 - accuracy: 0.4438 - val_loss: 2.4396 - val_accuracy: 0.4189\n",
            "Epoch 21/200\n",
            "248/248 [==============================] - 10s 41ms/step - loss: 1.3836 - accuracy: 0.4489 - val_loss: 2.4299 - val_accuracy: 0.4229\n",
            "Epoch 22/200\n",
            "248/248 [==============================] - 10s 40ms/step - loss: 1.3618 - accuracy: 0.4538 - val_loss: 2.4183 - val_accuracy: 0.4260\n",
            "Epoch 23/200\n",
            "248/248 [==============================] - 10s 39ms/step - loss: 1.3408 - accuracy: 0.4586 - val_loss: 2.4047 - val_accuracy: 0.4308\n",
            "Epoch 24/200\n",
            "248/248 [==============================] - 10s 39ms/step - loss: 1.3204 - accuracy: 0.4648 - val_loss: 2.3997 - val_accuracy: 0.4358\n",
            "Epoch 25/200\n",
            "248/248 [==============================] - 10s 40ms/step - loss: 1.3006 - accuracy: 0.4706 - val_loss: 2.3901 - val_accuracy: 0.4398\n",
            "Epoch 26/200\n",
            "248/248 [==============================] - 10s 41ms/step - loss: 1.2810 - accuracy: 0.4780 - val_loss: 2.3803 - val_accuracy: 0.4448\n",
            "Epoch 27/200\n",
            "248/248 [==============================] - 10s 39ms/step - loss: 1.2627 - accuracy: 0.4842 - val_loss: 2.3714 - val_accuracy: 0.4474\n",
            "Epoch 28/200\n",
            "248/248 [==============================] - 10s 39ms/step - loss: 1.2443 - accuracy: 0.4892 - val_loss: 2.3613 - val_accuracy: 0.4500\n",
            "Epoch 29/200\n",
            "248/248 [==============================] - 10s 40ms/step - loss: 1.2273 - accuracy: 0.4925 - val_loss: 2.3631 - val_accuracy: 0.4567\n",
            "Epoch 30/200\n",
            "248/248 [==============================] - 10s 39ms/step - loss: 1.2103 - accuracy: 0.4977 - val_loss: 2.3474 - val_accuracy: 0.4581\n",
            "Epoch 31/200\n",
            "248/248 [==============================] - 10s 40ms/step - loss: 1.1938 - accuracy: 0.5028 - val_loss: 2.3427 - val_accuracy: 0.4588\n",
            "Epoch 32/200\n",
            "248/248 [==============================] - 10s 40ms/step - loss: 1.1778 - accuracy: 0.5074 - val_loss: 2.3382 - val_accuracy: 0.4597\n",
            "Epoch 33/200\n",
            "248/248 [==============================] - 10s 41ms/step - loss: 1.1615 - accuracy: 0.5125 - val_loss: 2.3309 - val_accuracy: 0.4619\n",
            "Epoch 34/200\n",
            "248/248 [==============================] - 10s 39ms/step - loss: 1.1461 - accuracy: 0.5162 - val_loss: 2.3259 - val_accuracy: 0.4643\n",
            "Epoch 35/200\n",
            "248/248 [==============================] - 10s 39ms/step - loss: 1.1314 - accuracy: 0.5197 - val_loss: 2.3213 - val_accuracy: 0.4683\n",
            "Epoch 36/200\n",
            "248/248 [==============================] - 10s 41ms/step - loss: 1.1170 - accuracy: 0.5241 - val_loss: 2.3189 - val_accuracy: 0.4700\n",
            "Epoch 37/200\n",
            "248/248 [==============================] - 10s 40ms/step - loss: 1.1022 - accuracy: 0.5267 - val_loss: 2.3134 - val_accuracy: 0.4685\n",
            "Epoch 38/200\n",
            "248/248 [==============================] - 10s 39ms/step - loss: 1.0890 - accuracy: 0.5303 - val_loss: 2.3086 - val_accuracy: 0.4733\n",
            "Epoch 39/200\n",
            "248/248 [==============================] - 10s 40ms/step - loss: 1.0746 - accuracy: 0.5340 - val_loss: 2.3057 - val_accuracy: 0.4764\n",
            "Epoch 40/200\n",
            "248/248 [==============================] - 10s 39ms/step - loss: 1.0620 - accuracy: 0.5376 - val_loss: 2.3006 - val_accuracy: 0.4787\n",
            "Epoch 41/200\n",
            "248/248 [==============================] - 10s 40ms/step - loss: 1.0477 - accuracy: 0.5417 - val_loss: 2.2993 - val_accuracy: 0.4802\n",
            "Epoch 42/200\n",
            "248/248 [==============================] - 10s 41ms/step - loss: 1.0350 - accuracy: 0.5444 - val_loss: 2.2962 - val_accuracy: 0.4802\n",
            "Epoch 43/200\n",
            "248/248 [==============================] - 10s 40ms/step - loss: 1.0218 - accuracy: 0.5495 - val_loss: 2.2924 - val_accuracy: 0.4833\n",
            "Epoch 44/200\n",
            "248/248 [==============================] - 10s 39ms/step - loss: 1.0085 - accuracy: 0.5519 - val_loss: 2.2887 - val_accuracy: 0.4847\n",
            "Epoch 45/200\n",
            "248/248 [==============================] - 10s 39ms/step - loss: 0.9966 - accuracy: 0.5557 - val_loss: 2.2886 - val_accuracy: 0.4859\n",
            "Epoch 46/200\n",
            "248/248 [==============================] - 10s 40ms/step - loss: 0.9846 - accuracy: 0.5600 - val_loss: 2.2868 - val_accuracy: 0.4887\n",
            "Epoch 47/200\n",
            "248/248 [==============================] - 10s 39ms/step - loss: 0.9729 - accuracy: 0.5620 - val_loss: 2.2828 - val_accuracy: 0.4901\n",
            "Epoch 48/200\n",
            "248/248 [==============================] - 10s 40ms/step - loss: 0.9609 - accuracy: 0.5651 - val_loss: 2.2797 - val_accuracy: 0.4937\n",
            "Epoch 49/200\n",
            "248/248 [==============================] - 10s 39ms/step - loss: 0.9480 - accuracy: 0.5696 - val_loss: 2.2781 - val_accuracy: 0.4961\n",
            "Epoch 50/200\n",
            "248/248 [==============================] - 10s 39ms/step - loss: 0.9367 - accuracy: 0.5721 - val_loss: 2.2747 - val_accuracy: 0.4966\n",
            "Epoch 51/200\n",
            "248/248 [==============================] - 10s 39ms/step - loss: 0.9254 - accuracy: 0.5758 - val_loss: 2.2698 - val_accuracy: 0.4958\n",
            "Epoch 52/200\n",
            "248/248 [==============================] - 10s 40ms/step - loss: 0.9141 - accuracy: 0.5790 - val_loss: 2.2702 - val_accuracy: 0.4996\n",
            "Epoch 53/200\n",
            "248/248 [==============================] - 10s 41ms/step - loss: 0.9033 - accuracy: 0.5821 - val_loss: 2.2667 - val_accuracy: 0.4987\n",
            "Epoch 54/200\n",
            "248/248 [==============================] - 10s 40ms/step - loss: 0.8918 - accuracy: 0.5844 - val_loss: 2.2647 - val_accuracy: 0.5008\n",
            "Epoch 55/200\n",
            "248/248 [==============================] - 10s 40ms/step - loss: 0.8809 - accuracy: 0.5878 - val_loss: 2.2663 - val_accuracy: 0.5023\n",
            "Epoch 56/200\n",
            "248/248 [==============================] - 10s 41ms/step - loss: 0.8707 - accuracy: 0.5915 - val_loss: 2.2666 - val_accuracy: 0.5056\n",
            "Epoch 57/200\n",
            "248/248 [==============================] - 10s 41ms/step - loss: 0.8592 - accuracy: 0.5952 - val_loss: 2.2569 - val_accuracy: 0.5044\n",
            "Epoch 58/200\n",
            "248/248 [==============================] - 10s 40ms/step - loss: 0.8497 - accuracy: 0.5980 - val_loss: 2.2584 - val_accuracy: 0.5089\n",
            "Epoch 59/200\n",
            "248/248 [==============================] - 10s 40ms/step - loss: 0.8380 - accuracy: 0.6019 - val_loss: 2.2585 - val_accuracy: 0.5089\n",
            "Epoch 60/200\n",
            "248/248 [==============================] - 10s 39ms/step - loss: 0.8285 - accuracy: 0.6052 - val_loss: 2.2606 - val_accuracy: 0.5113\n",
            "Epoch 61/200\n",
            "248/248 [==============================] - 10s 40ms/step - loss: 0.8184 - accuracy: 0.6097 - val_loss: 2.2558 - val_accuracy: 0.5113\n",
            "Epoch 62/200\n",
            "248/248 [==============================] - 10s 39ms/step - loss: 0.8080 - accuracy: 0.6126 - val_loss: 2.2528 - val_accuracy: 0.5110\n",
            "Epoch 63/200\n",
            "248/248 [==============================] - 10s 40ms/step - loss: 0.7982 - accuracy: 0.6178 - val_loss: 2.2551 - val_accuracy: 0.5141\n",
            "Epoch 64/200\n",
            "248/248 [==============================] - 10s 39ms/step - loss: 0.7882 - accuracy: 0.6219 - val_loss: 2.2523 - val_accuracy: 0.5134\n",
            "Epoch 65/200\n",
            "248/248 [==============================] - 10s 40ms/step - loss: 0.7789 - accuracy: 0.6242 - val_loss: 2.2512 - val_accuracy: 0.5153\n",
            "Epoch 66/200\n",
            "248/248 [==============================] - 10s 41ms/step - loss: 0.7696 - accuracy: 0.6291 - val_loss: 2.2504 - val_accuracy: 0.5153\n",
            "Epoch 67/200\n",
            "248/248 [==============================] - 10s 39ms/step - loss: 0.7606 - accuracy: 0.6294 - val_loss: 2.2486 - val_accuracy: 0.5182\n",
            "Epoch 68/200\n",
            "248/248 [==============================] - 10s 40ms/step - loss: 0.7502 - accuracy: 0.6360 - val_loss: 2.2493 - val_accuracy: 0.5182\n",
            "Epoch 69/200\n",
            "248/248 [==============================] - 10s 40ms/step - loss: 0.7418 - accuracy: 0.6373 - val_loss: 2.2447 - val_accuracy: 0.5201\n",
            "Epoch 70/200\n",
            "248/248 [==============================] - 10s 40ms/step - loss: 0.7323 - accuracy: 0.6422 - val_loss: 2.2452 - val_accuracy: 0.5210\n",
            "Epoch 71/200\n",
            "248/248 [==============================] - 10s 42ms/step - loss: 0.7229 - accuracy: 0.6475 - val_loss: 2.2446 - val_accuracy: 0.5208\n",
            "Epoch 72/200\n",
            "248/248 [==============================] - 10s 41ms/step - loss: 0.7146 - accuracy: 0.6486 - val_loss: 2.2465 - val_accuracy: 0.5220\n",
            "Epoch 73/200\n",
            "248/248 [==============================] - 10s 41ms/step - loss: 0.7054 - accuracy: 0.6526 - val_loss: 2.2525 - val_accuracy: 0.5227\n",
            "Epoch 74/200\n",
            "248/248 [==============================] - 10s 40ms/step - loss: 0.6970 - accuracy: 0.6575 - val_loss: 2.2446 - val_accuracy: 0.5253\n",
            "Epoch 75/200\n",
            "248/248 [==============================] - 10s 40ms/step - loss: 0.6886 - accuracy: 0.6622 - val_loss: 2.2456 - val_accuracy: 0.5260\n",
            "Epoch 76/200\n",
            "248/248 [==============================] - 10s 40ms/step - loss: 0.6800 - accuracy: 0.6636 - val_loss: 2.2469 - val_accuracy: 0.5270\n",
            "Epoch 77/200\n",
            "248/248 [==============================] - 10s 40ms/step - loss: 0.6720 - accuracy: 0.6675 - val_loss: 2.2439 - val_accuracy: 0.5284\n",
            "Epoch 78/200\n",
            "248/248 [==============================] - 10s 41ms/step - loss: 0.6635 - accuracy: 0.6723 - val_loss: 2.2422 - val_accuracy: 0.5279\n",
            "Epoch 79/200\n",
            "248/248 [==============================] - 10s 40ms/step - loss: 0.6545 - accuracy: 0.6754 - val_loss: 2.2422 - val_accuracy: 0.5284\n",
            "Epoch 80/200\n",
            "248/248 [==============================] - 10s 40ms/step - loss: 0.6470 - accuracy: 0.6774 - val_loss: 2.2401 - val_accuracy: 0.5305\n",
            "Epoch 81/200\n",
            "248/248 [==============================] - 10s 40ms/step - loss: 0.6385 - accuracy: 0.6821 - val_loss: 2.2438 - val_accuracy: 0.5284\n",
            "Epoch 82/200\n",
            "248/248 [==============================] - 10s 40ms/step - loss: 0.6299 - accuracy: 0.6856 - val_loss: 2.2392 - val_accuracy: 0.5284\n",
            "Epoch 83/200\n",
            "248/248 [==============================] - 10s 41ms/step - loss: 0.6217 - accuracy: 0.6914 - val_loss: 2.2400 - val_accuracy: 0.5322\n",
            "Epoch 84/200\n",
            "248/248 [==============================] - 10s 40ms/step - loss: 0.6146 - accuracy: 0.6943 - val_loss: 2.2385 - val_accuracy: 0.5317\n",
            "Epoch 85/200\n",
            "248/248 [==============================] - 10s 39ms/step - loss: 0.6073 - accuracy: 0.6974 - val_loss: 2.2382 - val_accuracy: 0.5350\n",
            "Epoch 86/200\n",
            "248/248 [==============================] - 10s 39ms/step - loss: 0.5994 - accuracy: 0.7005 - val_loss: 2.2376 - val_accuracy: 0.5341\n",
            "Epoch 87/200\n",
            "248/248 [==============================] - 10s 39ms/step - loss: 0.5904 - accuracy: 0.7055 - val_loss: 2.2406 - val_accuracy: 0.5343\n",
            "Epoch 88/200\n",
            "248/248 [==============================] - 10s 40ms/step - loss: 0.5836 - accuracy: 0.7096 - val_loss: 2.2385 - val_accuracy: 0.5374\n",
            "Epoch 89/200\n",
            "248/248 [==============================] - 10s 40ms/step - loss: 0.5776 - accuracy: 0.7102 - val_loss: 2.2338 - val_accuracy: 0.5357\n",
            "Epoch 90/200\n",
            "248/248 [==============================] - 10s 40ms/step - loss: 0.5690 - accuracy: 0.7156 - val_loss: 2.2329 - val_accuracy: 0.5379\n",
            "Epoch 91/200\n",
            "248/248 [==============================] - 10s 40ms/step - loss: 0.5619 - accuracy: 0.7197 - val_loss: 2.2336 - val_accuracy: 0.5388\n",
            "Epoch 92/200\n",
            "248/248 [==============================] - 10s 41ms/step - loss: 0.5544 - accuracy: 0.7241 - val_loss: 2.2353 - val_accuracy: 0.5372\n",
            "Epoch 93/200\n",
            "248/248 [==============================] - 10s 39ms/step - loss: 0.5468 - accuracy: 0.7264 - val_loss: 2.2340 - val_accuracy: 0.5395\n",
            "Epoch 94/200\n",
            "248/248 [==============================] - 10s 39ms/step - loss: 0.5402 - accuracy: 0.7290 - val_loss: 2.2315 - val_accuracy: 0.5407\n",
            "Epoch 95/200\n",
            "248/248 [==============================] - 10s 40ms/step - loss: 0.5332 - accuracy: 0.7351 - val_loss: 2.2316 - val_accuracy: 0.5410\n",
            "Epoch 96/200\n",
            "248/248 [==============================] - 10s 40ms/step - loss: 0.5253 - accuracy: 0.7364 - val_loss: 2.2380 - val_accuracy: 0.5429\n",
            "Epoch 97/200\n",
            "248/248 [==============================] - 10s 40ms/step - loss: 0.5190 - accuracy: 0.7410 - val_loss: 2.2331 - val_accuracy: 0.5419\n",
            "Epoch 98/200\n",
            "248/248 [==============================] - 10s 39ms/step - loss: 0.5115 - accuracy: 0.7452 - val_loss: 2.2349 - val_accuracy: 0.5436\n",
            "Epoch 99/200\n",
            "248/248 [==============================] - 10s 40ms/step - loss: 0.5049 - accuracy: 0.7505 - val_loss: 2.2298 - val_accuracy: 0.5438\n",
            "Epoch 100/200\n",
            "248/248 [==============================] - 10s 39ms/step - loss: 0.4977 - accuracy: 0.7533 - val_loss: 2.2339 - val_accuracy: 0.5429\n",
            "Epoch 101/200\n",
            "248/248 [==============================] - 10s 39ms/step - loss: 0.4918 - accuracy: 0.7557 - val_loss: 2.2343 - val_accuracy: 0.5462\n",
            "Epoch 102/200\n",
            "248/248 [==============================] - 10s 40ms/step - loss: 0.4845 - accuracy: 0.7595 - val_loss: 2.2340 - val_accuracy: 0.5433\n",
            "Epoch 103/200\n",
            "248/248 [==============================] - 10s 39ms/step - loss: 0.4791 - accuracy: 0.7624 - val_loss: 2.2341 - val_accuracy: 0.5467\n",
            "Epoch 104/200\n",
            "248/248 [==============================] - 10s 40ms/step - loss: 0.4721 - accuracy: 0.7654 - val_loss: 2.2335 - val_accuracy: 0.5460\n",
            "Epoch 105/200\n",
            "248/248 [==============================] - 10s 39ms/step - loss: 0.4654 - accuracy: 0.7690 - val_loss: 2.2345 - val_accuracy: 0.5467\n",
            "Epoch 106/200\n",
            "248/248 [==============================] - 10s 39ms/step - loss: 0.4590 - accuracy: 0.7729 - val_loss: 2.2310 - val_accuracy: 0.5500\n",
            "Epoch 107/200\n",
            "248/248 [==============================] - 10s 40ms/step - loss: 0.4533 - accuracy: 0.7751 - val_loss: 2.2334 - val_accuracy: 0.5493\n",
            "Epoch 108/200\n",
            "248/248 [==============================] - 10s 39ms/step - loss: 0.4476 - accuracy: 0.7791 - val_loss: 2.2368 - val_accuracy: 0.5495\n",
            "Epoch 109/200\n",
            "248/248 [==============================] - 10s 39ms/step - loss: 0.4418 - accuracy: 0.7813 - val_loss: 2.2289 - val_accuracy: 0.5509\n",
            "Epoch 110/200\n",
            "248/248 [==============================] - 10s 39ms/step - loss: 0.4347 - accuracy: 0.7857 - val_loss: 2.2334 - val_accuracy: 0.5493\n",
            "Epoch 111/200\n",
            "248/248 [==============================] - 10s 39ms/step - loss: 0.4288 - accuracy: 0.7903 - val_loss: 2.2327 - val_accuracy: 0.5505\n",
            "Epoch 112/200\n",
            "248/248 [==============================] - 10s 39ms/step - loss: 0.4226 - accuracy: 0.7922 - val_loss: 2.2345 - val_accuracy: 0.5512\n",
            "Epoch 113/200\n",
            "248/248 [==============================] - 10s 40ms/step - loss: 0.4173 - accuracy: 0.7955 - val_loss: 2.2298 - val_accuracy: 0.5517\n",
            "Epoch 114/200\n",
            "248/248 [==============================] - 10s 40ms/step - loss: 0.4108 - accuracy: 0.8008 - val_loss: 2.2303 - val_accuracy: 0.5521\n",
            "Epoch 115/200\n",
            "248/248 [==============================] - 10s 40ms/step - loss: 0.4063 - accuracy: 0.8011 - val_loss: 2.2378 - val_accuracy: 0.5524\n",
            "Epoch 116/200\n",
            "248/248 [==============================] - 10s 39ms/step - loss: 0.4001 - accuracy: 0.8059 - val_loss: 2.2331 - val_accuracy: 0.5526\n",
            "Epoch 117/200\n",
            "248/248 [==============================] - 10s 40ms/step - loss: 0.3941 - accuracy: 0.8083 - val_loss: 2.2326 - val_accuracy: 0.5550\n",
            "Epoch 118/200\n",
            "248/248 [==============================] - 10s 40ms/step - loss: 0.3901 - accuracy: 0.8111 - val_loss: 2.2351 - val_accuracy: 0.5528\n",
            "Epoch 119/200\n",
            "248/248 [==============================] - 10s 40ms/step - loss: 0.3834 - accuracy: 0.8139 - val_loss: 2.2352 - val_accuracy: 0.5540\n"
          ],
          "name": "stdout"
        }
      ]
    },
    {
      "cell_type": "markdown",
      "metadata": {
        "id": "aew_hcpuptxS"
      },
      "source": [
        "## Plot Loss & Accuracy"
      ]
    },
    {
      "cell_type": "code",
      "metadata": {
        "colab": {
          "base_uri": "https://localhost:8080/",
          "height": 513
        },
        "id": "Cx4sgortndI-",
        "outputId": "3203732c-44d4-4e18-f688-3add1b16ec70"
      },
      "source": [
        "# plot loss and accuracy\n",
        "fig, ax = plt.subplots(1, 2, figsize=(20, 8))\n",
        "pd.DataFrame(history.history)[[\"loss\", \"val_loss\"]].plot(ax=ax[0])\n",
        "pd.DataFrame(history.history)[[\"accuracy\", \"val_accuracy\"]].plot(ax=ax[1])\n",
        "ax[0].set_title(\"Training and Validation Loss\")\n",
        "ax[0].set_xlabel(\"Epoch\")\n",
        "ax[0].set_ylabel(\"Loss\")\n",
        "\n",
        "ax[1].set_title(\"Training and Validation Accuracy\")\n",
        "ax[1].set_xlabel(\"Epoch\")\n",
        "ax[1].set_ylabel(\"Accuracy\")\n",
        "plt.show()"
      ],
      "execution_count": null,
      "outputs": [
        {
          "output_type": "display_data",
          "data": {
            "image/png": "[encoded data removed]",
            "text/plain": [
              "<Figure size 1440x576 with 2 Axes>"
            ]
          },
          "metadata": {
            "tags": [],
            "needs_background": "light"
          }
        }
      ]
    },
    {
      "cell_type": "markdown",
      "metadata": {
        "id": "XPgdrQT3p9bc"
      },
      "source": [
        "## Evaluate on a Test set"
      ]
    },
    {
      "cell_type": "code",
      "metadata": {
        "id": "JIYD39HU6tTs"
      },
      "source": [
        "# load the trained model\n",
        "model.load_weights(\"/content/drive/MyDrive/english-nepali/checkpoints/model_checkpoint.h5\")\n",
        "# compile model\n",
        "model.compile(loss='sparse_categorical_crossentropy', optimizer='adam', metrics=[\"accuracy\"])"
      ],
      "execution_count": null,
      "outputs": []
    },
    {
      "cell_type": "code",
      "metadata": {
        "colab": {
          "base_uri": "https://localhost:8080/"
        },
        "id": "hA8WIoijpzVW",
        "outputId": "84b50dbe-4e9a-4051-9af0-16e18f1945c1"
      },
      "source": [
        "loss, acc = model.evaluate(test_dataset, verbose=0)\n",
        "print(\"{:25s}\".format(\"Performance on Test Set\"))\n",
        "print(\"Loss: {}\\nAccuracy: {:.2f}%\".format(loss, acc*100))"
      ],
      "execution_count": null,
      "outputs": [
        {
          "output_type": "stream",
          "text": [
            "Performance on Test Set  \n",
            "Loss: 1.9797987937927246\n",
            "Accuracy: 55.26%\n"
          ],
          "name": "stdout"
        }
      ]
    },
    {
      "cell_type": "code",
      "metadata": {
        "id": "SvR4d6lwqCJG"
      },
      "source": [
        "def prepare_data(sent):\n",
        "    sent_tokens = english_tokenizer.texts_to_sequences([sent])\n",
        "    ragged_tokens = tf.ragged.constant(sent_tokens)\n",
        "    return ragged_tokens.to_tensor(shape=(None, english_maxlen))"
      ],
      "execution_count": null,
      "outputs": []
    },
    {
      "cell_type": "code",
      "metadata": {
        "id": "BtyPvCUSqMyG"
      },
      "source": [
        "# write a function which returns the translated text in hindi\n",
        "def translate(eng_sent, model):\n",
        "    \n",
        "    # prepare y_pred\n",
        "    Y_pred = tf.fill(dims=(1, 1), value=2)\n",
        "    # prepare encoder input\n",
        "    X_encoder = prepare_data(eng_sent)\n",
        "    \n",
        "    index = 0\n",
        "    next_ = 0\n",
        "    # loop until max target length or until end token is predicted\n",
        "    while index < nepali_maxlen and next_ != 2:\n",
        "        # calculate the padding size\n",
        "        padsize = nepali_maxlen - Y_pred.shape[1]\n",
        "        # create input for decoder\n",
        "        X_decoder = tf.pad(Y_pred, [[0, 0], [0, padsize]])\n",
        "        # get the probabilities of next prediction\n",
        "        Y_proba = model.predict([X_encoder, X_decoder])[:, index:index+1]\n",
        "        # get the next predicted token\n",
        "        Y_proba_next = tf.argmax(Y_proba, axis=-1, output_type=tf.int32)\n",
        "        # concatenate with Y_pred to predict next word\n",
        "        Y_pred = tf.concat([Y_pred, Y_proba_next], axis=1)\n",
        "        # assign current predicted token to next\n",
        "        next_ = Y_proba_next.numpy()[0][0]\n",
        "        # increment the index value\n",
        "        index += 1\n",
        "    # translate the sentences and return all except start and end tokens\n",
        "    translated_sent = nepali_tokenizer.sequences_to_texts(Y_pred.numpy())\n",
        "    return \" \".join(translated_sent[0].split()[1:-1])"
      ],
      "execution_count": null,
      "outputs": []
    },
    {
      "cell_type": "code",
      "metadata": {
        "id": "21DqXrpTqPDt"
      },
      "source": [
        "# write a function to calculate similarity score between two sentence\n",
        "def calculate_score(org, pred):\n",
        "  set_r = set(org.split()).intersection(set(pred.split()))\n",
        "  correct_cnt = len(set_r)\n",
        "  return correct_cnt / len(org.split())\n"
      ],
      "execution_count": null,
      "outputs": []
    },
    {
      "cell_type": "markdown",
      "metadata": {
        "id": "aePBWFHhPag5"
      },
      "source": [
        "## Results"
      ]
    },
    {
      "cell_type": "code",
      "metadata": {
        "colab": {
          "base_uri": "https://localhost:8080/",
          "height": 204
        },
        "id": "iFMKgZzSqR1I",
        "outputId": "be098c22-ccb9-4998-9169-e292a3a5588b"
      },
      "source": [
        "# list of sentences to translate\n",
        "english_test = list(X_test.values)\n",
        "# original translation\n",
        "nepali_test = list(y_test.values)\n",
        "\n",
        "# initialize a list to store model translation\n",
        "translations = []\n",
        "\n",
        "# load model trained weights\n",
        "model.load_weights(\"/content/drive/MyDrive/english-nepali/checkpoints/model_checkpoint.h5\")\n",
        "\n",
        "# loop over all english sentences\n",
        "for sent in english_test:\n",
        "  translation = translate(sent, model)\n",
        "  translations.append(translation)\n",
        "\n",
        "# create a dataframe\n",
        "prediction_df = pd.DataFrame()\n",
        "prediction_df['English'] = english_test\n",
        "prediction_df['Nepali'] = nepali_test\n",
        "prediction_df['Predicted'] = translations\n",
        "\n",
        "# remove start and end tokens\n",
        "prediction_df['English'] = prediction_df.English.str.strip('start_')\n",
        "prediction_df['English'] = prediction_df.English.str.strip('end_')\n",
        "\n",
        "prediction_df['Nepali'] = prediction_df.Nepali.str.strip('start_')\n",
        "prediction_df['Nepali'] = prediction_df.Nepali.str.strip('end_')\n",
        "\n",
        "# Calculate sentence similarity scores\n",
        "scores = []\n",
        "for row in prediction_df.itertuples():\n",
        "  org = row.Nepali\n",
        "  pred = row.Predicted\n",
        "  score = calculate_score(org, pred)\n",
        "  scores.append(score)\n",
        "\n",
        "prediction_df['score'] = scores\n",
        "\n",
        "# sort the dataframe from highest score to lowest\n",
        "prediction_df = prediction_df.sort_values(by='score', ascending=False)\n",
        "prediction_df.head()"
      ],
      "execution_count": null,
      "outputs": [
        {
          "output_type": "execute_result",
          "data": {
            "text/html": [
              "<div>\n",
              "<style scoped>\n",
              "    .dataframe tbody tr th:only-of-type {\n",
              "        vertical-align: middle;\n",
              "    }\n",
              "\n",
              "    .dataframe tbody tr th {\n",
              "        vertical-align: top;\n",
              "    }\n",
              "\n",
              "    .dataframe thead th {\n",
              "        text-align: right;\n",
              "    }\n",
              "</style>\n",
              "<table border=\"1\" class=\"dataframe\">\n",
              "  <thead>\n",
              "    <tr style=\"text-align: right;\">\n",
              "      <th></th>\n",
              "      <th>English</th>\n",
              "      <th>Nepali</th>\n",
              "      <th>Predicted</th>\n",
              "      <th>score</th>\n",
              "    </tr>\n",
              "  </thead>\n",
              "  <tbody>\n",
              "    <tr>\n",
              "      <th>170</th>\n",
              "      <td>this is not mine</td>\n",
              "      <td>यो मेरो होइन</td>\n",
              "      <td>यो मेरो होइन</td>\n",
              "      <td>1.0</td>\n",
              "    </tr>\n",
              "    <tr>\n",
              "      <th>422</th>\n",
              "      <td>i am sick</td>\n",
              "      <td>म बिरामी छु</td>\n",
              "      <td>म बिरामी छु</td>\n",
              "      <td>1.0</td>\n",
              "    </tr>\n",
              "    <tr>\n",
              "      <th>906</th>\n",
              "      <td>my house is here</td>\n",
              "      <td>मेरो घर यहाँ छ</td>\n",
              "      <td>मेरो घर यहाँ छ</td>\n",
              "      <td>1.0</td>\n",
              "    </tr>\n",
              "    <tr>\n",
              "      <th>162</th>\n",
              "      <td>i work</td>\n",
              "      <td>म काम गर्छु</td>\n",
              "      <td>म काम गर्छु</td>\n",
              "      <td>1.0</td>\n",
              "    </tr>\n",
              "    <tr>\n",
              "      <th>80</th>\n",
              "      <td>i will watch it</td>\n",
              "      <td>म यसलाई हेर्नेछु</td>\n",
              "      <td>म यसलाई हेर्नेछु</td>\n",
              "      <td>1.0</td>\n",
              "    </tr>\n",
              "  </tbody>\n",
              "</table>\n",
              "</div>"
            ],
            "text/plain": [
              "                English              Nepali         Predicted  score\n",
              "170   this is not mine        यो मेरो होइन       यो मेरो होइन    1.0\n",
              "422          i am sick         म बिरामी छु        म बिरामी छु    1.0\n",
              "906   my house is here      मेरो घर यहाँ छ     मेरो घर यहाँ छ    1.0\n",
              "162             i work         म काम गर्छु        म काम गर्छु    1.0\n",
              "80     i will watch it    म यसलाई हेर्नेछु   म यसलाई हेर्नेछु    1.0"
            ]
          },
          "metadata": {
            "tags": []
          },
          "execution_count": 18
        }
      ]
    },
    {
      "cell_type": "code",
      "metadata": {
        "colab": {
          "base_uri": "https://localhost:8080/"
        },
        "id": "Le8nLDZUOB6G",
        "outputId": "ca75ecc2-2470-4439-f5b8-26f6b59cf573"
      },
      "source": [
        "print(\"Total perfect predictions: {}/{}\".format(len(prediction_df[prediction_df.score == 1.0]), len(X_test)))"
      ],
      "execution_count": null,
      "outputs": [
        {
          "output_type": "stream",
          "text": [
            "Total perfect predictions: 17/989\n"
          ],
          "name": "stdout"
        }
      ]
    },
    {
      "cell_type": "code",
      "metadata": {
        "colab": {
          "base_uri": "https://localhost:8080/",
          "height": 279
        },
        "id": "kEDRSsbtLVVD",
        "outputId": "6e8b3e9f-81e6-423e-ffcb-f92e34408c61"
      },
      "source": [
        "# Plot the score distribution\n",
        "prediction_df.score.hist()\n",
        "plt.xlabel(\"Similarity Score\")\n",
        "plt.ylabel(\"Count\")\n",
        "plt.show()"
      ],
      "execution_count": null,
      "outputs": [
        {
          "output_type": "display_data",
          "data": {
            "image/png": "[encoded data removed]",
            "text/plain": [
              "<Figure size 432x288 with 1 Axes>"
            ]
          },
          "metadata": {
            "tags": [],
            "needs_background": "light"
          }
        }
      ]
    },
    {
      "cell_type": "markdown",
      "metadata": {
        "id": "5pXs8Gn_LXgc"
      },
      "source": [
        "## Attention-Based Model"
      ]
    },
    {
      "cell_type": "markdown",
      "metadata": {
        "id": "w6gI6BjM_BQ_"
      },
      "source": [
        "### Encoder"
      ]
    },
    {
      "cell_type": "code",
      "metadata": {
        "id": "8FVDEF_2_Jye"
      },
      "source": [
        "embedding_dim = 300\n",
        "units = 256\n",
        "BATCH_SIZE = 64\n",
        "steps_per_epoch = X_train.shape[0] // BATCH_SIZE\n",
        "val_steps_per_epoch = X_valid.shape[0] // BATCH_SIZE"
      ],
      "execution_count": null,
      "outputs": []
    },
    {
      "cell_type": "code",
      "metadata": {
        "id": "Y460EMGN-_4e"
      },
      "source": [
        "class Encoder(tf.keras.Model):\n",
        "    def __init__(self, vocab_size, embedding_dim, enc_units,\n",
        "                batch_size):\n",
        "        super(Encoder, self).__init__()\n",
        "        self.batch_size = batch_size\n",
        "        self.enc_units = enc_units\n",
        "        self.embedding = Embedding(vocab_size+1, embedding_dim)\n",
        "        self.gru = GRU(self.enc_units,\n",
        "                       return_sequences=True,\n",
        "                       return_state=True,\n",
        "                       recurrent_initializer=\"glorot_uniform\")\n",
        "    \n",
        "    def call(self, x, hidden):\n",
        "        x = self.embedding(x)\n",
        "        output, state = self.gru(x, initial_state=hidden)\n",
        "        return output, state\n",
        "    \n",
        "    def initialize_hidden_state(self):\n",
        "        return tf.zeros((self.batch_size, self.enc_units))\n",
        "    \n",
        "encoder = Encoder(english_vocabsize, embedding_dim, units, BATCH_SIZE)"
      ],
      "execution_count": null,
      "outputs": []
    },
    {
      "cell_type": "markdown",
      "metadata": {
        "id": "P_TfLXgC_bgw"
      },
      "source": [
        "### Attention"
      ]
    },
    {
      "cell_type": "code",
      "metadata": {
        "id": "OOLgUXMr_DTn"
      },
      "source": [
        "class BahdanauAttention(tf.keras.layers.Layer):\n",
        "    def __init__(self, units):\n",
        "        super(BahdanauAttention, self).__init__()\n",
        "        self.W1 = keras.layers.Dense(units)\n",
        "        self.W2 = keras.layers.Dense(units)\n",
        "        self.V = keras.layers.Dense(1)\n",
        "        \n",
        "    def call(self, query, values):\n",
        "        hidden_with_time_axis = tf.expand_dims(query, 1)\n",
        "        score = self.V(tf.nn.tanh(\n",
        "            self.W1(values) + self.W2(hidden_with_time_axis)))\n",
        "        attention_weights = tf.nn.softmax(score, axis=1)\n",
        "        context_vector = attention_weights * values\n",
        "        context_vector = tf.reduce_sum(context_vector, axis=1)\n",
        "        return context_vector, attention_weights"
      ],
      "execution_count": null,
      "outputs": []
    },
    {
      "cell_type": "markdown",
      "metadata": {
        "id": "5kPiHSU__gMs"
      },
      "source": [
        "### Decoder"
      ]
    },
    {
      "cell_type": "code",
      "metadata": {
        "id": "M6mzN5-k_dRD"
      },
      "source": [
        "class Decoder(keras.Model):\n",
        "    def __init__(self, vocab_size, embedding_dim, dec_units,\n",
        "                 batch_size):\n",
        "        super(Decoder, self).__init__()\n",
        "        self.batch_size = batch_size\n",
        "        self.dec_units = dec_units\n",
        "        self.embedding = Embedding(vocab_size+1, embedding_dim)\n",
        "        self.gru = GRU(dec_units,\n",
        "                       return_sequences=True,\n",
        "                       return_state=True,\n",
        "                       recurrent_initializer=\"glorot_uniform\")\n",
        "        self.fc = keras.layers.Dense(vocab_size+1)\n",
        "        self.attention = BahdanauAttention(self.dec_units)\n",
        "        \n",
        "    def call(self, x, hidden, enc_output):\n",
        "        context_vector, attention_weights = self.attention(hidden,\n",
        "                                                           enc_output)\n",
        "        x = self.embedding(x)\n",
        "        x = tf.concat([tf.expand_dims(context_vector, 1), x], axis=-1)\n",
        "        output, state = self.gru(x)\n",
        "        output = tf.reshape(output, (-1, output.shape[2]))\n",
        "        x = self.fc(output)\n",
        "        return x, state, attention_weights\n",
        "    \n",
        "decoder = Decoder(nepali_vocabsize, embedding_dim, units, BATCH_SIZE)\n"
      ],
      "execution_count": null,
      "outputs": []
    },
    {
      "cell_type": "markdown",
      "metadata": {
        "id": "fc2S1Bw4_rIh"
      },
      "source": [
        "### Define Optimizer and the Loss Function"
      ]
    },
    {
      "cell_type": "code",
      "metadata": {
        "id": "ZFigZYY2_hKl"
      },
      "source": [
        "optimizer = keras.optimizers.Adam()\n",
        "loss_object = keras.losses.SparseCategoricalCrossentropy(from_logits=True,\n",
        "                                                         reduction='none')\n",
        "\n",
        "def loss_function(y_true, y_pred):\n",
        "    # mask = tf.math.logical_not(tf.math.equal(true, 0))\n",
        "    loss_ = loss_object(y_true, y_pred)\n",
        "    mask = tf.cast(y_true != 0, tf.float32)\n",
        "    loss_ *= mask\n",
        "    return tf.reduce_mean(loss_)"
      ],
      "execution_count": null,
      "outputs": []
    },
    {
      "cell_type": "code",
      "metadata": {
        "id": "D6lZzczD_yVm"
      },
      "source": [
        "# Create checkpoints\n",
        "checkpoint_dir = \"/content/drive/MyDrive/english-nepali/checkpoints\"\n",
        "checkpoint_prefix = os.path.join(checkpoint_dir, \"ckpt\")\n",
        "checkpoint = tf.train.Checkpoint(optimizer=optimizer,\n",
        "                                 encoder=encoder,\n",
        "                                 decoder=decoder)"
      ],
      "execution_count": null,
      "outputs": []
    },
    {
      "cell_type": "markdown",
      "metadata": {
        "id": "RtYAEFn8AGlo"
      },
      "source": [
        "### Training the Model"
      ]
    },
    {
      "cell_type": "code",
      "metadata": {
        "id": "st_O8jSVB21L"
      },
      "source": [
        "# write a new function to create dataset for attention based model\n",
        "def create_dataset_2(source, target, src_tokenizer=english_tokenizer, tar_tokenizer=nepali_tokenizer, batch_size=BATCH_SIZE):\n",
        "    source_in = src_tokenizer.texts_to_sequences(source)\n",
        "    target = tar_tokenizer.texts_to_sequences(target)\n",
        "    \n",
        "    # convert to ragged tensor\n",
        "    source_in = tf.ragged.constant(source_in)\n",
        "    target = tf.ragged.constant(target)\n",
        "    \n",
        "    # pad all data to max len\n",
        "    source_in_padded = source_in.to_tensor(default_value=0)\n",
        "    target_out_padded = target.to_tensor(default_value=0)\n",
        "    \n",
        "    # create a tensorflow datasest\n",
        "    dataset = tf.data.Dataset.from_tensor_slices((source_in_padded, target_out_padded))\n",
        "    # batch and prefetch dataset\n",
        "    dataset = dataset.batch(batch_size).prefetch(1)\n",
        "    return dataset"
      ],
      "execution_count": null,
      "outputs": []
    },
    {
      "cell_type": "code",
      "metadata": {
        "id": "mn_tPAv_CK3Q"
      },
      "source": [
        "# create a dataset comaptible with Attention Model\n",
        "train_dataset_2 = create_dataset_2(X_train, y_train)\n",
        "valid_dataset_2 = create_dataset_2(X_valid, y_valid)"
      ],
      "execution_count": null,
      "outputs": []
    },
    {
      "cell_type": "code",
      "metadata": {
        "colab": {
          "base_uri": "https://localhost:8080/"
        },
        "id": "-Nlsf6TjtTwG",
        "outputId": "8fac7d99-0343-4811-c760-8cb88e981665"
      },
      "source": [
        "for row in train_dataset_2:\n",
        "  print(english_tokenizer.sequences_to_texts([row[0][0, :].numpy()]))\n",
        "  # print(nepali_tokenizer.sequences_to_texts([row[0][1][0, :].numpy()]))\n",
        "  print(nepali_tokenizer.sequences_to_texts([row[1][0, :].numpy()]))\n",
        "  break"
      ],
      "execution_count": null,
      "outputs": [
        {
          "output_type": "stream",
          "text": [
            "['start_ i like puzzles end_']\n",
            "['start_ मलाई पजलहरू मन पर्छ end_']\n"
          ],
          "name": "stdout"
        }
      ]
    },
    {
      "cell_type": "code",
      "metadata": {
        "id": "6xCHf0BHAFmm"
      },
      "source": [
        "@tf.function\n",
        "def train_step(inp, targ, enc_hidden, test=False):\n",
        "    loss = 0\n",
        "    val_loss = 0\n",
        "    with tf.GradientTape() as tape:\n",
        "        enc_output, enc_hidden = encoder(inp, enc_hidden)\n",
        "        dec_hidden = enc_hidden\n",
        "        dec_input = tf.expand_dims([english_tokenizer.word_index['start_']]*BATCH_SIZE, 1)\n",
        "        \n",
        "        if test:\n",
        "          # teacher forcing method\n",
        "          for i in range(1, targ.shape[1]):\n",
        "              predictions, dec_hidden, _ = decoder(dec_input, dec_hidden, enc_output)\n",
        "              val_loss += loss_function(targ[:, i], predictions)\n",
        "              predicted_tokens = tf.argmax(predictions, axis=-1)\n",
        "              dec_input = tf.expand_dims(predicted_tokens, 1)\n",
        "              return val_loss / targ.shape[0]\n",
        "\n",
        "\n",
        "        # teacher forcing method\n",
        "        for i in range(1, targ.shape[1]):\n",
        "            predictions, dec_hidden, _ = decoder(dec_input, dec_hidden, enc_output)\n",
        "            loss += loss_function(targ[:, i], predictions)\n",
        "            dec_input = tf.expand_dims(targ[:, i], 1)\n",
        "            \n",
        "        batch_loss = (loss / int(targ.shape[0]))\n",
        "        variables = encoder.trainable_variables + decoder.trainable_variables\n",
        "        gradients = tape.gradient(loss, variables)\n",
        "        optimizer.apply_gradients(zip(gradients, variables))\n",
        "        return batch_loss\n"
      ],
      "execution_count": null,
      "outputs": []
    },
    {
      "cell_type": "code",
      "metadata": {
        "colab": {
          "base_uri": "https://localhost:8080/"
        },
        "id": "xV83gOc1ALE3",
        "outputId": "2526a62a-88de-4f25-aaef-c7bc1a881b85"
      },
      "source": [
        "# train for 60 epochs\n",
        "EPOCHS = 60\n",
        "training_loss, validation_loss = [], []\n",
        "# initialize previous validation loss to a large value\n",
        "# prev_val_loss = np.inf\n",
        "\n",
        "# loop over number of epochs\n",
        "for epoch in range(EPOCHS):\n",
        "    start = time.time()\n",
        "    # initialize encoder's hidden state\n",
        "    enc_hidden = encoder.initialize_hidden_state()\n",
        "    # initialize total training loss\n",
        "    total_loss = 0\n",
        "    # initialize total validation loss\n",
        "    total_val_loss = 0\n",
        "\n",
        "    # loop over all training batches\n",
        "    for (batch, (inp, targ)) in enumerate(train_dataset_2.take(steps_per_epoch)):\n",
        "        # calculate batch loss\n",
        "        batch_loss = train_step(inp, targ, enc_hidden)\n",
        "        # update total loss\n",
        "        total_loss += batch_loss\n",
        "        # print loss after every 100 batches\n",
        "        if batch % 100 == 0:\n",
        "            print(\"Epoch {} Batch {} Loss {:.4f}\".format(epoch+1,\n",
        "                                                         batch,\n",
        "                                                         batch_loss.numpy()))\n",
        "    \n",
        "    # loop over all validation batches\n",
        "    for (batch, (inp, targ)) in enumerate(valid_dataset_2.take(val_steps_per_epoch)):\n",
        "      val_loss = train_step(inp, targ, enc_hidden, test=True)\n",
        "      total_val_loss += val_loss\n",
        "\n",
        "    # save model every five epochs\n",
        "    if (epoch+1 % 5 == 0):\n",
        "      checkpoint.save(file_prefix=checkpoint_prefix)\n",
        "\n",
        "    # calculate current validation loss\n",
        "    # current_val_loss = total_val_loss / val_steps_per_epoch\n",
        "    \n",
        "    # save model if validation_loss improves\n",
        "    # if current_val_loss < prev_val_loss:\n",
        "    #   print(\"[INFO] Validation loss improved from {} to {}, saving model weights...\".format(prev_val_loss, \n",
        "    #                                                                current_val_loss))\n",
        "    #   checkpoint.save(file_prefix=checkpoint_prefix)\n",
        "    #   # update previous validation loss\n",
        "    #   prev_val_loss = current_val_loss\n",
        "    \n",
        "    # Display training status\n",
        "    print(\"Epoch {} [Training Loss] : {:.4f}\".format(epoch+1,\n",
        "                                        total_loss / steps_per_epoch))\n",
        "    print(\"Epoch {} [Validation Loss] : {:.4f}\".format(epoch+1,\n",
        "                                        total_val_loss / val_steps_per_epoch))\n",
        "    print(\"Time taken for 1 epoch {} sec\\n\".format(time.time() - start))\n",
        "\n",
        "    # store training loss\n",
        "    training_loss.append(total_loss / steps_per_epoch)\n",
        "    # store validation loss\n",
        "    validation_loss.append(total_val_loss / val_steps_per_epoch)"
      ],
      "execution_count": null,
      "outputs": [
        {
          "output_type": "stream",
          "text": [
            "Epoch 1 Batch 0 Loss 0.5585\n",
            "Epoch 1 Batch 100 Loss 0.3195\n",
            "Epoch 1 [Training Loss] : 0.3741\n",
            "Epoch 1 [Validation Loss] : 0.0726\n",
            "Time taken for 1 epoch 12.214845418930054 sec\n",
            "\n",
            "Epoch 2 Batch 0 Loss 0.3268\n",
            "Epoch 2 Batch 100 Loss 0.2953\n",
            "Epoch 2 [Training Loss] : 0.3091\n",
            "Epoch 2 [Validation Loss] : 0.0672\n",
            "Time taken for 1 epoch 4.753885269165039 sec\n",
            "\n",
            "Epoch 3 Batch 0 Loss 0.2967\n",
            "Epoch 3 Batch 100 Loss 0.2735\n",
            "Epoch 3 [Training Loss] : 0.2878\n",
            "Epoch 3 [Validation Loss] : 0.0595\n",
            "Time taken for 1 epoch 4.77759861946106 sec\n",
            "\n",
            "Epoch 4 Batch 0 Loss 0.2740\n",
            "Epoch 4 Batch 100 Loss 0.2582\n",
            "Epoch 4 [Training Loss] : 0.2705\n",
            "Epoch 4 [Validation Loss] : 0.0538\n",
            "Time taken for 1 epoch 4.646082878112793 sec\n",
            "\n",
            "Epoch 5 Batch 0 Loss 0.2547\n",
            "Epoch 5 Batch 100 Loss 0.2446\n",
            "Epoch 5 [Training Loss] : 0.2532\n",
            "Epoch 5 [Validation Loss] : 0.0495\n",
            "Time taken for 1 epoch 4.698887825012207 sec\n",
            "\n",
            "Epoch 6 Batch 0 Loss 0.2382\n",
            "Epoch 6 Batch 100 Loss 0.2300\n",
            "Epoch 6 [Training Loss] : 0.2367\n",
            "Epoch 6 [Validation Loss] : 0.0446\n",
            "Time taken for 1 epoch 4.695701837539673 sec\n",
            "\n",
            "Epoch 7 Batch 0 Loss 0.2227\n",
            "Epoch 7 Batch 100 Loss 0.2171\n",
            "Epoch 7 [Training Loss] : 0.2218\n",
            "Epoch 7 [Validation Loss] : 0.0420\n",
            "Time taken for 1 epoch 4.716171026229858 sec\n",
            "\n",
            "Epoch 8 Batch 0 Loss 0.2076\n",
            "Epoch 8 Batch 100 Loss 0.2064\n",
            "Epoch 8 [Training Loss] : 0.2083\n",
            "Epoch 8 [Validation Loss] : 0.0402\n",
            "Time taken for 1 epoch 4.695937156677246 sec\n",
            "\n",
            "Epoch 9 Batch 0 Loss 0.1947\n",
            "Epoch 9 Batch 100 Loss 0.1931\n",
            "Epoch 9 [Training Loss] : 0.1953\n",
            "Epoch 9 [Validation Loss] : 0.0395\n",
            "Time taken for 1 epoch 4.838980674743652 sec\n",
            "\n",
            "Epoch 10 Batch 0 Loss 0.1832\n",
            "Epoch 10 Batch 100 Loss 0.1805\n",
            "Epoch 10 [Training Loss] : 0.1831\n",
            "Epoch 10 [Validation Loss] : 0.0391\n",
            "Time taken for 1 epoch 4.7708635330200195 sec\n",
            "\n",
            "Epoch 11 Batch 0 Loss 0.1741\n",
            "Epoch 11 Batch 100 Loss 0.1681\n",
            "Epoch 11 [Training Loss] : 0.1711\n",
            "Epoch 11 [Validation Loss] : 0.0376\n",
            "Time taken for 1 epoch 4.737465858459473 sec\n",
            "\n",
            "Epoch 12 Batch 0 Loss 0.1636\n",
            "Epoch 12 Batch 100 Loss 0.1550\n",
            "Epoch 12 [Training Loss] : 0.1585\n",
            "Epoch 12 [Validation Loss] : 0.0373\n",
            "Time taken for 1 epoch 4.764638662338257 sec\n",
            "\n",
            "Epoch 13 Batch 0 Loss 0.1525\n",
            "Epoch 13 Batch 100 Loss 0.1441\n",
            "Epoch 13 [Training Loss] : 0.1463\n",
            "Epoch 13 [Validation Loss] : 0.0369\n",
            "Time taken for 1 epoch 4.627782583236694 sec\n",
            "\n",
            "Epoch 14 Batch 0 Loss 0.1389\n",
            "Epoch 14 Batch 100 Loss 0.1310\n",
            "Epoch 14 [Training Loss] : 0.1344\n",
            "Epoch 14 [Validation Loss] : 0.0363\n",
            "Time taken for 1 epoch 4.760730743408203 sec\n",
            "\n",
            "Epoch 15 Batch 0 Loss 0.1269\n",
            "Epoch 15 Batch 100 Loss 0.1203\n",
            "Epoch 15 [Training Loss] : 0.1231\n",
            "Epoch 15 [Validation Loss] : 0.0364\n",
            "Time taken for 1 epoch 4.749315023422241 sec\n",
            "\n",
            "Epoch 16 Batch 0 Loss 0.1163\n",
            "Epoch 16 Batch 100 Loss 0.1087\n",
            "Epoch 16 [Training Loss] : 0.1126\n",
            "Epoch 16 [Validation Loss] : 0.0366\n",
            "Time taken for 1 epoch 4.767488718032837 sec\n",
            "\n",
            "Epoch 17 Batch 0 Loss 0.1071\n",
            "Epoch 17 Batch 100 Loss 0.0981\n",
            "Epoch 17 [Training Loss] : 0.1026\n",
            "Epoch 17 [Validation Loss] : 0.0359\n",
            "Time taken for 1 epoch 4.745527029037476 sec\n",
            "\n",
            "Epoch 18 Batch 0 Loss 0.0962\n",
            "Epoch 18 Batch 100 Loss 0.0872\n",
            "Epoch 18 [Training Loss] : 0.0931\n",
            "Epoch 18 [Validation Loss] : 0.0357\n",
            "Time taken for 1 epoch 4.619892597198486 sec\n",
            "\n",
            "Epoch 19 Batch 0 Loss 0.0875\n",
            "Epoch 19 Batch 100 Loss 0.0773\n",
            "Epoch 19 [Training Loss] : 0.0831\n",
            "Epoch 19 [Validation Loss] : 0.0357\n",
            "Time taken for 1 epoch 4.636857032775879 sec\n",
            "\n",
            "Epoch 20 Batch 0 Loss 0.0790\n",
            "Epoch 20 Batch 100 Loss 0.0677\n",
            "Epoch 20 [Training Loss] : 0.0734\n",
            "Epoch 20 [Validation Loss] : 0.0359\n",
            "Time taken for 1 epoch 4.624987840652466 sec\n",
            "\n",
            "Epoch 21 Batch 0 Loss 0.0707\n",
            "Epoch 21 Batch 100 Loss 0.0597\n",
            "Epoch 21 [Training Loss] : 0.0645\n",
            "Epoch 21 [Validation Loss] : 0.0361\n",
            "Time taken for 1 epoch 4.633270502090454 sec\n",
            "\n",
            "Epoch 22 Batch 0 Loss 0.0644\n",
            "Epoch 22 Batch 100 Loss 0.0537\n",
            "Epoch 22 [Training Loss] : 0.0566\n",
            "Epoch 22 [Validation Loss] : 0.0359\n",
            "Time taken for 1 epoch 4.664911985397339 sec\n",
            "\n",
            "Epoch 23 Batch 0 Loss 0.0570\n",
            "Epoch 23 Batch 100 Loss 0.0450\n",
            "Epoch 23 [Training Loss] : 0.0498\n",
            "Epoch 23 [Validation Loss] : 0.0359\n",
            "Time taken for 1 epoch 4.839065790176392 sec\n",
            "\n",
            "Epoch 24 Batch 0 Loss 0.0496\n",
            "Epoch 24 Batch 100 Loss 0.0405\n",
            "Epoch 24 [Training Loss] : 0.0436\n",
            "Epoch 24 [Validation Loss] : 0.0367\n",
            "Time taken for 1 epoch 4.694781541824341 sec\n",
            "\n",
            "Epoch 25 Batch 0 Loss 0.0430\n",
            "Epoch 25 Batch 100 Loss 0.0344\n",
            "Epoch 25 [Training Loss] : 0.0381\n",
            "Epoch 25 [Validation Loss] : 0.0370\n",
            "Time taken for 1 epoch 4.616553068161011 sec\n",
            "\n",
            "Epoch 26 Batch 0 Loss 0.0361\n",
            "Epoch 26 Batch 100 Loss 0.0308\n",
            "Epoch 26 [Training Loss] : 0.0331\n",
            "Epoch 26 [Validation Loss] : 0.0372\n",
            "Time taken for 1 epoch 4.741779088973999 sec\n",
            "\n",
            "Epoch 27 Batch 0 Loss 0.0318\n",
            "Epoch 27 Batch 100 Loss 0.0272\n",
            "Epoch 27 [Training Loss] : 0.0286\n",
            "Epoch 27 [Validation Loss] : 0.0371\n",
            "Time taken for 1 epoch 4.71482515335083 sec\n",
            "\n",
            "Epoch 28 Batch 0 Loss 0.0300\n",
            "Epoch 28 Batch 100 Loss 0.0236\n",
            "Epoch 28 [Training Loss] : 0.0244\n",
            "Epoch 28 [Validation Loss] : 0.0379\n",
            "Time taken for 1 epoch 4.69133996963501 sec\n",
            "\n",
            "Epoch 29 Batch 0 Loss 0.0237\n",
            "Epoch 29 Batch 100 Loss 0.0209\n",
            "Epoch 29 [Training Loss] : 0.0209\n",
            "Epoch 29 [Validation Loss] : 0.0384\n",
            "Time taken for 1 epoch 4.716306447982788 sec\n",
            "\n",
            "Epoch 30 Batch 0 Loss 0.0204\n",
            "Epoch 30 Batch 100 Loss 0.0168\n",
            "Epoch 30 [Training Loss] : 0.0180\n",
            "Epoch 30 [Validation Loss] : 0.0383\n",
            "Time taken for 1 epoch 4.628756523132324 sec\n",
            "\n",
            "Epoch 31 Batch 0 Loss 0.0174\n",
            "Epoch 31 Batch 100 Loss 0.0148\n",
            "Epoch 31 [Training Loss] : 0.0156\n",
            "Epoch 31 [Validation Loss] : 0.0385\n",
            "Time taken for 1 epoch 4.728267192840576 sec\n",
            "\n",
            "Epoch 32 Batch 0 Loss 0.0152\n",
            "Epoch 32 Batch 100 Loss 0.0131\n",
            "Epoch 32 [Training Loss] : 0.0136\n",
            "Epoch 32 [Validation Loss] : 0.0391\n",
            "Time taken for 1 epoch 4.675764799118042 sec\n",
            "\n",
            "Epoch 33 Batch 0 Loss 0.0136\n",
            "Epoch 33 Batch 100 Loss 0.0119\n",
            "Epoch 33 [Training Loss] : 0.0119\n",
            "Epoch 33 [Validation Loss] : 0.0390\n",
            "Time taken for 1 epoch 4.689434051513672 sec\n",
            "\n",
            "Epoch 34 Batch 0 Loss 0.0122\n",
            "Epoch 34 Batch 100 Loss 0.0110\n",
            "Epoch 34 [Training Loss] : 0.0104\n",
            "Epoch 34 [Validation Loss] : 0.0397\n",
            "Time taken for 1 epoch 4.626724720001221 sec\n",
            "\n",
            "Epoch 35 Batch 0 Loss 0.0105\n",
            "Epoch 35 Batch 100 Loss 0.0102\n",
            "Epoch 35 [Training Loss] : 0.0092\n",
            "Epoch 35 [Validation Loss] : 0.0403\n",
            "Time taken for 1 epoch 4.650890588760376 sec\n",
            "\n",
            "Epoch 36 Batch 0 Loss 0.0097\n",
            "Epoch 36 Batch 100 Loss 0.0087\n",
            "Epoch 36 [Training Loss] : 0.0081\n",
            "Epoch 36 [Validation Loss] : 0.0407\n",
            "Time taken for 1 epoch 4.654057741165161 sec\n",
            "\n",
            "Epoch 37 Batch 0 Loss 0.0086\n",
            "Epoch 37 Batch 100 Loss 0.0082\n",
            "Epoch 37 [Training Loss] : 0.0074\n",
            "Epoch 37 [Validation Loss] : 0.0413\n",
            "Time taken for 1 epoch 4.810857057571411 sec\n",
            "\n",
            "Epoch 38 Batch 0 Loss 0.0074\n",
            "Epoch 38 Batch 100 Loss 0.0072\n",
            "Epoch 38 [Training Loss] : 0.0065\n",
            "Epoch 38 [Validation Loss] : 0.0414\n",
            "Time taken for 1 epoch 4.689465522766113 sec\n",
            "\n",
            "Epoch 39 Batch 0 Loss 0.0068\n",
            "Epoch 39 Batch 100 Loss 0.0074\n",
            "Epoch 39 [Training Loss] : 0.0058\n",
            "Epoch 39 [Validation Loss] : 0.0415\n",
            "Time taken for 1 epoch 4.661898851394653 sec\n",
            "\n",
            "Epoch 40 Batch 0 Loss 0.0057\n",
            "Epoch 40 Batch 100 Loss 0.0063\n",
            "Epoch 40 [Training Loss] : 0.0051\n",
            "Epoch 40 [Validation Loss] : 0.0417\n",
            "Time taken for 1 epoch 4.632815599441528 sec\n",
            "\n",
            "Epoch 41 Batch 0 Loss 0.0055\n",
            "Epoch 41 Batch 100 Loss 0.0059\n",
            "Epoch 41 [Training Loss] : 0.0045\n",
            "Epoch 41 [Validation Loss] : 0.0428\n",
            "Time taken for 1 epoch 4.55168342590332 sec\n",
            "\n",
            "Epoch 42 Batch 0 Loss 0.0049\n",
            "Epoch 42 Batch 100 Loss 0.0053\n",
            "Epoch 42 [Training Loss] : 0.0042\n",
            "Epoch 42 [Validation Loss] : 0.0429\n",
            "Time taken for 1 epoch 4.643142461776733 sec\n",
            "\n",
            "Epoch 43 Batch 0 Loss 0.0042\n",
            "Epoch 43 Batch 100 Loss 0.0064\n",
            "Epoch 43 [Training Loss] : 0.0042\n",
            "Epoch 43 [Validation Loss] : 0.0424\n",
            "Time taken for 1 epoch 4.59076452255249 sec\n",
            "\n",
            "Epoch 44 Batch 0 Loss 0.0049\n",
            "Epoch 44 Batch 100 Loss 0.0073\n",
            "Epoch 44 [Training Loss] : 0.0040\n",
            "Epoch 44 [Validation Loss] : 0.0432\n",
            "Time taken for 1 epoch 4.592899560928345 sec\n",
            "\n",
            "Epoch 45 Batch 0 Loss 0.0042\n",
            "Epoch 45 Batch 100 Loss 0.0056\n",
            "Epoch 45 [Training Loss] : 0.0036\n",
            "Epoch 45 [Validation Loss] : 0.0434\n",
            "Time taken for 1 epoch 4.640406131744385 sec\n",
            "\n",
            "Epoch 46 Batch 0 Loss 0.0041\n",
            "Epoch 46 Batch 100 Loss 0.0051\n",
            "Epoch 46 [Training Loss] : 0.0034\n",
            "Epoch 46 [Validation Loss] : 0.0438\n",
            "Time taken for 1 epoch 4.469801187515259 sec\n",
            "\n",
            "Epoch 47 Batch 0 Loss 0.0035\n",
            "Epoch 47 Batch 100 Loss 0.0047\n",
            "Epoch 47 [Training Loss] : 0.0030\n",
            "Epoch 47 [Validation Loss] : 0.0442\n",
            "Time taken for 1 epoch 4.596174240112305 sec\n",
            "\n",
            "Epoch 48 Batch 0 Loss 0.0032\n",
            "Epoch 48 Batch 100 Loss 0.0043\n",
            "Epoch 48 [Training Loss] : 0.0026\n",
            "Epoch 48 [Validation Loss] : 0.0445\n",
            "Time taken for 1 epoch 4.56603217124939 sec\n",
            "\n",
            "Epoch 49 Batch 0 Loss 0.0027\n",
            "Epoch 49 Batch 100 Loss 0.0044\n",
            "Epoch 49 [Training Loss] : 0.0025\n",
            "Epoch 49 [Validation Loss] : 0.0445\n",
            "Time taken for 1 epoch 4.5563812255859375 sec\n",
            "\n",
            "Epoch 50 Batch 0 Loss 0.0026\n",
            "Epoch 50 Batch 100 Loss 0.0044\n",
            "Epoch 50 [Training Loss] : 0.0025\n",
            "Epoch 50 [Validation Loss] : 0.0453\n",
            "Time taken for 1 epoch 4.604448318481445 sec\n",
            "\n",
            "Epoch 51 Batch 0 Loss 0.0024\n",
            "Epoch 51 Batch 100 Loss 0.0056\n",
            "Epoch 51 [Training Loss] : 0.0041\n",
            "Epoch 51 [Validation Loss] : 0.0460\n",
            "Time taken for 1 epoch 4.706419467926025 sec\n",
            "\n",
            "Epoch 52 Batch 0 Loss 0.0053\n",
            "Epoch 52 Batch 100 Loss 0.0059\n",
            "Epoch 52 [Training Loss] : 0.0049\n",
            "Epoch 52 [Validation Loss] : 0.0443\n",
            "Time taken for 1 epoch 4.718196392059326 sec\n",
            "\n",
            "Epoch 53 Batch 0 Loss 0.0106\n",
            "Epoch 53 Batch 100 Loss 0.0056\n",
            "Epoch 53 [Training Loss] : 0.0050\n",
            "Epoch 53 [Validation Loss] : 0.0443\n",
            "Time taken for 1 epoch 4.530856132507324 sec\n",
            "\n",
            "Epoch 54 Batch 0 Loss 0.0045\n",
            "Epoch 54 Batch 100 Loss 0.0047\n",
            "Epoch 54 [Training Loss] : 0.0036\n",
            "Epoch 54 [Validation Loss] : 0.0453\n",
            "Time taken for 1 epoch 4.496258735656738 sec\n",
            "\n",
            "Epoch 55 Batch 0 Loss 0.0035\n",
            "Epoch 55 Batch 100 Loss 0.0036\n",
            "Epoch 55 [Training Loss] : 0.0025\n",
            "Epoch 55 [Validation Loss] : 0.0459\n",
            "Time taken for 1 epoch 4.550691366195679 sec\n",
            "\n",
            "Epoch 56 Batch 0 Loss 0.0027\n",
            "Epoch 56 Batch 100 Loss 0.0036\n",
            "Epoch 56 [Training Loss] : 0.0020\n",
            "Epoch 56 [Validation Loss] : 0.0454\n",
            "Time taken for 1 epoch 4.554219007492065 sec\n",
            "\n",
            "Epoch 57 Batch 0 Loss 0.0019\n",
            "Epoch 57 Batch 100 Loss 0.0029\n",
            "Epoch 57 [Training Loss] : 0.0017\n",
            "Epoch 57 [Validation Loss] : 0.0459\n",
            "Time taken for 1 epoch 4.552602291107178 sec\n",
            "\n",
            "Epoch 58 Batch 0 Loss 0.0027\n",
            "Epoch 58 Batch 100 Loss 0.0023\n",
            "Epoch 58 [Training Loss] : 0.0015\n",
            "Epoch 58 [Validation Loss] : 0.0457\n",
            "Time taken for 1 epoch 4.526494741439819 sec\n",
            "\n",
            "Epoch 59 Batch 0 Loss 0.0016\n",
            "Epoch 59 Batch 100 Loss 0.0021\n",
            "Epoch 59 [Training Loss] : 0.0013\n",
            "Epoch 59 [Validation Loss] : 0.0453\n",
            "Time taken for 1 epoch 4.725842475891113 sec\n",
            "\n",
            "Epoch 60 Batch 0 Loss 0.0018\n",
            "Epoch 60 Batch 100 Loss 0.0020\n",
            "Epoch 60 [Training Loss] : 0.0012\n",
            "Epoch 60 [Validation Loss] : 0.0459\n",
            "Time taken for 1 epoch 4.545220851898193 sec\n",
            "\n"
          ],
          "name": "stdout"
        }
      ]
    },
    {
      "cell_type": "code",
      "metadata": {
        "colab": {
          "base_uri": "https://localhost:8080/",
          "height": 265
        },
        "id": "vsUFmidtydqC",
        "outputId": "a8f5e94d-94b5-41ac-875a-b335a1260dd4"
      },
      "source": [
        "# plot training and validation loss\n",
        "plt.plot(training_loss, label='Training Loss')\n",
        "plt.plot(validation_loss, label='Validation Loss')\n",
        "plt.legend()\n",
        "plt.show()"
      ],
      "execution_count": null,
      "outputs": [
        {
          "output_type": "display_data",
          "data": {
            "image/png": "[encoded data removed]",
            "text/plain": [
              "<Figure size 432x288 with 1 Axes>"
            ]
          },
          "metadata": {
            "tags": [],
            "needs_background": "light"
          }
        }
      ]
    },
    {
      "cell_type": "code",
      "metadata": {
        "id": "zK7Dq9UbANn-"
      },
      "source": [
        "def evaluate(sentence):\n",
        "    attention_plot = np.zeros((nepali_maxlen, english_maxlen))\n",
        "    inputs = [english_tokenizer.word_index[i] for i in sentence.split()]\n",
        "    inputs = pad_sequences([inputs], maxlen=english_maxlen, padding=\"post\")\n",
        "    inputs = tf.convert_to_tensor(inputs)\n",
        "    result = ''\n",
        "    hidden = [tf.zeros((1, units))]\n",
        "    enc_output, enc_hidden = encoder(inputs, hidden)\n",
        "    dec_hidden = enc_hidden\n",
        "    dec_input = tf.expand_dims([nepali_tokenizer.word_index['start_']], 0)\n",
        "    for i in range(nepali_maxlen):\n",
        "        predictions, dec_hidden, attention_weights = decoder(dec_input, dec_hidden,\n",
        "                                                              enc_output)\n",
        "        predicted_id = tf.argmax(predictions[0]).numpy()\n",
        "        if nepali_tokenizer.index_word[predicted_id] == 'end_':\n",
        "            return result, sentence\n",
        "        result += nepali_tokenizer.index_word[predicted_id] + ' '\n",
        "        dec_input = tf.expand_dims([predicted_id], 0)\n",
        "    return result, sentence"
      ],
      "execution_count": null,
      "outputs": []
    },
    {
      "cell_type": "code",
      "metadata": {
        "id": "tDNZArcrAPtU"
      },
      "source": [
        "def translate(sentence):\n",
        "    result, sentence = evaluate(sentence)\n",
        "    # print(\"Input: {}\".format(sentence))\n",
        "    # print(\"Translated {}\".format(result))\n",
        "    return result"
      ],
      "execution_count": null,
      "outputs": []
    },
    {
      "cell_type": "code",
      "metadata": {
        "colab": {
          "base_uri": "https://localhost:8080/"
        },
        "id": "C3gHPDGAE9wJ",
        "outputId": "bdd7f466-9a6b-4d53-95a3-f81cbc876f4e"
      },
      "source": [
        "# restoring the latest checkpoint in checkpoint_dir\n",
        "checkpoint.restore(tf.train.latest_checkpoint(checkpoint_dir))"
      ],
      "execution_count": null,
      "outputs": [
        {
          "output_type": "execute_result",
          "data": {
            "text/plain": [
              "<tensorflow.python.training.tracking.util.CheckpointLoadStatus at 0x7f84d7b0e1d0>"
            ]
          },
          "metadata": {
            "tags": []
          },
          "execution_count": 101
        }
      ]
    },
    {
      "cell_type": "markdown",
      "metadata": {
        "id": "2wL_6JsVPVEy"
      },
      "source": [
        "## Results"
      ]
    },
    {
      "cell_type": "code",
      "metadata": {
        "colab": {
          "base_uri": "https://localhost:8080/",
          "height": 204
        },
        "id": "Qf61jr_pENJs",
        "outputId": "b332e777-0b51-4107-e078-d6e91e6ba8bc"
      },
      "source": [
        "# list of sentences to translate\n",
        "english_test = list(X_test.values)\n",
        "# original translation\n",
        "nepali_test = list(y_test.values)\n",
        "\n",
        "# initialize a list to store model translation\n",
        "translations = []\n",
        "\n",
        "# loop over all english sentences\n",
        "for sent in english_test:\n",
        "  translation = translate(sent)\n",
        "  translations.append(translation)\n",
        "\n",
        "# create a dataframe\n",
        "prediction_df = pd.DataFrame()\n",
        "prediction_df['English'] = english_test\n",
        "prediction_df['Nepali'] = nepali_test\n",
        "prediction_df['Predicted'] = translations\n",
        "\n",
        "# remove start and end tokens\n",
        "prediction_df['English'] = prediction_df.English.str.strip('start_')\n",
        "prediction_df['English'] = prediction_df.English.str.strip('end_')\n",
        "\n",
        "prediction_df['Nepali'] = prediction_df.Nepali.str.strip('start_')\n",
        "prediction_df['Nepali'] = prediction_df.Nepali.str.strip('end_')\n",
        "\n",
        "# Calculate sentence similarity scores\n",
        "scores = []\n",
        "for row in prediction_df.itertuples():\n",
        "  org = row.Nepali\n",
        "  pred = row.Predicted\n",
        "  score = calculate_score(org, pred)\n",
        "  scores.append(score)\n",
        "\n",
        "# add scores to dataframe\n",
        "prediction_df['score'] = scores\n",
        "\n",
        "# sort the dataframe with best highest to lowest score\n",
        "prediction_df = prediction_df.sort_values(by='score', ascending=False)\n",
        "\n",
        "# reset index\n",
        "prediction_df.reset_index(drop=True, inplace=True)\n",
        "\n",
        "# Display the top predictions\n",
        "prediction_df.head()\n"
      ],
      "execution_count": null,
      "outputs": [
        {
          "output_type": "execute_result",
          "data": {
            "text/html": [
              "<div>\n",
              "<style scoped>\n",
              "    .dataframe tbody tr th:only-of-type {\n",
              "        vertical-align: middle;\n",
              "    }\n",
              "\n",
              "    .dataframe tbody tr th {\n",
              "        vertical-align: top;\n",
              "    }\n",
              "\n",
              "    .dataframe thead th {\n",
              "        text-align: right;\n",
              "    }\n",
              "</style>\n",
              "<table border=\"1\" class=\"dataframe\">\n",
              "  <thead>\n",
              "    <tr style=\"text-align: right;\">\n",
              "      <th></th>\n",
              "      <th>English</th>\n",
              "      <th>Nepali</th>\n",
              "      <th>Predicted</th>\n",
              "      <th>score</th>\n",
              "    </tr>\n",
              "  </thead>\n",
              "  <tbody>\n",
              "    <tr>\n",
              "      <th>0</th>\n",
              "      <td>it is my book</td>\n",
              "      <td>यो मेरो किताब हो</td>\n",
              "      <td>यो मेरो किताब हो</td>\n",
              "      <td>1.0</td>\n",
              "    </tr>\n",
              "    <tr>\n",
              "      <th>1</th>\n",
              "      <td>it was delicious</td>\n",
              "      <td>यो स्वादिष्ट थियो</td>\n",
              "      <td>यो स्वादिष्ट थियो</td>\n",
              "      <td>1.0</td>\n",
              "    </tr>\n",
              "    <tr>\n",
              "      <th>2</th>\n",
              "      <td>look at that</td>\n",
              "      <td>त्यो हेर</td>\n",
              "      <td>त्यो हेर</td>\n",
              "      <td>1.0</td>\n",
              "    </tr>\n",
              "    <tr>\n",
              "      <th>3</th>\n",
              "      <td>i work</td>\n",
              "      <td>म काम गर्छु</td>\n",
              "      <td>म काम गर्छु</td>\n",
              "      <td>1.0</td>\n",
              "    </tr>\n",
              "    <tr>\n",
              "      <th>4</th>\n",
              "      <td>i can see tom</td>\n",
              "      <td>म टम देख्न सक्छु</td>\n",
              "      <td>म टम देख्न सक्छु</td>\n",
              "      <td>1.0</td>\n",
              "    </tr>\n",
              "  </tbody>\n",
              "</table>\n",
              "</div>"
            ],
            "text/plain": [
              "              English               Nepali           Predicted  score\n",
              "0      it is my book     यो मेरो किताब हो    यो मेरो किताब हो     1.0\n",
              "1   it was delicious    यो स्वादिष्ट थियो   यो स्वादिष्ट थियो     1.0\n",
              "2       look at that             त्यो हेर            त्यो हेर     1.0\n",
              "3             i work          म काम गर्छु         म काम गर्छु     1.0\n",
              "4      i can see tom     म टम देख्न सक्छु    म टम देख्न सक्छु     1.0"
            ]
          },
          "metadata": {
            "tags": []
          },
          "execution_count": 131
        }
      ]
    },
    {
      "cell_type": "code",
      "metadata": {
        "colab": {
          "base_uri": "https://localhost:8080/",
          "height": 204
        },
        "id": "g6d16SlHHmaO",
        "outputId": "4769e3ef-438a-4af6-ca0b-476238dc9246"
      },
      "source": [
        "# Worst predictions\n",
        "prediction_df.tail()"
      ],
      "execution_count": null,
      "outputs": [
        {
          "output_type": "execute_result",
          "data": {
            "text/html": [
              "<div>\n",
              "<style scoped>\n",
              "    .dataframe tbody tr th:only-of-type {\n",
              "        vertical-align: middle;\n",
              "    }\n",
              "\n",
              "    .dataframe tbody tr th {\n",
              "        vertical-align: top;\n",
              "    }\n",
              "\n",
              "    .dataframe thead th {\n",
              "        text-align: right;\n",
              "    }\n",
              "</style>\n",
              "<table border=\"1\" class=\"dataframe\">\n",
              "  <thead>\n",
              "    <tr style=\"text-align: right;\">\n",
              "      <th></th>\n",
              "      <th>English</th>\n",
              "      <th>Nepali</th>\n",
              "      <th>Predicted</th>\n",
              "      <th>score</th>\n",
              "    </tr>\n",
              "  </thead>\n",
              "  <tbody>\n",
              "    <tr>\n",
              "      <th>984</th>\n",
              "      <td>cut it in half</td>\n",
              "      <td>आधा मा काट्नुहोस्</td>\n",
              "      <td>यसलाई फ्रान्सेलीमा भन्नुहोस्</td>\n",
              "      <td>0.0</td>\n",
              "    </tr>\n",
              "    <tr>\n",
              "      <th>985</th>\n",
              "      <td>who remembers</td>\n",
              "      <td>कसले याद गर्छ</td>\n",
              "      <td>को भन</td>\n",
              "      <td>0.0</td>\n",
              "    </tr>\n",
              "    <tr>\n",
              "      <th>986</th>\n",
              "      <td>i got sunburned</td>\n",
              "      <td>म सनबर्न भयो</td>\n",
              "      <td>मैले कार्ड दिए</td>\n",
              "      <td>0.0</td>\n",
              "    </tr>\n",
              "    <tr>\n",
              "      <th>987</th>\n",
              "      <td>keep dancing</td>\n",
              "      <td>नाउने राख्नुहोस्</td>\n",
              "      <td>मरियमले गणना गर</td>\n",
              "      <td>0.0</td>\n",
              "    </tr>\n",
              "    <tr>\n",
              "      <th>988</th>\n",
              "      <td>i make the rules</td>\n",
              "      <td>म नियमहरू बनाउँछु</td>\n",
              "      <td>मैले खाजा लात</td>\n",
              "      <td>0.0</td>\n",
              "    </tr>\n",
              "  </tbody>\n",
              "</table>\n",
              "</div>"
            ],
            "text/plain": [
              "                English  ... score\n",
              "984     cut it in half   ...   0.0\n",
              "985      who remembers   ...   0.0\n",
              "986    i got sunburned   ...   0.0\n",
              "987       keep dancing   ...   0.0\n",
              "988   i make the rules   ...   0.0\n",
              "\n",
              "[5 rows x 4 columns]"
            ]
          },
          "metadata": {
            "tags": []
          },
          "execution_count": 132
        }
      ]
    },
    {
      "cell_type": "code",
      "metadata": {
        "colab": {
          "base_uri": "https://localhost:8080/"
        },
        "id": "CB8cY8_COQHd",
        "outputId": "090d724c-d25d-40e9-a36d-b50facd4caf9"
      },
      "source": [
        "print(\"Total perfect predictions: {}/{}\".format(len(prediction_df[prediction_df.score == 1.0]), len(X_test)))"
      ],
      "execution_count": null,
      "outputs": [
        {
          "output_type": "stream",
          "text": [
            "Total perfect predictions: 134/989\n"
          ],
          "name": "stdout"
        }
      ]
    },
    {
      "cell_type": "code",
      "metadata": {
        "colab": {
          "base_uri": "https://localhost:8080/",
          "height": 279
        },
        "id": "EOUshD9bPjN4",
        "outputId": "d7750923-51d0-4022-b72f-aaf5e72cb680"
      },
      "source": [
        "# Plot the score distribution\n",
        "prediction_df.score.hist()\n",
        "plt.xlabel(\"Similarity Score\")\n",
        "plt.ylabel(\"Count\")\n",
        "plt.show()"
      ],
      "execution_count": null,
      "outputs": [
        {
          "output_type": "display_data",
          "data": {
            "image/png": "[encoded data removed]",
            "text/plain": [
              "<Figure size 432x288 with 1 Axes>"
            ]
          },
          "metadata": {
            "tags": [],
            "needs_background": "light"
          }
        }
      ]
    },
    {
      "cell_type": "code",
      "metadata": {
        "id": "BzOO2LGagjaA"
      },
      "source": [
        "prediction_df.to_csv('/content/drive/MyDrive/english-nepali/data/pred-eng-nep-attn.csv', index=False)"
      ],
      "execution_count": null,
      "outputs": []
    },
    {
      "cell_type": "code",
      "metadata": {
        "id": "JRDREMm25diy",
        "colab": {
          "base_uri": "https://localhost:8080/"
        },
        "outputId": "c405d641-c848-49f7-c489-266e3dd85959"
      },
      "source": [
        "i = 0\n",
        "while True:\n",
        "  clear_output(wait=True)\n",
        "  print(prediction_df.iloc[i:i+10, [1, 2]])\n",
        "  print(\"\\nEnter m for more\")\n",
        "  more = input()\n",
        "  if more == 'm':\n",
        "    i += 10\n",
        "  else:\n",
        "    break"
      ],
      "execution_count": null,
      "outputs": [
        {
          "output_type": "stream",
          "text": [
            "                       Nepali                Predicted\n",
            "551       तिनीहरू यहाँ छैनन्       तिनीहरू यहाँ छैनन् \n",
            "531              टम यहाँ छैन              टम यहाँ छैन \n",
            "512      तिनीहरू मेरो होइनन्      तिनीहरू मेरो होइनन् \n",
            "501            यो तपाईंको हो      यो तपाईंको गल्ती हो \n",
            "440              टम तयार छैन              टम तयार छैन \n",
            "433   उसले उसलाई मद्दत गर्दछ   उसले उसलाई मद्दत गर्दछ \n",
            "422              म बिरामी छु              म बिरामी छु \n",
            "186            टम यो मन पर्छ            टम यो मन पर्छ \n",
            "36        मलाई कुकुर मन पर्छ       मलाई कुकुर मन पर्छ \n",
            "201         यो धेरै राम्रो छ         यो धेरै राम्रो छ \n",
            "\n",
            "Enter m for more\n",
            "\n"
          ],
          "name": "stdout"
        }
      ]
    },
    {
      "cell_type": "code",
      "metadata": {
        "id": "e92jG-Ko6L3Q"
      },
      "source": [
        ""
      ],
      "execution_count": null,
      "outputs": []
    }
  ]
}